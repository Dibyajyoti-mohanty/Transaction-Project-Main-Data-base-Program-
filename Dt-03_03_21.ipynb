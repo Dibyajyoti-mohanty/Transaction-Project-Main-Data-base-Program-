{
 "metadata": {
  "language_info": {
   "codemirror_mode": {
    "name": "ipython",
    "version": 3
   },
   "file_extension": ".py",
   "mimetype": "text/x-python",
   "name": "python",
   "nbconvert_exporter": "python",
   "pygments_lexer": "ipython3",
   "version": "3.9.2-final"
  },
  "orig_nbformat": 2,
  "kernelspec": {
   "name": "python3",
   "display_name": "Python 3.9.2 64-bit",
   "metadata": {
    "interpreter": {
     "hash": "f9f85f796d01129d0dd105a088854619f454435301f6ffec2fea96ecbd9be4ac"
    }
   }
  }
 },
 "nbformat": 4,
 "nbformat_minor": 2,
 "cells": [
  {
   "cell_type": "code",
   "execution_count": 74,
   "metadata": {},
   "outputs": [],
   "source": [
    "tr = [(('1210','120001','27/02/2021'),('apple',3),('grapes',4)),\n",
    "      (('1211','120002','27/02/2021'),('pears',6),('mango',8),('orange',6)),\n",
    "      (('1212','120003','27/02/2021'),('pears',2),('apple',3),('orange',4),('cherry',5),('mango',6),('apple',7)),\n",
    "      (('1213','120004','28/02/2021'),('orange',9),('pears',8),('pineapple',5)),\n",
    "      (('1214','120005','28/02/2021'),('grapes',3),('apple',7)),\n",
    "      (('1215','120006','02/03/2021'),('mango',12),('orange',13),('guava',8),('Strawberry',10),('cherry',7)),\n",
    "      (('1211','120007','03/03/2021'),('dates',15),('banana',10),('orange',10)),\n",
    "      (('1214','120008','04/03/2021'),('dates',13),('banana',10),('Blackberry',2)),\n",
    "      (('1215','120009','05/03/2021'),('dates',12),('apple',10),('mango',10),('cherry',8)),\n",
    "      (('1216','120010','05/03/2021'),('apple',6),('dates',8),('jelly',5),('jackfruit',50)),\n",
    "     (('1217','120011','05/03/2021'),('mango',6),('apple',8))]\n",
    "\n",
    "\n",
    "\n",
    "cu = [('1210','Rajesh'),('1211','Rakesh'),('1212','Sahil'),\n",
    "      ('1213','Jack'),('1214','Steve'),('1215','Rohan',),\n",
    "      ('1216','Millan',),('1217','mikul'),('1218','smile')]\n",
    "\n",
    "\n",
    "item_detail = [('1001','apple',60),('1002','orange',40),('1003','pears',30),\n",
    "               ('1004','mango',50),('1005','grapes',45),('1006','guava',40),\n",
    "             ('1007','pineapple',60),('1008','dates',100),('1009','banana',10),\n",
    "               ('1010','Strawberry',150),('1011','Blackberry',110),\n",
    "             ('1012','cherry',90),('1013','jelly',20),('1014','jackfruit',40)]\n",
    "\n",
    "\n",
    "\n",
    "\n",
    "\n",
    "tr_cu_un = []\n",
    "\n",
    "tr_item_un = []\n",
    "\n",
    "tr_un_bill = []\n",
    "\n",
    "tr_un_date = []\n",
    "\n",
    "def cu_name_id(c_id):\n",
    "    c_id = c_id\n",
    "    for i in range(len(cu)):\n",
    "        cu_id = cu[i][0]\n",
    "        cu_name = cu[i][1]\n",
    "        if cu_id == c_id:\n",
    "            return cu_name\n",
    "        elif cu_name == c_id:\n",
    "            return cu_id \n",
    "\n",
    "def item_name_code(i_code):\n",
    "    i_code = i_code\n",
    "    for i in range(len(item_detail)):\n",
    "        tr_i_code = item_detail[i][0]\n",
    "        tr_i_name = item_detail[i][1]\n",
    "        if tr_i_code == i_code:\n",
    "            return tr_i_name\n",
    "        elif tr_i_name == i_code:\n",
    "            return tr_i_code\n",
    "\n",
    "\n",
    "for i in range(len(tr)):\n",
    "    for j in range(1,len(tr[i])):\n",
    "        cu_un_id = tr[i][0][0]\n",
    "        item_un_name = tr[i][j][0]\n",
    "        tr_bill = tr[i][0][1]\n",
    "        tr_date = tr[i][0][2]\n",
    "\n",
    "        if cu_un_id not in tr_cu_un:\n",
    "            tr_cu_un.append(cu_un_id)\n",
    "            \n",
    "\n",
    "        if item_un_name not in tr_item_un:\n",
    "            tr_item_un.append(item_un_name)\n",
    "\n",
    "\n",
    "        if tr_date not in tr_un_date:\n",
    "            tr_un_date.append(tr_date)\n",
    "        \n",
    "    tr_un_bill.append(tr_bill)\n",
    "\n",
    "def main_tr_db():\n",
    "\n",
    "    item = ''\n",
    "    quantity = 0\n",
    "    tr_cu_id = ''\n",
    "    bill = ''\n",
    "    date = ''\n",
    "    tr_cu_name = ''\n",
    "    item_code = ''\n",
    "    item_rate = 0\n",
    "    amount = 0\n",
    "    a_sum = 0\n",
    "    x = 0\n",
    "\n",
    "    print(\"{}     {}     {}  {:<8}  {:<10} {:>3} {:>3} {:>4} {:>5} \".format('bill','date','tr_cu_id','tr_cu_name','item','item_rate','quantity','amount','a_sum'))\n",
    "    print()\n",
    "\n",
    "    for i in range(len(tr)):\n",
    "        for j in range(1,len(tr[i])):\n",
    "            item = tr[i][j][0]\n",
    "            quantity = tr[i][j][1]\n",
    "            tr_cu_id = tr[i][0][0]\n",
    "            bill = tr[i][0][1]\n",
    "            date = tr[i][0][2]\n",
    "\n",
    "\n",
    "            for k in range(len(cu)):\n",
    "                if tr_cu_id == cu[k][0]:\n",
    "                    tr_cu_name = cu[k][1]\n",
    "            for l in range(len(item_detail)):\n",
    "                if item == item_detail[l][1]:\n",
    "                    item_code = item_detail[l][0]\n",
    "                    item_rate = item_detail[l][2]\n",
    "            amount = item_rate * quantity\n",
    "            a_sum = a_sum + amount\n",
    "            x = x+1\n",
    "\n",
    "\n",
    "\n",
    "\n",
    "            \n",
    "            print(\"{} {}  {}       {:<8}  {:<10} {:>3}        {:>3}     {:>4}   {:>5} \".format(bill,date,tr_cu_id,tr_cu_name,item,item_rate,quantity,amount,a_sum))\n",
    "    print()\n",
    "    print(\"Total ::                                                             {:>5}\".format(a_sum))\n",
    "\n",
    "#******************************************************************************************************************************************************\n"
   ]
  },
  {
   "cell_type": "code",
   "execution_count": 197,
   "metadata": {},
   "outputs": [],
   "source": [
    "\n",
    "\n",
    "def item_cust(i_name,c_name):\n",
    "    i_name = i_name\n",
    "    c_name = c_name\n",
    "\n",
    "    item = ''\n",
    "    quantity = 0\n",
    "    tr_cu_id = ''\n",
    "    bill = ''\n",
    "    date = ''\n",
    "    tr_cu_name = ''\n",
    "    item_code = ''\n",
    "    item_rate = 0\n",
    "    amount = 0\n",
    "    c_sum = 0\n",
    "    s_amount = 0\n",
    "    x = 0\n",
    "    prn2 = 0\n",
    "    \n",
    "\n",
    "    for i in range(len(tr)):\n",
    "        for j in range(1,len(tr[i])):\n",
    "            item = tr[i][j][0]\n",
    "            quantity = tr[i][j][1]\n",
    "            tr_cu_id = tr[i][0][0]\n",
    "            bill = tr[i][0][1]\n",
    "            date = tr[i][0][2]\n",
    "\n",
    "\n",
    "            for k in range(len(cu)):\n",
    "                if tr_cu_id == cu[k][0]:\n",
    "                    tr_cu_name = cu[k][1]\n",
    "            for l in range(len(item_detail)):\n",
    "                if item == item_detail[l][1]:\n",
    "                    item_code = item_detail[l][0]\n",
    "                    item_rate = item_detail[l][2]\n",
    "            amount = item_rate * quantity\n",
    "\n",
    "            if item == i_name:\n",
    "                if tr_cu_name == c_name:\n",
    "                    s_amount = s_amount + amount   \n",
    "                    prn2 = s_amount\n",
    "    return prn2\n",
    "                \n",
    "   \n",
    "\n",
    "\n",
    "\n"
   ]
  },
  {
   "cell_type": "code",
   "execution_count": null,
   "metadata": {},
   "outputs": [],
   "source": []
  },
  {
   "cell_type": "code",
   "execution_count": 76,
   "metadata": {},
   "outputs": [],
   "source": [
    "#Note That\n",
    "# Last date of billing of a customer.\n",
    "# for how many days the customer haven't vist the store."
   ]
  },
  {
   "cell_type": "code",
   "execution_count": 77,
   "metadata": {},
   "outputs": [
    {
     "output_type": "execute_result",
     "data": {
      "text/plain": [
       "800"
      ]
     },
     "metadata": {},
     "execution_count": 77
    }
   ],
   "source": [
    "item_cust('dates','Millan')"
   ]
  },
  {
   "cell_type": "code",
   "execution_count": 78,
   "metadata": {},
   "outputs": [
    {
     "output_type": "execute_result",
     "data": {
      "text/plain": [
       "'1004'"
      ]
     },
     "metadata": {},
     "execution_count": 78
    }
   ],
   "source": [
    "item_name_code('mango')"
   ]
  },
  {
   "cell_type": "code",
   "execution_count": 79,
   "metadata": {},
   "outputs": [
    {
     "output_type": "execute_result",
     "data": {
      "text/plain": [
       "['1210', '1211', '1212', '1213', '1214', '1215', '1216', '1217']"
      ]
     },
     "metadata": {},
     "execution_count": 79
    }
   ],
   "source": [
    "tr_cu_un"
   ]
  },
  {
   "cell_type": "code",
   "execution_count": 80,
   "metadata": {},
   "outputs": [
    {
     "output_type": "execute_result",
     "data": {
      "text/plain": [
       "['apple',\n",
       " 'grapes',\n",
       " 'pears',\n",
       " 'mango',\n",
       " 'orange',\n",
       " 'cherry',\n",
       " 'pineapple',\n",
       " 'guava',\n",
       " 'Strawberry',\n",
       " 'dates',\n",
       " 'banana',\n",
       " 'Blackberry',\n",
       " 'jelly',\n",
       " 'jackfruit']"
      ]
     },
     "metadata": {},
     "execution_count": 80
    }
   ],
   "source": [
    "tr_item_un"
   ]
  },
  {
   "cell_type": "code",
   "execution_count": 81,
   "metadata": {},
   "outputs": [
    {
     "output_type": "stream",
     "name": "stdout",
     "text": [
      "180    600    420  600  360  480  "
     ]
    }
   ],
   "source": [
    "\n",
    "\n",
    "for i in range(len(tr_cu_un)):\n",
    "    n = cu_name_id(tr_cu_un[i])\n",
    "    # print(n,end = '  ')\n",
    "    it = item_cust('apple',n)\n",
    "    print(it,end = '  ')"
   ]
  },
  {
   "cell_type": "code",
   "execution_count": 158,
   "metadata": {},
   "outputs": [
    {
     "output_type": "stream",
     "name": "stdout",
     "text": [
      "Rajesh   Rakesh   Sahil    Jack     Steve    Rohan    Millan   mikul    \n\n  180             600             420     600     360     480   \n  180                             135                           \n          180      60     240                                   \n          400     300                    1100             300   \n          640     160     360             520                   \n                  450                    1350                   \n"
     ]
    }
   ],
   "source": [
    "for i in range(len(tr_cu_un)):\n",
    "    cm_name = cu_name_id(tr_cu_un[i])\n",
    "    print(\"{:<7}\".format(cm_name),end = '  ')\n",
    "print()\n",
    "print()\n",
    "\n",
    "for i in range(len(tr_cu_un)):\n",
    "    n = cu_name_id(tr_cu_un[i])\n",
    "    # print(n,end = '  ')\n",
    "    it = item_cust('apple',n)\n",
    "    print(\" {:>4}\".format(it),end = '   ')\n",
    "print()\n",
    "\n",
    "\n",
    "\n",
    "for i in range(len(tr_cu_un)):\n",
    "    n = cu_name_id(tr_cu_un[i])\n",
    "    # print(n,end = '  ')\n",
    "    it = item_cust('grapes',n)\n",
    "    print(\" {:>4}\".format(it),end = '   ')\n",
    "print()\n",
    "\n",
    "\n",
    "for i in range(len(tr_cu_un)):\n",
    "    n = cu_name_id(tr_cu_un[i])\n",
    "    # print(n,end = '  ')\n",
    "    it = item_cust('pears',n)\n",
    "    print(\" {:>4}\".format(it),end = '   ')\n",
    "print()\n",
    "\n",
    "\n",
    "for i in range(len(tr_cu_un)):\n",
    "    n = cu_name_id(tr_cu_un[i])\n",
    "    # print(n,end = '  ')\n",
    "    it = item_cust('mango',n)\n",
    "    print(\" {:>4}\".format(it),end = '   ')\n",
    "print()\n",
    "\n",
    "\n",
    "\n",
    "for i in range(len(tr_cu_un)):\n",
    "    n = cu_name_id(tr_cu_un[i])\n",
    "    # print(n,end = '  ')\n",
    "    it = item_cust('orange',n)\n",
    "    print(\" {:>4}\".format(it),end = '   ')\n",
    "print()\n",
    "\n",
    "\n",
    "\n",
    "for i in range(len(tr_cu_un)):\n",
    "    n = cu_name_id(tr_cu_un[i])\n",
    "    # print(n,end = '  ')\n",
    "    it = item_cust('cherry',n)\n",
    "    print(\" {:>4}\".format(it),end = '   ')\n",
    "print()\n"
   ]
  },
  {
   "cell_type": "code",
   "execution_count": 199,
   "metadata": {},
   "outputs": [
    {
     "output_type": "stream",
     "name": "stdout",
     "text": [
      "Rajesh   Rakesh   Sahil    Jack     Steve    Rohan    Millan   mikul    \n\n  180        0      600        0      420      600      360      480    \n  180        0        0        0      135        0        0        0    \n    0      180       60      240        0        0        0        0    \n    0      400      300        0        0     1100        0      300    \n    0      640      160      360        0      520        0        0    \n    0        0      450        0        0     1350        0        0    \n    0        0        0      300        0        0        0        0    \n    0        0        0        0        0      320        0        0    \n    0        0        0        0        0     1500        0        0    \n    0     1500        0        0     1300     1200      800        0    \n    0      100        0        0      100        0        0        0    \n    0        0        0        0      220        0        0        0    \n    0        0        0        0        0        0      100        0    \n    0        0        0        0        0        0     2000        0    \n"
     ]
    }
   ],
   "source": [
    "for i in range(len(tr_cu_un)):\n",
    "    cm_name = cu_name_id(tr_cu_un[i])\n",
    "    print(\"{:<7} \".format(cm_name),end = ' ')\n",
    "print()\n",
    "print()\n",
    "\n",
    "for j in range(len(tr_item_un)):\n",
    "    m = tr_item_un[j]\n",
    "    for i in range(len(tr_cu_un)):\n",
    "        n = cu_name_id(tr_cu_un[i])\n",
    "        it = item_cust(m,n)\n",
    "        print(\"{:>5} \".format(it),end = '   ')\n",
    "    print()\n"
   ]
  },
  {
   "cell_type": "code",
   "execution_count": 160,
   "metadata": {},
   "outputs": [
    {
     "output_type": "stream",
     "name": "stdout",
     "text": [
      "360\n\n1200\n\n840\n1200\n720\n960\n"
     ]
    }
   ],
   "source": [
    "x = 0\n",
    "a = 0\n",
    "for i in range(len(tr_cu_un)):\n",
    "    m = cu_name_id(tr_cu_un[i])\n",
    "    a = item_cust('apple',m)\n",
    "    print(a+a)\n",
    "    "
   ]
  },
  {
   "cell_type": "code",
   "execution_count": 128,
   "metadata": {},
   "outputs": [
    {
     "output_type": "execute_result",
     "data": {
      "text/plain": [
       "700"
      ]
     },
     "metadata": {},
     "execution_count": 128
    }
   ],
   "source": [
    "item_cust('apple','Sahil')+100"
   ]
  },
  {
   "cell_type": "code",
   "execution_count": 140,
   "metadata": {},
   "outputs": [
    {
     "output_type": "stream",
     "name": "stdout",
     "text": [
      "Jack\n"
     ]
    }
   ],
   "source": [
    "tr_cu_un\n",
    "u = cu_name_id(tr_cu_un[3])\n",
    "print(u)"
   ]
  },
  {
   "cell_type": "code",
   "execution_count": 161,
   "metadata": {},
   "outputs": [
    {
     "output_type": "execute_result",
     "data": {
      "text/plain": [
       "['apple',\n",
       " 'grapes',\n",
       " 'pears',\n",
       " 'mango',\n",
       " 'orange',\n",
       " 'cherry',\n",
       " 'pineapple',\n",
       " 'guava',\n",
       " 'Strawberry',\n",
       " 'dates',\n",
       " 'banana',\n",
       " 'Blackberry',\n",
       " 'jelly',\n",
       " 'jackfruit']"
      ]
     },
     "metadata": {},
     "execution_count": 161
    }
   ],
   "source": [
    "tr_item_un"
   ]
  },
  {
   "cell_type": "code",
   "execution_count": 200,
   "metadata": {},
   "outputs": [
    {
     "output_type": "stream",
     "name": "stdout",
     "text": [
      "apple      600\ngrapes       0\npears       60\nmango      300\norange     160\ncherry     450\npineapple    0\nguava        0\nStrawberry   0\ndates        0\nbanana       0\nBlackberry   0\njelly        0\njackfruit    0\n"
     ]
    }
   ],
   "source": [
    "p = 0\n",
    "for i in range(len(tr_item_un)):\n",
    "    l = tr_item_un[i]\n",
    "    #p = item_cust(l,'Sahil')\n",
    "    x = item_cust(l,'Sahil')\n",
    "    print(\"{:<10} {:>3}\".format(l,x))\n"
   ]
  },
  {
   "cell_type": "code",
   "execution_count": 190,
   "metadata": {},
   "outputs": [
    {
     "output_type": "error",
     "ename": "TypeError",
     "evalue": "unsupported operand type(s) for +: 'int' and 'str'",
     "traceback": [
      "\u001b[0;31m---------------------------------------------------------------------------\u001b[0m",
      "\u001b[0;31mTypeError\u001b[0m                                 Traceback (most recent call last)",
      "\u001b[0;32m<ipython-input-190-779262ae094b>\u001b[0m in \u001b[0;36m<module>\u001b[0;34m\u001b[0m\n\u001b[0;32m----> 1\u001b[0;31m \u001b[0;36m10\u001b[0m \u001b[0;34m+\u001b[0m \u001b[0;34m''\u001b[0m\u001b[0;34m\u001b[0m\u001b[0;34m\u001b[0m\u001b[0m\n\u001b[0m",
      "\u001b[0;31mTypeError\u001b[0m: unsupported operand type(s) for +: 'int' and 'str'"
     ]
    }
   ],
   "source": [
    "10 + ''"
   ]
  },
  {
   "cell_type": "code",
   "execution_count": 211,
   "metadata": {},
   "outputs": [
    {
     "output_type": "stream",
     "name": "stdout",
     "text": [
      "  180      0    600      0    420    600    360    480  2640\n"
     ]
    }
   ],
   "source": [
    "sum1 = 0\n",
    "for i in range(len(tr_cu_un)):\n",
    "    n = cu_name_id(tr_cu_un[i])\n",
    "    it = item_cust('apple',n)\n",
    "    sum1 = sum1 + it\n",
    "    print(\"{:>5} \".format(it),end = ' ')\n",
    "print(sum1)"
   ]
  },
  {
   "cell_type": "code",
   "execution_count": 315,
   "metadata": {},
   "outputs": [],
   "source": [
    "\n",
    "\n",
    "# for j in range(len(tr_cu_un)):\n",
    "#     name = cu_name_id(tr_cu_un[j])\n",
    "\n",
    "def col_sum(cst_name):\n",
    "    s = 0\n",
    "    cst_name = cst_name\n",
    "    for i in range(len(tr_item_un)):\n",
    "        k = tr_item_un[i]\n",
    "        a = item_cust(k,cst_name)\n",
    "        pr_h = \"{:<10} {:>3}\".format(k,a)\n",
    "        pr_o = \"{:>3}\".format(a)\n",
    "        s = s + a\n",
    "        #print(pr_o)\n",
    "    return s"
   ]
  },
  {
   "cell_type": "code",
   "execution_count": 309,
   "metadata": {},
   "outputs": [
    {
     "output_type": "stream",
     "name": "stdout",
     "text": [
      "2820\n"
     ]
    }
   ],
   "source": [
    "col_sum('Rakesh')"
   ]
  },
  {
   "cell_type": "code",
   "execution_count": 313,
   "metadata": {},
   "outputs": [
    {
     "output_type": "execute_result",
     "data": {
      "text/plain": [
       "'Rakesh'"
      ]
     },
     "metadata": {},
     "execution_count": 313
    }
   ],
   "source": [
    "tr_cu_un\n",
    "cu_name_id(tr_cu_un[1])"
   ]
  },
  {
   "cell_type": "code",
   "execution_count": 317,
   "metadata": {},
   "outputs": [
    {
     "output_type": "stream",
     "name": "stdout",
     "text": [
      "360 2820 1570 900 2175 6590 3260 780 "
     ]
    }
   ],
   "source": [
    "\n",
    "for i in range(len(tr_cu_un)):\n",
    "    q = cu_name_id(tr_cu_un[i])\n",
    "    pr = col_sum(q)\n",
    "    print(pr,end = ' ')"
   ]
  },
  {
   "cell_type": "code",
   "execution_count": 303,
   "metadata": {},
   "outputs": [
    {
     "output_type": "stream",
     "name": "stdout",
     "text": [
      "360\n  0\n  0\n  0\n  0\n  0\n  0\n  0\n  0\n800\n  0\n  0\n100\n2000\n3260\n"
     ]
    }
   ],
   "source": [
    "s = 0\n",
    "for i in range(len(tr_item_un)):\n",
    "    k = tr_item_un[i]\n",
    "    a = item_cust(k,'Millan')\n",
    "    pr_h = \"{:<10} {:>3}\".format(k,a)\n",
    "    pr_o = \"{:>3}\".format(a)\n",
    "    s = s + a\n",
    "    print(pr_o)\n",
    "print(s)"
   ]
  },
  {
   "cell_type": "code",
   "execution_count": 239,
   "metadata": {},
   "outputs": [],
   "source": [
    "for i in range(len(tr_cu_un)):\n",
    "    nm = cu_name_id(tr_cu_un)\n",
    "    "
   ]
  },
  {
   "cell_type": "code",
   "execution_count": 326,
   "metadata": {},
   "outputs": [
    {
     "output_type": "stream",
     "name": "stdout",
     "text": [
      "Rajesh   Rakesh   Sahil    Jack     Steve    Rohan    Millan   mikul    \n\n  180        0      600        0      420      600      360      480     2640       2640\n  180        0        0        0      135        0        0        0      315       2955\n    0      180       60      240        0        0        0        0      480       3435\n    0      400      300        0        0     1100        0      300     2100       5535\n    0      640      160      360        0      520        0        0     1680       7215\n    0        0      450        0        0     1350        0        0     1800       9015\n    0        0        0      300        0        0        0        0      300       9315\n    0        0        0        0        0      320        0        0      320       9635\n    0        0        0        0        0     1500        0        0     1500      11135\n    0     1500        0        0     1300     1200      800        0     4800      15935\n    0      100        0        0      100        0        0        0      200      16135\n    0        0        0        0      220        0        0        0      220      16355\n    0        0        0        0        0        0      100        0      100      16455\n    0        0        0        0        0        0     2000        0     2000      18455\n\n  360     2820     1570      900     2175     6590     3260      780    "
     ]
    }
   ],
   "source": [
    "\n",
    "for i in range(len(tr_cu_un)):\n",
    "    cm_name = cu_name_id(tr_cu_un[i])\n",
    "    print(\"{:<7} \".format(cm_name),end = ' ')\n",
    "print()\n",
    "print()\n",
    "\n",
    "sum_g = 0   #This is for cumulative total sum\n",
    "it = 0\n",
    "co_sum = 0\n",
    "\n",
    "\n",
    "for j in range(len(tr_item_un)):\n",
    "    sum1 = 0   #This is for each total sum\n",
    "    ina = tr_item_un[j]\n",
    "\n",
    "    for i in range(len(tr_cu_un)):\n",
    "        n = cu_name_id(tr_cu_un[i])\n",
    "        it = item_cust(ina,n)\n",
    "        sum1 = sum1 + it\n",
    "        sum_g = sum_g + it\n",
    "        print(\"{:>5} \".format(it),end = '   ')\n",
    "    print(\"{:>5} {:>10}\".format(sum1,sum_g))\n",
    "\n",
    "\n",
    "\n",
    "\n",
    "print()\n",
    "\n",
    "for i in range(len(tr_cu_un)):\n",
    "    q = cu_name_id(tr_cu_un[i])\n",
    "    pr = col_sum(q)\n",
    "    print(\"{:>5} \".format(pr),end = '   ')\n",
    "    \n",
    "    \n",
    "    "
   ]
  },
  {
   "cell_type": "code",
   "execution_count": 242,
   "metadata": {},
   "outputs": [
    {
     "output_type": "stream",
     "name": "stdout",
     "text": [
      "  180        0      600        0      420      600      360      480     2640       2640\n  180        0        0        0      135        0        0        0      315       2955\n    0      180       60      240        0        0        0        0      480       3435\n    0      400      300        0        0     1100        0      300     2100       5535\n    0      640      160      360        0      520        0        0     1680       7215\n    0        0      450        0        0     1350        0        0     1800       9015\n    0        0        0      300        0        0        0        0      300       9315\n    0        0        0        0        0      320        0        0      320       9635\n    0        0        0        0        0     1500        0        0     1500      11135\n    0     1500        0        0     1300     1200      800        0     4800      15935\n    0      100        0        0      100        0        0        0      200      16135\n    0        0        0        0      220        0        0        0      220      16355\n    0        0        0        0        0        0      100        0      100      16455\n    0        0        0        0        0        0     2000        0     2000      18455\n"
     ]
    }
   ],
   "source": [
    "sum_g = 0   #This is for cumulative total sum\n",
    "it = 0\n",
    "for j in range(len(tr_item_un)):\n",
    "    sum1 = 0   #This is for each total sum\n",
    "    m = tr_item_un[j]\n",
    "    for i in range(len(tr_cu_un)):\n",
    "        n = cu_name_id(tr_cu_un[i])\n",
    "        it = item_cust(m,n)\n",
    "        sum1 = sum1 + it\n",
    "        sum_g = sum_g + it\n",
    "        print(\"{:>5} \".format(it),end = '   ')\n",
    "    print(\"{:>5} {:>10}\".format(sum1,sum_g))\n",
    "\n"
   ]
  },
  {
   "cell_type": "code",
   "execution_count": null,
   "metadata": {},
   "outputs": [],
   "source": []
  },
  {
   "cell_type": "code",
   "execution_count": 56,
   "metadata": {},
   "outputs": [
    {
     "output_type": "stream",
     "name": "stdout",
     "text": [
      "Rajesh   Rakesh   Sahil    Jack     Steve    Rohan    Millan   mikul    \n\n  180               600               420      600      360      480    \n  180                                 135                               \n           180       60      240                                        \n           400      300                       1100               300    \n           640      160      360               520                      \n                    450                       1350                      \n                             300                                        \n                                               320                      \n                                              1500                      \n          1500                       1300     1200      800             \n           100                        100                               \n                                      220                               \n                                                        100             \n                                                       2000             \n"
     ]
    }
   ],
   "source": [
    "for i in range(len(tr_cu_un)):\n",
    "    cm_name = cu_name_id(tr_cu_un[i])\n",
    "    print(\"{:<7} \".format(cm_name),end = ' ')\n",
    "print()\n",
    "print()\n",
    "\n",
    "for j in range(len(tr_item_un)):\n",
    "    m = tr_item_un[j]\n",
    "    for i in range(len(tr_cu_un)):\n",
    "        n = cu_name_id(tr_cu_un[i])\n",
    "        it = item_cust(m,n)\n",
    "        print(\"{:>5} \".format(it),end = '   ')\n",
    "    print()\n"
   ]
  },
  {
   "cell_type": "code",
   "execution_count": 32,
   "metadata": {},
   "outputs": [
    {
     "output_type": "stream",
     "name": "stdout",
     "text": [
      "apple        600\ngrapes          \npears           \nmango       1100\norange       520\ncherry      1350\npineapple       \nguava        320\nStrawberry  1500\ndates       1200\nbanana          \nBlackberry      \njelly           \njackfruit       \n"
     ]
    }
   ],
   "source": [
    "c = 'Rohan'\n",
    "for i in range(len(tr_item_un)):\n",
    "    a = item_cust(tr_item_un[i],c)\n",
    "    print(\"{:<10}  {:>4}\".format(tr_item_un[i],a))"
   ]
  },
  {
   "cell_type": "code",
   "execution_count": null,
   "metadata": {},
   "outputs": [],
   "source": []
  },
  {
   "cell_type": "code",
   "execution_count": 7,
   "metadata": {},
   "outputs": [
    {
     "output_type": "stream",
     "name": "stdout",
     "text": [
      "bill     date     tr_cu_id  tr_cu_name  item       item_rate quantity amount a_sum \n\n120001 27/02/2021  1210       Rajesh    apple       60          3      180     180 \n120001 27/02/2021  1210       Rajesh    grapes      45          4      180     360 \n120002 27/02/2021  1211       Rakesh    pears       30          6      180     540 \n120002 27/02/2021  1211       Rakesh    mango       50          8      400     940 \n120002 27/02/2021  1211       Rakesh    orange      40          6      240    1180 \n120003 27/02/2021  1212       Sahil     pears       30          2       60    1240 \n120003 27/02/2021  1212       Sahil     apple       60          3      180    1420 \n120003 27/02/2021  1212       Sahil     orange      40          4      160    1580 \n120003 27/02/2021  1212       Sahil     cherry      90          5      450    2030 \n120003 27/02/2021  1212       Sahil     mango       50          6      300    2330 \n120003 27/02/2021  1212       Sahil     apple       60          7      420    2750 \n120004 28/02/2021  1213       Jack      orange      40          9      360    3110 \n120004 28/02/2021  1213       Jack      pears       30          8      240    3350 \n120004 28/02/2021  1213       Jack      pineapple   60          5      300    3650 \n120005 28/02/2021  1214       Steve     grapes      45          3      135    3785 \n120005 28/02/2021  1214       Steve     apple       60          7      420    4205 \n120006 02/03/2021  1215       Rohan     mango       50         12      600    4805 \n120006 02/03/2021  1215       Rohan     orange      40         13      520    5325 \n120006 02/03/2021  1215       Rohan     guava       40          8      320    5645 \n120006 02/03/2021  1215       Rohan     Strawberry 150         10     1500    7145 \n120006 02/03/2021  1215       Rohan     cherry      90          7      630    7775 \n120007 03/03/2021  1211       Rakesh    dates      100         15     1500    9275 \n120007 03/03/2021  1211       Rakesh    banana      10         10      100    9375 \n120007 03/03/2021  1211       Rakesh    orange      40         10      400    9775 \n120008 04/03/2021  1214       Steve     dates      100         13     1300   11075 \n120008 04/03/2021  1214       Steve     banana      10         10      100   11175 \n120008 04/03/2021  1214       Steve     Blackberry 110          2      220   11395 \n120009 05/03/2021  1215       Rohan     dates      100         12     1200   12595 \n120009 05/03/2021  1215       Rohan     apple       60         10      600   13195 \n120009 05/03/2021  1215       Rohan     mango       50         10      500   13695 \n120009 05/03/2021  1215       Rohan     cherry      90          8      720   14415 \n120010 05/03/2021  1216       Millan    apple       60          6      360   14775 \n120010 05/03/2021  1216       Millan    dates      100          8      800   15575 \n120010 05/03/2021  1216       Millan    jelly       20          5      100   15675 \n120010 05/03/2021  1216       Millan    jackfruit   40         50     2000   17675 \n120011 05/03/2021  1217       mikul     mango       50          6      300   17975 \n120011 05/03/2021  1217       mikul     apple       60          8      480   18455 \n\nTotal ::                                                             18455\n"
     ]
    }
   ],
   "source": [
    "main_tr_db()"
   ]
  },
  {
   "cell_type": "code",
   "execution_count": 10,
   "metadata": {},
   "outputs": [
    {
     "output_type": "stream",
     "name": "stdout",
     "text": [
      "    450      1350      "
     ]
    }
   ],
   "source": [
    "it_name = 'cherry'\n",
    "for i in range(len(tr_cu_un)):\n",
    "    i_name = tr_cu_un[i]\n",
    "    z = cu_name_id(i_name)\n",
    "    item_cust(it_name,z)"
   ]
  }
 ]
}