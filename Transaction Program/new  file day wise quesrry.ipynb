{
 "metadata": {
  "language_info": {
   "codemirror_mode": {
    "name": "ipython",
    "version": 3
   },
   "file_extension": ".py",
   "mimetype": "text/x-python",
   "name": "python",
   "nbconvert_exporter": "python",
   "pygments_lexer": "ipython3",
   "version": "3.9.2-final"
  },
  "orig_nbformat": 2,
  "kernelspec": {
   "name": "python3",
   "display_name": "Python 3.9.2 64-bit",
   "metadata": {
    "interpreter": {
     "hash": "f9f85f796d01129d0dd105a088854619f454435301f6ffec2fea96ecbd9be4ac"
    }
   }
  }
 },
 "nbformat": 4,
 "nbformat_minor": 2,
 "cells": [
  {
   "cell_type": "code",
   "execution_count": 5,
   "metadata": {},
   "outputs": [],
   "source": [
    "tr = [(('1210','120001','27/02/2021'),('apple',3),('grapes',4)),\n",
    "      (('1211','120002','27/02/2021'),('pears',6),('mango',8),('orange',6)),\n",
    "      (('1212','120003','27/02/2021'),('pears',2),('apple',3),('orange',4),('cherry',5),('mango',6),('apple',7)),\n",
    "      (('1213','120004','28/02/2021'),('orange',9),('pears',8),('pineapple',5)),\n",
    "      (('1214','120005','28/02/2021'),('grapes',3),('apple',7)),\n",
    "      (('1215','120006','02/03/2021'),('mango',12),('orange',13),('guava',8),('Strawberry',10),('cherry',7)),\n",
    "      (('1211','120007','03/03/2021'),('dates',15),('banana',10),('orange',10)),\n",
    "      (('1214','120008','04/03/2021'),('dates',13),('banana',10),('Blackberry',2)),\n",
    "      (('1215','120009','05/03/2021'),('dates',12),('apple',10),('mango',10),('cherry',8)),\n",
    "      (('1216','120010','05/03/2021'),('apple',6),('dates',8),('jelly',5),('jackfruit',50)),\n",
    "     (('1217','120011','05/03/2021'),('mango',6),('apple',8))]\n",
    "\n",
    "\n",
    "\n",
    "cu = [('1210','Rajesh'),('1211','Rakesh'),('1212','Sahil'),\n",
    "      ('1213','Jack'),('1214','Steve'),('1215','Rohan',),\n",
    "      ('1216','Millan',),('1217','mikul'),('1218','smile')]\n",
    "\n",
    "\n",
    "item_detail = [('1001','apple',60),('1002','orange',40),('1003','pears',30),\n",
    "               ('1004','mango',50),('1005','grapes',45),('1006','guava',40),\n",
    "             ('1007','pineapple',60),('1008','dates',100),('1009','banana',10),\n",
    "               ('1010','Strawberry',150),('1011','Blackberry',110),\n",
    "             ('1012','cherry',90),('1013','jelly',20),('1014','jackfruit',40)]\n"
   ]
  },
  {
   "cell_type": "code",
   "execution_count": 6,
   "metadata": {},
   "outputs": [],
   "source": [
    "def date_wise_detail(cu_date):\n",
    "\n",
    "    cu_date = cu_date\n",
    "    item = ''\n",
    "    quantity = 0\n",
    "    tr_cu_id = ''\n",
    "    bill = ''\n",
    "    date = ''\n",
    "    tr_cu_name = ''\n",
    "    item_code = ''\n",
    "    item_rate = 0\n",
    "    amount = 0\n",
    "    c_sum = 0\n",
    "    a_sum = 0\n",
    "    x = 0\n",
    "\n",
    "    print(\"{}          {}    {}   {:<8}  {:<10} {} {:>4}  {:>3}     {:>6}  {:>6}\".format('Date','Bill','Cu_ID','Cu_Name','Item','Item_code','Item_rate','Qty','Amount','a_sum'))\n",
    "    print()\n",
    "\n",
    "\n",
    "    for i in range(len(tr)):\n",
    "        for j in range(1,len(tr[i])):\n",
    "            item = tr[i][j][0]\n",
    "            quantity = tr[i][j][1]\n",
    "            tr_cu_id = tr[i][0][0]\n",
    "            bill = tr[i][0][1]\n",
    "            date = tr[i][0][2]\n",
    "\n",
    "\n",
    "            for k in range(len(cu)):\n",
    "                if tr_cu_id == cu[k][0]:\n",
    "                    tr_cu_name = cu[k][1]\n",
    "            for l in range(len(item_detail)):\n",
    "                if item == item_detail[l][1]:\n",
    "                    item_code = item_detail[l][0]\n",
    "                    item_rate = item_detail[l][2]\n",
    "            amount = item_rate * quantity\n",
    "            \n",
    "            if date == cu_date:\n",
    "                a_sum = a_sum + amount\n",
    "                t_name = tr_cu_name\n",
    "                t_id = tr_cu_id\n",
    "                t_date = cu_date\n",
    "                print(\"{}    {}   {}   {:<8}  {:<10}  {}     {:>4}     {:>3}     {:>6}   {:>6}\".format(t_date,bill,t_id,t_name,item,item_code,item_rate,quantity,amount,a_sum))\n",
    "    print()\n",
    "    print(\"Total ::                                                                      {:>6}\".format(a_sum))\n",
    "    print()\n"
   ]
  },
  {
   "cell_type": "code",
   "execution_count": 7,
   "metadata": {},
   "outputs": [
    {
     "output_type": "stream",
     "name": "stdout",
     "text": [
      "Date          Bill    Cu_ID   Cu_Name   Item       Item_code Item_rate  Qty     Amount   a_sum\n\n27/02/2021    120001   1210   Rajesh    apple       1001       60       3        180      180\n27/02/2021    120001   1210   Rajesh    grapes      1005       45       4        180      360\n27/02/2021    120002   1211   Rakesh    pears       1003       30       6        180      540\n27/02/2021    120002   1211   Rakesh    mango       1004       50       8        400      940\n27/02/2021    120002   1211   Rakesh    orange      1002       40       6        240     1180\n27/02/2021    120003   1212   Sahil     pears       1003       30       2         60     1240\n27/02/2021    120003   1212   Sahil     apple       1001       60       3        180     1420\n27/02/2021    120003   1212   Sahil     orange      1002       40       4        160     1580\n27/02/2021    120003   1212   Sahil     cherry      1012       90       5        450     2030\n27/02/2021    120003   1212   Sahil     mango       1004       50       6        300     2330\n27/02/2021    120003   1212   Sahil     apple       1001       60       7        420     2750\n\nTotal ::                                                                        2750\n\n"
     ]
    }
   ],
   "source": [
    "date_wise_detail('27/02/2021')"
   ]
  }
 ]
}