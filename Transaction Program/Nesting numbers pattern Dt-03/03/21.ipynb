{
 "metadata": {
  "language_info": {
   "codemirror_mode": {
    "name": "ipython",
    "version": 3
   },
   "file_extension": ".py",
   "mimetype": "text/x-python",
   "name": "python",
   "nbconvert_exporter": "python",
   "pygments_lexer": "ipython3",
   "version": "3.9.2-final"
  },
  "orig_nbformat": 2,
  "kernelspec": {
   "name": "python3",
   "display_name": "Python 3.9.2 64-bit",
   "metadata": {
    "interpreter": {
     "hash": "f9f85f796d01129d0dd105a088854619f454435301f6ffec2fea96ecbd9be4ac"
    }
   }
  }
 },
 "nbformat": 4,
 "nbformat_minor": 2,
 "cells": [
  {
   "cell_type": "code",
   "execution_count": null,
   "metadata": {},
   "outputs": [],
   "source": [
    "# Output :-\n",
    "\n",
    "#   1   2   3   4   5   6   7   8   9  10\n",
    "#   2   4   6   8  10  12  14  16  18  20\n",
    "#   3   6   9  12  15  18  21  24  27  30\n",
    "#   4   8  12  16  20  24  28  32  36  40\n",
    "#   5  10  15  20  25  30  35  40  45  50\n",
    "#   6  12  18  24  30  36  42  48  54  60 \n",
    "#   7  14  21  28  35  42  49  56  63  70\n",
    "#   8  16  24  32  40  48  56  64  72  80\n",
    "#   9  18  27  36  45  54  63  72  81  90\n",
    "#  10  20  30  40  50  60  70  80  90 100"
   ]
  },
  {
   "cell_type": "code",
   "execution_count": 23,
   "metadata": {},
   "outputs": [
    {
     "output_type": "stream",
     "name": "stdout",
     "text": [
      "1 2 3 4 5 6 7 8 9 10 \n1 2 3 4 5 6 7 8 9 10 \n1 2 3 4 5 6 7 8 9 10 \n1 2 3 4 5 6 7 8 9 10 \n1 2 3 4 5 6 7 8 9 10 \n1 2 3 4 5 6 7 8 9 10 \n1 2 3 4 5 6 7 8 9 10 \n1 2 3 4 5 6 7 8 9 10 \n1 2 3 4 5 6 7 8 9 10 \n1 2 3 4 5 6 7 8 9 10 \n"
     ]
    }
   ],
   "source": [
    "for j in range(1,10+1):\n",
    "    for i in range(1,10+1):\n",
    "        print(i,end = ' ')\n",
    "    print()"
   ]
  },
  {
   "cell_type": "code",
   "execution_count": 24,
   "metadata": {},
   "outputs": [
    {
     "output_type": "stream",
     "name": "stdout",
     "text": [
      "1 2 3 4 5 6 7 8 9 10 \n2 4 6 8 10 12 14 16 18 20 \n3 6 9 12 15 18 21 24 27 30 \n4 8 12 16 20 24 28 32 36 40 \n5 10 15 20 25 30 35 40 45 50 \n6 12 18 24 30 36 42 48 54 60 \n7 14 21 28 35 42 49 56 63 70 \n8 16 24 32 40 48 56 64 72 80 \n9 18 27 36 45 54 63 72 81 90 \n10 20 30 40 50 60 70 80 90 100 \n"
     ]
    }
   ],
   "source": [
    "for j in range(1,10+1):\n",
    "    for i in range(1,10+1):\n",
    "        m = i*j\n",
    "        print(m,end = ' ')\n",
    "    print()"
   ]
  },
  {
   "cell_type": "code",
   "execution_count": 25,
   "metadata": {},
   "outputs": [
    {
     "output_type": "stream",
     "name": "stdout",
     "text": [
      "  1   2   3   4   5   6   7   8   9  10 \n  2   4   6   8  10  12  14  16  18  20 \n  3   6   9  12  15  18  21  24  27  30 \n  4   8  12  16  20  24  28  32  36  40 \n  5  10  15  20  25  30  35  40  45  50 \n  6  12  18  24  30  36  42  48  54  60 \n  7  14  21  28  35  42  49  56  63  70 \n  8  16  24  32  40  48  56  64  72  80 \n  9  18  27  36  45  54  63  72  81  90 \n 10  20  30  40  50  60  70  80  90 100 \n"
     ]
    }
   ],
   "source": [
    "for j in range(1,10+1):\n",
    "    for i in range(1,10+1):\n",
    "        m = i*j\n",
    "        print(\"{:>3}\".format(m),end = ' ')\n",
    "    print()"
   ]
  },
  {
   "cell_type": "code",
   "execution_count": 4,
   "metadata": {},
   "outputs": [
    {
     "output_type": "stream",
     "name": "stdout",
     "text": [
      " 1 *  1 =  1    2 *  1 =  2    3 *  1 =  3    4 *  1 =  4    5 *  1 =  5    6 *  1 =  6    7 *  1 =  7    8 *  1 =  8    9 *  1 =  9   10 *  1 = 10   \n\n 1 *  2 =  2    2 *  2 =  4    3 *  2 =  6    4 *  2 =  8    5 *  2 = 10    6 *  2 = 12    7 *  2 = 14    8 *  2 = 16    9 *  2 = 18   10 *  2 = 20   \n\n 1 *  3 =  3    2 *  3 =  6    3 *  3 =  9    4 *  3 = 12    5 *  3 = 15    6 *  3 = 18    7 *  3 = 21    8 *  3 = 24    9 *  3 = 27   10 *  3 = 30   \n\n 1 *  4 =  4    2 *  4 =  8    3 *  4 = 12    4 *  4 = 16    5 *  4 = 20    6 *  4 = 24    7 *  4 = 28    8 *  4 = 32    9 *  4 = 36   10 *  4 = 40   \n\n 1 *  5 =  5    2 *  5 = 10    3 *  5 = 15    4 *  5 = 20    5 *  5 = 25    6 *  5 = 30    7 *  5 = 35    8 *  5 = 40    9 *  5 = 45   10 *  5 = 50   \n\n 1 *  6 =  6    2 *  6 = 12    3 *  6 = 18    4 *  6 = 24    5 *  6 = 30    6 *  6 = 36    7 *  6 = 42    8 *  6 = 48    9 *  6 = 54   10 *  6 = 60   \n\n 1 *  7 =  7    2 *  7 = 14    3 *  7 = 21    4 *  7 = 28    5 *  7 = 35    6 *  7 = 42    7 *  7 = 49    8 *  7 = 56    9 *  7 = 63   10 *  7 = 70   \n\n 1 *  8 =  8    2 *  8 = 16    3 *  8 = 24    4 *  8 = 32    5 *  8 = 40    6 *  8 = 48    7 *  8 = 56    8 *  8 = 64    9 *  8 = 72   10 *  8 = 80   \n\n 1 *  9 =  9    2 *  9 = 18    3 *  9 = 27    4 *  9 = 36    5 *  9 = 45    6 *  9 = 54    7 *  9 = 63    8 *  9 = 72    9 *  9 = 81   10 *  9 = 90   \n\n 1 * 10 = 10    2 * 10 = 20    3 * 10 = 30    4 * 10 = 40    5 * 10 = 50    6 * 10 = 60    7 * 10 = 70    8 * 10 = 80    9 * 10 = 90   10 * 10 =100   \n\n"
     ]
    }
   ],
   "source": [
    "for j in range(1,10+1):\n",
    "    for i in range(1,10+1):\n",
    "        m = i*j\n",
    "        print(\"{:>2} * {:>2} ={:>3}\".format(i,j,m),end = '   ')\n",
    "    print()\n",
    "    print()"
   ]
  }
 ]
}