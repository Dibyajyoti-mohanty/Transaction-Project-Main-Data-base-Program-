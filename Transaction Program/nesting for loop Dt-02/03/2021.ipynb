{
 "metadata": {
  "language_info": {
   "codemirror_mode": {
    "name": "ipython",
    "version": 3
   },
   "file_extension": ".py",
   "mimetype": "text/x-python",
   "name": "python",
   "nbconvert_exporter": "python",
   "pygments_lexer": "ipython3",
   "version": "3.9.2-final"
  },
  "orig_nbformat": 2,
  "kernelspec": {
   "name": "python3",
   "display_name": "Python 3.9.2 64-bit",
   "metadata": {
    "interpreter": {
     "hash": "f9f85f796d01129d0dd105a088854619f454435301f6ffec2fea96ecbd9be4ac"
    }
   }
  }
 },
 "nbformat": 4,
 "nbformat_minor": 2,
 "cells": [
  {
   "cell_type": "code",
   "execution_count": 181,
   "metadata": {},
   "outputs": [
    {
     "output_type": "stream",
     "name": "stdout",
     "text": [
      "0\n1\n2\n3\n4\n"
     ]
    }
   ],
   "source": [
    "for i in range(5):\n",
    "    print(i)"
   ]
  },
  {
   "cell_type": "code",
   "execution_count": 182,
   "metadata": {},
   "outputs": [
    {
     "output_type": "stream",
     "name": "stdout",
     "text": [
      "* * * * * \n* * * * * \n* * * * * \n* * * * * \n* * * * * \n"
     ]
    }
   ],
   "source": [
    "for i in range(5):\n",
    "    for j in range(5):\n",
    "        print('*',end = ' ')\n",
    "    print()"
   ]
  },
  {
   "cell_type": "code",
   "execution_count": 183,
   "metadata": {},
   "outputs": [
    {
     "output_type": "stream",
     "name": "stdout",
     "text": [
      "80  65  65  54  "
     ]
    }
   ],
   "source": [
    "fruits = [[80,60,90,85,110,100,95,86],[65,100,65,96,60,52,54,57],[65,56,85,58,80,60,45,40],[54,20,30,52,110,100,150,120]]\n",
    "for i in range(len(fruits)):\n",
    "    print(fruits[i][0],end = '  ')\n",
    "    "
   ]
  },
  {
   "cell_type": "code",
   "execution_count": 184,
   "metadata": {},
   "outputs": [
    {
     "output_type": "stream",
     "name": "stdout",
     "text": [
      "80  65  65  54  "
     ]
    }
   ],
   "source": [
    "fruits = [[80,60,90,85,110,100,95,86],[65,100,65,96,60,52,54,57],[65,56,85,58,80,60,45,40],[54,20,30,52,110,100,150,120]]\n",
    "for i in range(len(fruits)):\n",
    "    \n",
    "    print(fruits[i][0],end = '  ')\n",
    "    "
   ]
  },
  {
   "cell_type": "code",
   "execution_count": 185,
   "metadata": {},
   "outputs": [
    {
     "output_type": "stream",
     "name": "stdout",
     "text": [
      "80\n65\n65\n54\n"
     ]
    }
   ],
   "source": [
    "fruits = [[80,60,90,85,110,100,95,86],[65,100,65,96,60,52,54,57],[65,56,85,58,80,60,45,40],[54,20,30,52,110,100,150,120]]\n",
    "for i in range(len(fruits)):\n",
    "    print(fruits[i][0])\n",
    "        "
   ]
  },
  {
   "cell_type": "code",
   "execution_count": 1,
   "metadata": {},
   "outputs": [
    {
     "output_type": "stream",
     "name": "stdout",
     "text": [
      "[80, 60, 90, 85, 110, 100, 95, 86]\n[65, 100, 65, 96, 60, 52, 54, 57]\n[65, 56, 85, 58, 80, 60, 45, 40]\n[54, 20, 30, 52, 110, 100, 150, 120]\n"
     ]
    }
   ],
   "source": [
    "x = [[80,60,90,85,110,100,95,86],[65,100,65,96,60,52,54,57],[65,56,85,58,80,60,45,40],[54,20,30,52,110,100,150,120]]\n",
    "\n",
    "print(x[0])\n",
    "print(x[1])\n",
    "print(x[2])\n",
    "print(x[3])"
   ]
  },
  {
   "cell_type": "code",
   "execution_count": 187,
   "metadata": {},
   "outputs": [
    {
     "output_type": "stream",
     "name": "stdout",
     "text": [
      "[80, 60, 90, 85, 110, 100, 95, 86]\n[65, 100, 65, 96, 60, 52, 54, 57]\n[65, 56, 85, 58, 80, 60, 45, 40]\n[54, 20, 30, 52, 110, 100, 150, 120]\n"
     ]
    }
   ],
   "source": [
    "for i in range(len(x)):\n",
    "    print(x[i])"
   ]
  },
  {
   "cell_type": "code",
   "execution_count": 188,
   "metadata": {},
   "outputs": [
    {
     "output_type": "stream",
     "name": "stdout",
     "text": [
      "80\n60\n90\n85\n110\n100\n95\n86\n"
     ]
    }
   ],
   "source": [
    "x = [[80,60,90,85,110,100,95,86],[65,10,55,96,60,52,54,57],[75,56,85,58,80,30,45,40],[54,20,30,52,110,100,150,120]]\n",
    "print(x[0][0])\n",
    "print(x[0][1])\n",
    "print(x[0][2])\n",
    "print(x[0][3])\n",
    "print(x[0][4])\n",
    "print(x[0][5])\n",
    "print(x[0][6])\n",
    "print(x[0][7])"
   ]
  },
  {
   "cell_type": "code",
   "execution_count": 189,
   "metadata": {},
   "outputs": [
    {
     "output_type": "stream",
     "name": "stdout",
     "text": [
      "65\n10\n55\n96\n60\n52\n54\n57\n"
     ]
    }
   ],
   "source": [
    "print(x[1][0])\n",
    "print(x[1][1])\n",
    "print(x[1][2])\n",
    "print(x[1][3])\n",
    "print(x[1][4])\n",
    "print(x[1][5])\n",
    "print(x[1][6])\n",
    "print(x[1][7])"
   ]
  },
  {
   "cell_type": "code",
   "execution_count": 190,
   "metadata": {},
   "outputs": [
    {
     "output_type": "stream",
     "name": "stdout",
     "text": [
      "75\n56\n85\n58\n80\n30\n45\n40\n"
     ]
    }
   ],
   "source": [
    "print(x[2][0])\n",
    "print(x[2][1])\n",
    "print(x[2][2])\n",
    "print(x[2][3])\n",
    "print(x[2][4])\n",
    "print(x[2][5])\n",
    "print(x[2][6])\n",
    "print(x[2][7])"
   ]
  },
  {
   "cell_type": "code",
   "execution_count": 191,
   "metadata": {},
   "outputs": [
    {
     "output_type": "stream",
     "name": "stdout",
     "text": [
      "54\n20\n30\n52\n110\n100\n150\n120\n"
     ]
    }
   ],
   "source": [
    "print(x[3][0])\n",
    "print(x[3][1])\n",
    "print(x[3][2])\n",
    "print(x[3][3])\n",
    "print(x[3][4])\n",
    "print(x[3][5])\n",
    "print(x[3][6])\n",
    "print(x[3][7])\n"
   ]
  },
  {
   "cell_type": "code",
   "execution_count": 192,
   "metadata": {},
   "outputs": [
    {
     "output_type": "execute_result",
     "data": {
      "text/plain": [
       "[[80, 60, 90, 85, 110, 100, 95, 86],\n",
       " [65, 10, 55, 96, 60, 52, 54, 57],\n",
       " [75, 56, 85, 58, 80, 30, 45, 40],\n",
       " [54, 20, 30, 52, 110, 100, 150, 120]]"
      ]
     },
     "metadata": {},
     "execution_count": 192
    }
   ],
   "source": [
    " [[80,60,90,85,110,100,95,86],[65,10,55,96,60,52,54,57],[75,56,85,58,80,30,45,40],[54,20,30,52,110,100,150,120]]"
   ]
  },
  {
   "cell_type": "code",
   "execution_count": 193,
   "metadata": {},
   "outputs": [],
   "source": [
    "#Output --\n",
    "\n",
    "# 80   65   75  54\n",
    "# 60   10   56  20\n",
    "# 90   55   85  30\n",
    "# 85   96   58  52\n",
    "# 110  60   80  110\n",
    "# 100  52   30  100\n",
    "# 95   54   45  150\n",
    "# 86   57   40  120"
   ]
  },
  {
   "cell_type": "code",
   "execution_count": 194,
   "metadata": {},
   "outputs": [
    {
     "output_type": "stream",
     "name": "stdout",
     "text": [
      "80 65 75 54\n60 10 56 20\n90 55 85 30\n85 96 58 52\n110 60 80 110\n100 52 30 100\n95 54 45 150\n86 57 40 120\n"
     ]
    }
   ],
   "source": [
    "# 80   65   75  54\n",
    "print(x[0][0],   x[1][0],   x[2][0],    x[3][0])\n",
    "\n",
    "# 60   10   56  20\n",
    "print(x[0][1],   x[1][1],   x[2][1],   x[3][1])\n",
    "\n",
    "# 90   55   85  30\n",
    "print(x[0][2],   x[1][2],   x[2][2],   x[3][2])\n",
    "\n",
    "# 85   96   58  52\n",
    "print(x[0][3],   x[1][3],   x[2][3],   x[3][3])\n",
    "\n",
    "# 110  60   80  110\n",
    "print(x[0][4],   x[1][4],   x[2][4],   x[3][4])\n",
    "\n",
    "# 100  52   30  100\n",
    "print(x[0][5],   x[1][5],   x[2][5],   x[3][5])\n",
    "\n",
    "# 95   54   45  150\n",
    "print(x[0][6],  x[1][6],   x[2][6],   x[3][6])\n",
    "\n",
    "# 86   57   40  120\n",
    "print(x[0][7],   x[1][7],   x[2][7],   x[3][7])"
   ]
  },
  {
   "cell_type": "code",
   "execution_count": 195,
   "metadata": {},
   "outputs": [
    {
     "output_type": "stream",
     "name": "stdout",
     "text": [
      "30\n"
     ]
    }
   ],
   "source": [
    "print(x[2][5])"
   ]
  },
  {
   "cell_type": "code",
   "execution_count": 196,
   "metadata": {},
   "outputs": [
    {
     "output_type": "stream",
     "name": "stdout",
     "text": [
      "x [0] [0] 80     x [1] [0] 65     x [2] [0] 75     x [3] [0] 54     "
     ]
    }
   ],
   "source": [
    "for i in range(4):\n",
    "    r = x[i][0]\n",
    "    #print(r,end='  ')\n",
    "    print('x',[i],'[0]',r,end = '     ')\n",
    "    "
   ]
  },
  {
   "cell_type": "code",
   "execution_count": 197,
   "metadata": {},
   "outputs": [
    {
     "output_type": "stream",
     "name": "stdout",
     "text": [
      "x [0] [1]  60     x [1] [1]  10     x [2] [1]  56     x [3] [1]  20     "
     ]
    }
   ],
   "source": [
    "for i in range(4):\n",
    "    r = x[i][1]\n",
    "    #print(r,end = '  ')\n",
    "    print('x',[i],'[1] ',r,end = '     ')"
   ]
  },
  {
   "cell_type": "code",
   "execution_count": 198,
   "metadata": {},
   "outputs": [
    {
     "output_type": "stream",
     "name": "stdout",
     "text": [
      "x [0] [2] 90     x [1] [2] 55     x [2] [2] 85     x [3] [2] 30     "
     ]
    }
   ],
   "source": [
    "for i in range(4):\n",
    "    r = x[i][2]\n",
    "    print('x',[i],'[2]',r,end = '     ')"
   ]
  },
  {
   "cell_type": "code",
   "execution_count": 199,
   "metadata": {},
   "outputs": [
    {
     "output_type": "stream",
     "name": "stdout",
     "text": [
      "80  65  75  54  "
     ]
    }
   ],
   "source": [
    "for i in range(4):\n",
    "    r = x[i][0]\n",
    "    print(r,end = '  ')"
   ]
  },
  {
   "cell_type": "code",
   "execution_count": 200,
   "metadata": {},
   "outputs": [
    {
     "output_type": "stream",
     "name": "stdout",
     "text": [
      "60  10  56  20  "
     ]
    }
   ],
   "source": [
    "for i in range(4):\n",
    "    r = x[i][1]\n",
    "    print(r,end = '  ')"
   ]
  },
  {
   "cell_type": "code",
   "execution_count": 201,
   "metadata": {},
   "outputs": [
    {
     "output_type": "stream",
     "name": "stdout",
     "text": [
      "90  55  85  30  "
     ]
    }
   ],
   "source": [
    "for i in range(4):\n",
    "    r = x[i][2]\n",
    "    print(r,end = '  ')"
   ]
  },
  {
   "cell_type": "code",
   "execution_count": 202,
   "metadata": {},
   "outputs": [
    {
     "output_type": "stream",
     "name": "stdout",
     "text": [
      "85 96 58 52 "
     ]
    }
   ],
   "source": [
    "for i in range(4):\n",
    "    r = x[i][3]\n",
    "    print(r,end = ' ')"
   ]
  },
  {
   "cell_type": "code",
   "execution_count": 203,
   "metadata": {},
   "outputs": [
    {
     "output_type": "stream",
     "name": "stdout",
     "text": [
      "110 60 80 110 "
     ]
    }
   ],
   "source": [
    "for i in range(4):\n",
    "    r = x[i][4]\n",
    "    print(r,end = ' ')\n",
    "   "
   ]
  },
  {
   "cell_type": "code",
   "execution_count": 204,
   "metadata": {},
   "outputs": [
    {
     "output_type": "stream",
     "name": "stdout",
     "text": [
      "100 52 30 100 "
     ]
    }
   ],
   "source": [
    "for i in range(4):\n",
    "    r = x[i][5]\n",
    "    print(r,end = ' ')"
   ]
  },
  {
   "cell_type": "code",
   "execution_count": 205,
   "metadata": {},
   "outputs": [
    {
     "output_type": "stream",
     "name": "stdout",
     "text": [
      "95 54 45 150 "
     ]
    }
   ],
   "source": [
    "for i in range(4):\n",
    "    r = x[i][6]\n",
    "    print(r,end = ' ')"
   ]
  },
  {
   "cell_type": "code",
   "execution_count": 206,
   "metadata": {},
   "outputs": [
    {
     "output_type": "stream",
     "name": "stdout",
     "text": [
      "86 57 40 120 "
     ]
    }
   ],
   "source": [
    "for i in range(4):\n",
    "    r = x[i][7]\n",
    "    print(r,end = ' ')"
   ]
  },
  {
   "cell_type": "code",
   "execution_count": 207,
   "metadata": {},
   "outputs": [
    {
     "output_type": "stream",
     "name": "stdout",
     "text": [
      "80  65  75  54  \n60  10  56  20  \n90  55  85  30  \n85  96  58  52  \n110  60  80  110  \n100  52  30  100  \n95  54  45  150  \n86  57  40  120  \n"
     ]
    }
   ],
   "source": [
    "for i in range(4):\n",
    "    r = x[i][0]\n",
    "    print(r,end = '  ')\n",
    "print()\n",
    "\n",
    "for i in range(4):\n",
    "    r = x[i][1]\n",
    "    print(r,end = '  ')\n",
    "print()\n",
    "\n",
    "for i in range(4):\n",
    "    r = x[i][2]\n",
    "    print(r,end = '  ')\n",
    "print()\n",
    "\n",
    "for i in range(4):\n",
    "    r = x[i][3]\n",
    "    print(r,end = '  ')\n",
    "print()\n",
    "\n",
    "for i in range(4):\n",
    "    r = x[i][4]\n",
    "    print(r,end = '  ')\n",
    "print()\n",
    "\n",
    "for i in range(4):\n",
    "    r = x[i][5]\n",
    "    print(r,end = '  ')\n",
    "print()\n",
    "\n",
    "for i in range(4):\n",
    "    r = x[i][6]\n",
    "    print(r,end = '  ')\n",
    "print()\n",
    "\n",
    "for i in range(4):\n",
    "    r = x[i][7]\n",
    "    print(r,end = '  ')\n",
    "print()\n"
   ]
  },
  {
   "cell_type": "code",
   "execution_count": 208,
   "metadata": {},
   "outputs": [],
   "source": [
    "# 80   65   75  54\n",
    "# 60   10   56  20\n",
    "# 90   55   85  30\n",
    "# 85   96   58  52\n",
    "# 110  60   80  110\n",
    "# 100  52   30  100\n",
    "# 95   54   45  150\n",
    "# 86   57   40  120"
   ]
  },
  {
   "cell_type": "code",
   "execution_count": 209,
   "metadata": {},
   "outputs": [
    {
     "output_type": "stream",
     "name": "stdout",
     "text": [
      "80  65  75  54  \n60  10  56  20  \n90  55  85  30  \n85  96  58  52  \n110  60  80  110  \n100  52  30  100  \n95  54  45  150  \n86  57  40  120  \n"
     ]
    }
   ],
   "source": [
    "for j in range(8):\n",
    "    for i in range(4):\n",
    "        r = x[i][j]\n",
    "        print(r,end = '  ')\n",
    "    print()\n"
   ]
  },
  {
   "cell_type": "code",
   "execution_count": 210,
   "metadata": {},
   "outputs": [
    {
     "output_type": "execute_result",
     "data": {
      "text/plain": [
       "4"
      ]
     },
     "metadata": {},
     "execution_count": 210
    }
   ],
   "source": [
    "len(x)"
   ]
  },
  {
   "cell_type": "code",
   "execution_count": 211,
   "metadata": {},
   "outputs": [
    {
     "output_type": "execute_result",
     "data": {
      "text/plain": [
       "8"
      ]
     },
     "metadata": {},
     "execution_count": 211
    }
   ],
   "source": [
    "len(x[i])"
   ]
  },
  {
   "cell_type": "code",
   "execution_count": 2,
   "metadata": {},
   "outputs": [
    {
     "output_type": "stream",
     "name": "stdout",
     "text": [
      " 80   65   75   54  \n 60   10   56   20  \n 90   55   85   30  \n 85   96   58   52  \n110   60   80  110  \n100   52   30  100  \n 95   54   45  150  \n 86   57   40  120  \n"
     ]
    }
   ],
   "source": [
    "x = [[80,60,90,85,110,100,95,86],[65,10,55,96,60,52,54,57],[75,56,85,58,80,30,45,40],[54,20,30,52,110,100,150,120]]\n",
    "l = len(x)\n",
    "m = len(x[0])Z\n",
    "for i in range(m):\n",
    "    for j in range(l):\n",
    "        r = x[j][i]\n",
    "        print(\"{:>3}\".format(r),end = '  ')\n",
    "    print()\n"
   ]
  },
  {
   "cell_type": "code",
   "execution_count": 237,
   "metadata": {},
   "outputs": [
    {
     "output_type": "stream",
     "name": "stdout",
     "text": [
      " 80   65   75   54  \n 60   10   56   20  \n 90   55   85   30  \n 85   96   58   52  \n110   60   80  110  \n100   52   30  100  \n 95   54   45  150  \n 86   57   40  120  \n"
     ]
    }
   ],
   "source": [
    "l = len(x)\n",
    "m = len(x[0])\n",
    "for i in range(m):\n",
    "    for j in range(l):\n",
    "        r = x[j][i]\n",
    "        print(\"{:>3}\".format(r),end = '  ')\n",
    "    print()"
   ]
  },
  {
   "cell_type": "code",
   "execution_count": 230,
   "metadata": {},
   "outputs": [
    {
     "output_type": "stream",
     "name": "stdout",
     "text": [
      "x [0] [0]   80    x [1] [0]   65    x [2] [0]   75    x [3] [0]   54    \nx [0] [1]   60    x [1] [1]   10    x [2] [1]   56    x [3] [1]   20    \nx [0] [2]   90    x [1] [2]   55    x [2] [2]   85    x [3] [2]   30    \nx [0] [3]   85    x [1] [3]   96    x [2] [3]   58    x [3] [3]   52    \nx [0] [4]  110    x [1] [4]   60    x [2] [4]   80    x [3] [4]  110    \nx [0] [5]  100    x [1] [5]   52    x [2] [5]   30    x [3] [5]  100    \nx [0] [6]   95    x [1] [6]   54    x [2] [6]   45    x [3] [6]  150    \nx [0] [7]   86    x [1] [7]   57    x [2] [7]   40    x [3] [7]  120    \n"
     ]
    }
   ],
   "source": [
    "l = len(x)\n",
    "m = len(x[0])\n",
    "for i in range(m):\n",
    "    for j in range(l):\n",
    "        r = x[j][i]\n",
    "        #print(\"{:>3}\".format(r),end = '  ')\n",
    "        print(\"x [{}] [{}]  {:>3}\".format(j,i,r),end = '    ')\n",
    "    print()\n",
    "   "
   ]
  },
  {
   "cell_type": "code",
   "execution_count": 215,
   "metadata": {},
   "outputs": [
    {
     "output_type": "stream",
     "name": "stdout",
     "text": [
      " 80   65   65   54\n 60  100   56   20\n 90   65   85   30\n 85   96   58   52\n110   60   80  110\n 10   52   60  100\n 95   54   45  150\n 86   57   40  120\n"
     ]
    }
   ],
   "source": [
    "apple = [80,60,90,85,110,10,95,86]\n",
    "orange = [65,100,65,96,60,52,54,57]\n",
    "grapes = [65,56,85,58,80,60,45,40]\n",
    "mango = [54,20,30,52,110,100,150,120]\n",
    "\n",
    "\n",
    "for i in range(len(apple)):\n",
    "    print(\"{:>3}  {:>3}  {:>3}  {:>3}\".format(apple[i],orange[i],grapes[i],mango[i]))\n",
    "\n",
    "    "
   ]
  },
  {
   "cell_type": "code",
   "execution_count": 10,
   "metadata": {},
   "outputs": [
    {
     "output_type": "stream",
     "name": "stdout",
     "text": [
      " 80   65   65   54\n 60  100   56   20\n 90   65   85   30\n 85   96   58   52\n110   60   80  110\n 10   52   60  100\n 95   54   45  150\n 86   57   40  120\n"
     ]
    }
   ],
   "source": [
    "apple = [80,60,90,85,110,10,95,86]\n",
    "orange = [65,100,65,96,60,52,54,57]\n",
    "grapes = [65,56,85,58,80,60,45,40]\n",
    "mango = [54,20,30,52,110,100,150,120]\n",
    "\n",
    "\n",
    "for i in range(len(apple)):\n",
    "    a = apple[i]\n",
    "    o = orange[i]\n",
    "    g = grapes[i]\n",
    "    m = mango[i]\n",
    "    prn = \"{:>3}  {:>3}  {:>3}  {:>3}\".format(a,o,g,m)\n",
    "    print(prn)\n",
    "    "
   ]
  },
  {
   "cell_type": "code",
   "execution_count": 216,
   "metadata": {},
   "outputs": [
    {
     "output_type": "stream",
     "name": "stdout",
     "text": [
      "* * * * * \n* * * * * \n* * * * * \n* * * * * \n* * * * * \n"
     ]
    }
   ],
   "source": [
    "for i in range(5):\n",
    "    for j in range(5):\n",
    "        print('*',end = ' ')\n",
    "    print()"
   ]
  },
  {
   "cell_type": "code",
   "execution_count": 8,
   "metadata": {},
   "outputs": [
    {
     "output_type": "stream",
     "name": "stdout",
     "text": [
      "0 0   1 0   2 0   3 0   4 0   5 0   6 0   7 0   8 0   9 0   \n\n0 1   1 1   2 1   3 1   4 1   5 1   6 1   7 1   8 1   9 1   \n\n0 2   1 2   2 2   3 2   4 2   5 2   6 2   7 2   8 2   9 2   \n\n0 3   1 3   2 3   3 3   4 3   5 3   6 3   7 3   8 3   9 3   \n\n0 4   1 4   2 4   3 4   4 4   5 4   6 4   7 4   8 4   9 4   \n\n"
     ]
    }
   ],
   "source": [
    "for i in range(5):\n",
    "    for j in range(10):\n",
    "        print(j,i,end = '   ')\n",
    "    print()\n",
    "    print()"
   ]
  },
  {
   "cell_type": "code",
   "execution_count": 3,
   "metadata": {},
   "outputs": [
    {
     "output_type": "stream",
     "name": "stdout",
     "text": [
      "  1    2    3    4    5  \n\n  6    7    8    9   10  \n\n 11   12   13   14   15  \n\n 16   17   18   19   20  \n\n 21   22   23   24   25  \n\n"
     ]
    }
   ],
   "source": [
    "b = 0\n",
    "for i in range(5):\n",
    "    for j in range(5):\n",
    "        b = b+1\n",
    "        print(\"{:>3}\".format(b),end = '  ')\n",
    "    print()\n",
    "    print()"
   ]
  },
  {
   "cell_type": "code",
   "execution_count": 218,
   "metadata": {},
   "outputs": [],
   "source": [
    "# Square Pattern to print need nesting for loop .\n",
    "# Passing values to the pattern is requiring a variable to which calculation logic will be passed ."
   ]
  },
  {
   "cell_type": "code",
   "execution_count": 219,
   "metadata": {},
   "outputs": [],
   "source": [
    "# Alwasys Outer loop will execute the inner loop inside of it. as many times as outer loops range value.\n",
    "# Inner loop is the main loop / the body of the outer loop. which will execute and produce the required output."
   ]
  },
  {
   "source": [
    "### This is full and final about single for loop and nesting for loop\n",
    "### I will never be doubting again in nesting for loop"
   ],
   "cell_type": "markdown",
   "metadata": {}
  }
 ]
}