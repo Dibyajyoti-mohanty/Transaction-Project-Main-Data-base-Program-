{
 "metadata": {
  "language_info": {
   "codemirror_mode": {
    "name": "ipython",
    "version": 3
   },
   "file_extension": ".py",
   "mimetype": "text/x-python",
   "name": "python",
   "nbconvert_exporter": "python",
   "pygments_lexer": "ipython3",
   "version": "3.9.2-final"
  },
  "orig_nbformat": 2,
  "kernelspec": {
   "name": "python3",
   "display_name": "Python 3.9.2 64-bit",
   "metadata": {
    "interpreter": {
     "hash": "f9f85f796d01129d0dd105a088854619f454435301f6ffec2fea96ecbd9be4ac"
    }
   }
  }
 },
 "nbformat": 4,
 "nbformat_minor": 2,
 "cells": [
  {
   "cell_type": "code",
   "execution_count": 1,
   "metadata": {},
   "outputs": [],
   "source": [
    "tr = [(('1210','120001','27/02/2021'),('apple',3),('grapes',4)),\n",
    "      (('1211','120002','27/02/2021'),('pears',6),('mango',8),('orange',6)),\n",
    "      (('1212','120003','27/02/2021'),('pears',2),('apple',3),('orange',4),('cherry',5),('mango',6),('apple',7)),\n",
    "      (('1213','120004','28/02/2021'),('orange',9),('pears',8),('pineapple',5)),\n",
    "      (('1214','120005','28/02/2021'),('grapes',3),('apple',7)),\n",
    "      (('1215','120006','02/03/2021'),('mango',12),('orange',13),('guava',8),('Strawberry',10),('cherry',7)),\n",
    "      (('1211','120007','03/03/2021'),('dates',15),('banana',10),('orange',10)),\n",
    "      (('1214','120008','04/03/2021'),('dates',13),('banana',10),('Blackberry',2)),\n",
    "      (('1215','120009','05/03/2021'),('dates',12),('apple',10),('mango',10),('cherry',8)),\n",
    "      (('1216','120010','05/03/2021'),('apple',6),('dates',8),('jelly',5),('jackfruit',50)),\n",
    "     (('1217','120011','05/03/2021'),('mango',6),('apple',8))]\n",
    "\n",
    "\n",
    "\n",
    "cu = [('1210','Rajesh'),('1211','Rakesh'),('1212','Sahil'),\n",
    "      ('1213','Jack'),('1214','Steve'),('1215','Rohan',),\n",
    "      ('1216','Millan',),('1217','mikul'),('1218','smile')]\n",
    "\n",
    "\n",
    "item_detail = [('1001','apple',60),('1002','orange',40),('1003','pears',30),\n",
    "               ('1004','mango',50),('1005','grapes',45),('1006','guava',40),\n",
    "             ('1007','pineapple',60),('1008','dates',100),('1009','banana',10),\n",
    "               ('1010','Strawberry',150),('1011','Blackberry',110),\n",
    "             ('1012','cherry',90),('1013','jelly',20),('1014','jackfruit',40)]\n",
    "\n",
    "\n",
    "\n",
    "\n",
    "\n",
    "tr_cu_un = []\n",
    "\n",
    "tr_item_un = []\n",
    "\n",
    "tr_un_bill = []\n",
    "\n",
    "tr_un_date = []\n",
    "\n",
    "def cu_name_id(c_id):\n",
    "    c_id = c_id\n",
    "    for i in range(len(cu)):\n",
    "        cu_id = cu[i][0]\n",
    "        cu_name = cu[i][1]\n",
    "        if cu_id == c_id:\n",
    "            return cu_name\n",
    "        elif cu_name == c_id:\n",
    "            return cu_id \n",
    "\n",
    "def item_name_code(i_code):\n",
    "    i_code = i_code\n",
    "    for i in range(len(item_detail)):\n",
    "        tr_i_code = item_detail[i][0]\n",
    "        tr_i_name = item_detail[i][1]\n",
    "        if tr_i_code == i_code:\n",
    "            return tr_i_name\n",
    "        elif tr_i_name == i_code:\n",
    "            return tr_i_code\n",
    "\n",
    "\n",
    "for i in range(len(tr)):\n",
    "    for j in range(1,len(tr[i])):\n",
    "        cu_un_id = tr[i][0][0]\n",
    "        item_un_name = tr[i][j][0]\n",
    "        tr_bill = tr[i][0][1]\n",
    "        tr_date = tr[i][0][2]\n",
    "\n",
    "        if cu_un_id not in tr_cu_un:\n",
    "            tr_cu_un.append(cu_un_id)\n",
    "            \n",
    "\n",
    "        if item_un_name not in tr_item_un:\n",
    "            tr_item_un.append(item_un_name)\n",
    "\n",
    "\n",
    "        if tr_date not in tr_un_date:\n",
    "            tr_un_date.append(tr_date)\n",
    "        \n",
    "    tr_un_bill.append(tr_bill)\n",
    "\n"
   ]
  },
  {
   "cell_type": "code",
   "execution_count": 6,
   "metadata": {},
   "outputs": [
    {
     "output_type": "execute_result",
     "data": {
      "text/plain": [
       "['120001',\n",
       " '120002',\n",
       " '120003',\n",
       " '120004',\n",
       " '120005',\n",
       " '120006',\n",
       " '120007',\n",
       " '120008',\n",
       " '120009',\n",
       " '120010',\n",
       " '120011']"
      ]
     },
     "metadata": {},
     "execution_count": 6
    }
   ],
   "source": [
    "tr_un_bill"
   ]
  },
  {
   "cell_type": "code",
   "execution_count": 54,
   "metadata": {},
   "outputs": [
    {
     "output_type": "stream",
     "name": "stdout",
     "text": [
      "  Item_name    Item_Code   Item_Rate   Quantity   T_Amount   C_Sum\n\n('apple', 'Sahil', 600)\n"
     ]
    }
   ],
   "source": [
    "item = ''\n",
    "quantity = 0\n",
    "tr_cu_id = ''\n",
    "bill = ''\n",
    "date = ''\n",
    "tr_cu_name = ''\n",
    "item_code = ''\n",
    "item_rate = 0\n",
    "amount = 0\n",
    "c_sum = 0\n",
    "s_amount = 0\n",
    "x = 0\n",
    "\n",
    "print(\"  {:<10}   {:<6}   {:>3}   {:>6}   {:>6}  {:>6}\".format('Item_name','Item_Code','Item_Rate','Quantity','T_Amount','C_Sum'))\n",
    "print()\n",
    "\n",
    "# for u in range(len(tr_item_un)):\n",
    "#     i_name = tr_item_un[u]\n",
    "#     a_sum = 0\n",
    "#     q_sum = 0\n",
    "\n",
    "for i in range(len(tr)):\n",
    "    for j in range(1,len(tr[i])):\n",
    "        item = tr[i][j][0]\n",
    "        quantity = tr[i][j][1]\n",
    "        tr_cu_id = tr[i][0][0]\n",
    "        bill = tr[i][0][1]\n",
    "        date = tr[i][0][2]\n",
    "\n",
    "\n",
    "        for k in range(len(cu)):\n",
    "            if tr_cu_id == cu[k][0]:\n",
    "                tr_cu_name = cu[k][1]\n",
    "        for l in range(len(item_detail)):\n",
    "            if item == item_detail[l][1]:\n",
    "                item_code = item_detail[l][0]\n",
    "                item_rate = item_detail[l][2]\n",
    "        amount = item_rate * quantity\n",
    "\n",
    "        if item == 'apple':\n",
    "            if tr_cu_name == 'Sahil':\n",
    "                s_amount = s_amount + amount\n",
    "            # a_sum = a_sum + amount\n",
    "            # q_sum = q_sum + quantity\n",
    "            # t_item_code = item_code\n",
    "            # t_item_name = item\n",
    "            # t_item_rate = item_rate\n",
    "            \n",
    "#                 prn1 = item,tr_cu_name,s_amount\n",
    "# print(prn1)\n",
    "\n",
    "#     c_sum = c_sum + a_sum        \n",
    "#     print(\"  {:<10}     {:<6}      {:>3}     {:>6}       {:>6}    {:>6}\".format(t_item_name,t_item_code,t_item_rate,q_sum,a_sum,c_sum))\n",
    "# print()\n",
    "# print(\"Total ::                                          {:>6}\".format(c_sum))\n",
    "# print()\n",
    "\n",
    "\n",
    "\n"
   ]
  },
  {
   "cell_type": "code",
   "execution_count": 1,
   "metadata": {},
   "outputs": [],
   "source": [
    "\n",
    "\n",
    "def item_cust(i_name,c_name):\n",
    "\n",
    "    item = ''\n",
    "    quantity = 0\n",
    "    tr_cu_id = ''\n",
    "    bill = ''\n",
    "    date = ''\n",
    "    tr_cu_name = ''\n",
    "    item_code = ''\n",
    "    item_rate = 0\n",
    "    amount = 0\n",
    "    c_sum = 0\n",
    "    s_amount = 0\n",
    "    x = 0\n",
    "    prn2 = ''\n",
    "\n",
    "    # print(\"  {:<10}   {:<6}   {:>3}   {:>6}   {:>6}  {:>6}\".format('Item_name','Item_Code','Item_Rate','Quantity','T_Amount','C_Sum'))\n",
    "    # print()\n",
    "\n",
    "    # for u in range(len(tr_item_un)):\n",
    "    #     i_name = tr_item_un[u]\n",
    "    #     a_sum = 0\n",
    "    #     q_sum = 0\n",
    "\n",
    "    for i in range(len(tr)):\n",
    "        for j in range(1,len(tr[i])):\n",
    "            item = tr[i][j][0]\n",
    "            quantity = tr[i][j][1]\n",
    "            tr_cu_id = tr[i][0][0]\n",
    "            bill = tr[i][0][1]\n",
    "            date = tr[i][0][2]\n",
    "\n",
    "\n",
    "            for k in range(len(cu)):\n",
    "                if tr_cu_id == cu[k][0]:\n",
    "                    tr_cu_name = cu[k][1]\n",
    "            for l in range(len(item_detail)):\n",
    "                if item == item_detail[l][1]:\n",
    "                    item_code = item_detail[l][0]\n",
    "                    item_rate = item_detail[l][2]\n",
    "            amount = item_rate * quantity\n",
    "\n",
    "            if item == i_name:\n",
    "                if tr_cu_name == c_name:\n",
    "                    s_amount = s_amount + amount\n",
    "                # a_sum = a_sum + amount\n",
    "                # q_sum = q_sum + quantity\n",
    "                # t_item_code = item_code\n",
    "                # t_item_name = item\n",
    "                # t_item_rate = item_rate\n",
    "                \n",
    "                    prn2 = (s_amount)\n",
    "    print(prn2,end = '  ')\n",
    "    \n",
    "                \n",
    "    #     c_sum = c_sum + a_sum        \n",
    "    #     print(\"  {:<10}     {:<6}      {:>3}     {:>6}       {:>6}    {:>6}\".format(t_item_name,t_item_code,t_item_rate,q_sum,a_sum,c_sum))\n",
    "    # print()\n",
    "    # print(\"Total ::                                          {:>6}\".format(c_sum))\n",
    "    # print()\n",
    "\n",
    "\n",
    "\n"
   ]
  },
  {
   "cell_type": "code",
   "execution_count": 9,
   "metadata": {},
   "outputs": [
    {
     "output_type": "stream",
     "name": "stdout",
     "text": [
      "600  "
     ]
    }
   ],
   "source": [
    "item_cust('apple','Sahil')"
   ]
  },
  {
   "cell_type": "code",
   "execution_count": 13,
   "metadata": {},
   "outputs": [
    {
     "output_type": "stream",
     "name": "stdout",
     "text": [
      "180    600    420  600  360  480  "
     ]
    }
   ],
   "source": [
    "it_name = 'apple'\n",
    "for i in range(len(tr_cu_un)):\n",
    "    i_name = tr_cu_un[i]\n",
    "    z = cu_name_id(i_name)\n",
    "    item_cust(it_name,z)"
   ]
  },
  {
   "cell_type": "code",
   "execution_count": 14,
   "metadata": {},
   "outputs": [
    {
     "output_type": "error",
     "ename": "SyntaxError",
     "evalue": "invalid syntax (<ipython-input-14-984eec72419e>, line 42)",
     "traceback": [
      "\u001b[0;36m  File \u001b[0;32m\"<ipython-input-14-984eec72419e>\"\u001b[0;36m, line \u001b[0;32m42\u001b[0m\n\u001b[0;31m    if tr_cu_name == :\u001b[0m\n\u001b[0m                     ^\u001b[0m\n\u001b[0;31mSyntaxError\u001b[0m\u001b[0;31m:\u001b[0m invalid syntax\n"
     ]
    }
   ],
   "source": [
    "item = ''\n",
    "quantity = 0\n",
    "tr_cu_id = ''\n",
    "bill = ''\n",
    "date = ''\n",
    "tr_cu_name = ''\n",
    "item_code = ''\n",
    "item_rate = 0\n",
    "amount = 0\n",
    "c_sum = 0\n",
    "s_amount = 0\n",
    "x = 0\n",
    "\n",
    "print(\"  {:<10}   {:<6}   {:>3}   {:>6}   {:>6}  {:>6}\".format('Item_name','Item_Code','Item_Rate','Quantity','T_Amount','C_Sum'))\n",
    "print()\n",
    "\n",
    "for i in range(len(tr_cu_un)):\n",
    "    i_name = tr_cu_un[i]\n",
    "    item_cust('apple',i_name)\n",
    "    a_sum = 0\n",
    "    q_sum = 0\n",
    "\n",
    "    for i in range(len(tr)):\n",
    "        for j in range(1,len(tr[i])):\n",
    "            item = tr[i][j][0]\n",
    "            quantity = tr[i][j][1]\n",
    "            tr_cu_id = tr[i][0][0]\n",
    "            bill = tr[i][0][1]\n",
    "            date = tr[i][0][2]\n",
    "\n",
    "\n",
    "            for k in range(len(cu)):\n",
    "                if tr_cu_id == cu[k][0]:\n",
    "                    tr_cu_name = cu[k][1]\n",
    "            for l in range(len(item_detail)):\n",
    "                if item == item_detail[l][1]:\n",
    "                    item_code = item_detail[l][0]\n",
    "                    item_rate = item_detail[l][2]\n",
    "            amount = item_rate * quantity\n",
    "\n",
    "            if item == 'apple':\n",
    "                if tr_cu_name == :\n",
    "                    s_amount = s_amount + amount\n",
    "                # a_sum = a_sum + amount\n",
    "                # q_sum = q_sum + quantity\n",
    "                # t_item_code = item_code\n",
    "                # t_item_name = item\n",
    "                # t_item_rate = item_rate\n",
    "                \n",
    "                   # print(tr_cu_name,s_amount)\n",
    "                \n",
    "    #     c_sum = c_sum + a_sum        \n",
    "    #     print(\"  {:<10}     {:<6}      {:>3}     {:>6}       {:>6}    {:>6}\".format(t_item_name,t_item_code,t_item_rate,q_sum,a_sum,c_sum))\n",
    "    # print()\n",
    "    # print(\"Total ::                                          {:>6}\".format(c_sum))\n",
    "    # print()\n",
    "\n",
    "\n",
    "\n"
   ]
  },
  {
   "cell_type": "code",
   "execution_count": 35,
   "metadata": {},
   "outputs": [
    {
     "output_type": "stream",
     "name": "stdout",
     "text": [
      "  Item_name    Item_Code   Item_Rate   Quantity   T_Amount   C_Sum\n\napple Sahil 180\napple Sahil 600\n"
     ]
    }
   ],
   "source": [
    "item_cust('apple','Sahil')"
   ]
  },
  {
   "cell_type": "code",
   "execution_count": 41,
   "metadata": {},
   "outputs": [
    {
     "output_type": "execute_result",
     "data": {
      "text/plain": [
       "'Sahil'"
      ]
     },
     "metadata": {},
     "execution_count": 41
    }
   ],
   "source": [
    "i_name = tr_cu_un[2]\n",
    "z = cu_name_id(i_name)\n"
   ]
  },
  {
   "cell_type": "code",
   "execution_count": 4,
   "metadata": {},
   "outputs": [
    {
     "output_type": "error",
     "ename": "NameError",
     "evalue": "name 'item_cust' is not defined",
     "traceback": [
      "\u001b[0;31m---------------------------------------------------------------------------\u001b[0m",
      "\u001b[0;31mNameError\u001b[0m                                 Traceback (most recent call last)",
      "\u001b[0;32m<ipython-input-4-903ef53339f1>\u001b[0m in \u001b[0;36m<module>\u001b[0;34m\u001b[0m\n\u001b[1;32m      2\u001b[0m     \u001b[0mi_name\u001b[0m \u001b[0;34m=\u001b[0m \u001b[0mtr_cu_un\u001b[0m\u001b[0;34m[\u001b[0m\u001b[0mi\u001b[0m\u001b[0;34m]\u001b[0m\u001b[0;34m\u001b[0m\u001b[0;34m\u001b[0m\u001b[0m\n\u001b[1;32m      3\u001b[0m     \u001b[0mz\u001b[0m \u001b[0;34m=\u001b[0m \u001b[0mcu_name_id\u001b[0m\u001b[0;34m(\u001b[0m\u001b[0mi_name\u001b[0m\u001b[0;34m)\u001b[0m\u001b[0;34m\u001b[0m\u001b[0;34m\u001b[0m\u001b[0m\n\u001b[0;32m----> 4\u001b[0;31m     \u001b[0mitem_cust\u001b[0m\u001b[0;34m(\u001b[0m\u001b[0;34m'orange'\u001b[0m\u001b[0;34m,\u001b[0m\u001b[0mz\u001b[0m\u001b[0;34m)\u001b[0m\u001b[0;34m\u001b[0m\u001b[0;34m\u001b[0m\u001b[0m\n\u001b[0m",
      "\u001b[0;31mNameError\u001b[0m: name 'item_cust' is not defined"
     ]
    }
   ],
   "source": [
    "for i in range(len(tr_cu_un)):\n",
    "    i_name = tr_cu_un[i]\n",
    "    z = cu_name_id(i_name)\n",
    "    item_cust('orange',z)"
   ]
  },
  {
   "cell_type": "code",
   "execution_count": 55,
   "metadata": {},
   "outputs": [
    {
     "output_type": "stream",
     "name": "stdout",
     "text": [
      "240\n640\n"
     ]
    }
   ],
   "source": [
    "item_cust('orange','Rakesh')"
   ]
  },
  {
   "cell_type": "code",
   "execution_count": 94,
   "metadata": {},
   "outputs": [
    {
     "output_type": "stream",
     "name": "stdout",
     "text": [
      "Rajesh 180  Rakesh   Sahil 600  Jack   Steve 420  Rohan 600  Millan 360  mikul 480  Rajesh   Rakesh 640  Sahil 160  Jack 360  Steve   Rohan 520  Millan   mikul   "
     ]
    }
   ],
   "source": [
    "ls = ['apple','orange']\n",
    "for j in range(len(ls)):\n",
    "    it_name = ls[j]\n",
    "    for i in range(len(tr_cu_un)):\n",
    "        i_name = tr_cu_un[i]\n",
    "        z = cu_name_id(i_name)\n",
    "        print(z,end = ' ')\n",
    "        item_cust(it_name,z)"
   ]
  },
  {
   "cell_type": "code",
   "execution_count": 95,
   "metadata": {},
   "outputs": [
    {
     "output_type": "stream",
     "name": "stdout",
     "text": [
      "  640  160  360    520      "
     ]
    }
   ],
   "source": [
    "a = 'orange'\n",
    "for i in range(len(tr_cu_un)):\n",
    "    i_name = tr_cu_un[i]\n",
    "    z = cu_name_id(i_name)\n",
    "    item_cust(a,z)"
   ]
  },
  {
   "cell_type": "code",
   "execution_count": 16,
   "metadata": {},
   "outputs": [
    {
     "output_type": "stream",
     "name": "stdout",
     "text": [
      "* * * * \n* * * * \n* * * * \n* * * * \n"
     ]
    }
   ],
   "source": [
    "for j in range(4):\n",
    "    for i in range(4):\n",
    "        print(\"*\",end = ' ')\n",
    "    print()"
   ]
  },
  {
   "cell_type": "code",
   "execution_count": 8,
   "metadata": {},
   "outputs": [
    {
     "output_type": "stream",
     "name": "stdout",
     "text": [
      "180    600    420  600  360  480  "
     ]
    }
   ],
   "source": [
    "q = 'apple'\n",
    "for i in range(len(tr_cu_un)):\n",
    "    i_name = tr_cu_un[i]\n",
    "    z = cu_name_id(i_name)\n",
    "    item_cust(q,z)"
   ]
  },
  {
   "cell_type": "code",
   "execution_count": 40,
   "metadata": {},
   "outputs": [
    {
     "output_type": "stream",
     "name": "stdout",
     "text": [
      "180  \n  \n600  \n  \n420  \n600  \n360  \n480  \n180  \n  \n  \n  \n135  \n  \n  \n  \n  \n180  \n60  \n240  \n  \n  \n  \n  \n  \n400  \n300  \n  \n  \n1100  \n  \n300  \n  \n640  \n160  \n360  \n  \n520  \n  \n  \n  \n  \n450  \n  \n  \n1350  \n  \n  \n  \n  \n  \n300  \n  \n  \n  \n  \n  \n  \n  \n  \n  \n320  \n  \n  \n  \n  \n  \n  \n  \n1500  \n  \n  \n  \n1500  \n  \n  \n1300  \n1200  \n800  \n  \n  \n100  \n  \n  \n100  \n  \n  \n  \n  \n  \n  \n  \n220  \n  \n  \n  \n  \n  \n  \n  \n  \n  \n100  \n  \n  \n  \n  \n  \n  \n  \n2000  \n  \n"
     ]
    }
   ],
   "source": [
    "for j in range(len(tr_item_un)):\n",
    "    j_name = tr_item_un[j]\n",
    "    for i in range(len(tr_cu_un)):\n",
    "       i_name =tr_cu_un[i]\n",
    "       z = cu_name_id(i_name)\n",
    "       item_cust(j_name,z)\n",
    "    \n",
    "\n"
   ]
  },
  {
   "cell_type": "code",
   "execution_count": 12,
   "metadata": {},
   "outputs": [],
   "source": [
    "\n",
    "\n",
    "def item_cust(i_name,c_name):\n",
    "\n",
    "    item = ''\n",
    "    quantity = 0\n",
    "    tr_cu_id = ''\n",
    "    bill = ''\n",
    "    date = ''\n",
    "    tr_cu_name = ''\n",
    "    item_code = ''\n",
    "    item_rate = 0\n",
    "    amount = 0\n",
    "    c_sum = 0\n",
    "    s_amount = 0\n",
    "    x = 0\n",
    "    prn2 = ''\n",
    "\n",
    "    # print(\"  {:<10}   {:<6}   {:>3}   {:>6}   {:>6}  {:>6}\".format('Item_name','Item_Code','Item_Rate','Quantity','T_Amount','C_Sum'))\n",
    "    # print()\n",
    "\n",
    "    # for u in range(len(tr_item_un)):\n",
    "    #     i_name = tr_item_un[u]\n",
    "    #     a_sum = 0\n",
    "    #     q_sum = 0\n",
    "\n",
    "    for i in range(len(tr)):\n",
    "        for j in range(1,len(tr[i])):\n",
    "            item = tr[i][j][0]\n",
    "            quantity = tr[i][j][1]\n",
    "            tr_cu_id = tr[i][0][0]\n",
    "            bill = tr[i][0][1]\n",
    "            date = tr[i][0][2]\n",
    "\n",
    "\n",
    "            for k in range(len(cu)):\n",
    "                if tr_cu_id == cu[k][0]:\n",
    "                    tr_cu_name = cu[k][1]\n",
    "            for l in range(len(item_detail)):\n",
    "                if item == item_detail[l][1]:\n",
    "                    item_code = item_detail[l][0]\n",
    "                    item_rate = item_detail[l][2]\n",
    "            amount = item_rate * quantity\n",
    "\n",
    "            if item == i_name:\n",
    "                if tr_cu_name == c_name:\n",
    "                    s_amount = s_amount + amount\n",
    "                # a_sum = a_sum + amount\n",
    "                # q_sum = q_sum + quantity\n",
    "                # t_item_code = item_code\n",
    "                # t_item_name = item\n",
    "                # t_item_rate = item_rate\n",
    "                \n",
    "                    prn2 = (c_name,s_amount)\n",
    "    print(prn2,end = '  ')\n",
    "                \n",
    "    #     c_sum = c_sum + a_sum        \n",
    "    #     print(\"  {:<10}     {:<6}      {:>3}     {:>6}       {:>6}    {:>6}\".format(t_item_name,t_item_code,t_item_rate,q_sum,a_sum,c_sum))\n",
    "    # print()\n",
    "    # print(\"Total ::                                          {:>6}\".format(c_sum))\n",
    "    # print()\n",
    "\n",
    "\n",
    "\n"
   ]
  },
  {
   "cell_type": "code",
   "execution_count": 33,
   "metadata": {},
   "outputs": [
    {
     "output_type": "stream",
     "name": "stdout",
     "text": [
      "apple  orange  grapes  mango\n\n 80     57      40      120\n 60     57      40      120\n 90     57      40      120\n 85     57      40      120\n110     57      40      120\n100     57      40      120\n 95     57      40      120\n 86     57      40      120\n"
     ]
    }
   ],
   "source": [
    "apple = [80,60,90,85,110,100,95,86]\n",
    "orange = [65,100,65,96,60,52,54,57]\n",
    "grapes = [65,56,85,58,80,60,45,40]\n",
    "mango = [54,20,30,52,110,100,150,120]\n",
    "print(\"{:>3}  {:>3}  {:>3}  {:>3}\".format('apple','orange','grapes','mango'))\n",
    "print()\n",
    "\n",
    "    print(\"{:>3}    {:>3}     {:>3}      {:>3}\".format(a,o,g,m))\n",
    "       "
   ]
  },
  {
   "cell_type": "code",
   "execution_count": 42,
   "metadata": {},
   "outputs": [
    {
     "output_type": "stream",
     "name": "stdout",
     "text": [
      "* * * * \n* * * * \n* * * * \n* * * * \n"
     ]
    }
   ],
   "source": [
    "for j in range(4):\n",
    "    for i in range(4):\n",
    "        print(\"*\",end = ' ')\n",
    "    print()"
   ]
  },
  {
   "cell_type": "code",
   "execution_count": null,
   "metadata": {},
   "outputs": [],
   "source": [
    "apple = [80,60,90,85,110,100,95,86]\n",
    "orange = [65,100,65,96,60,52,54,57]\n",
    "grapes = [65,56,85,58,80,60,45,40]\n",
    "mango = [54,20,30,52,110,100,150,120]\n",
    "\n"
   ]
  },
  {
   "cell_type": "code",
   "execution_count": 36,
   "metadata": {},
   "outputs": [
    {
     "output_type": "stream",
     "name": "stdout",
     "text": [
      "80 80 80 80 80 80 80 80 65 65 65 65 65 65 65 65 65 65 65 65 65 65 65 65 54 54 54 54 54 54 54 54 \n"
     ]
    }
   ],
   "source": [
    "fruits = [[80,60,90,85,110,100,95,86],[65,100,65,96,60,52,54,57],[65,56,85,58,80,60,45,40],[54,20,30,52,110,100,150,120]]\n",
    "for i in range(len(fruits)):\n",
    "    for j in range (len(fruits[i])):\n",
    "      \n",
    "\n",
    "print()\n",
    "    "
   ]
  },
  {
   "cell_type": "code",
   "execution_count": 25,
   "metadata": {},
   "outputs": [
    {
     "output_type": "stream",
     "name": "stdout",
     "text": [
      "@ @ @ @ @ \n@ @ @ @ @ \n@ @ @ @ @ \n@ @ @ @ @ \n@ @ @ @ @ \n@ @ @ @ @ \n@ @ @ @ @ \n"
     ]
    }
   ],
   "source": [
    "for i in range(7):\n",
    "    for j in range(5):\n",
    "        print('@',end = ' ')\n",
    "    print()"
   ]
  },
  {
   "cell_type": "code",
   "execution_count": 52,
   "metadata": {},
   "outputs": [
    {
     "output_type": "stream",
     "name": "stdout",
     "text": [
      "80 65 65 54 "
     ]
    }
   ],
   "source": [
    "fruits = [[80,60,90,85,110,100,95,86],[65,100,65,96,60,52,54,57],[65,56,85,58,80,60,45,40],[54,20,30,52,110,100,150,120]]\n",
    "\n",
    "for i in range(len(fruits)):\n",
    "    print(fruits[i][0],end = ' ')"
   ]
  },
  {
   "cell_type": "code",
   "execution_count": null,
   "metadata": {},
   "outputs": [],
   "source": [
    "fruits = [[80,60,90,85,110,100,95,86],[65,100,65,96,60,52,54,57],[65,56,85,58,80,60,45,40],[54,20,30,52,110,100,150,120]]\n",
    "\n",
    "for i in range(len(fruits)):\n",
    "    print(fruits[i][0])"
   ]
  },
  {
   "cell_type": "code",
   "execution_count": 45,
   "metadata": {},
   "outputs": [
    {
     "output_type": "error",
     "ename": "TypeError",
     "evalue": "'int' object is not subscriptable",
     "traceback": [
      "\u001b[0;31m---------------------------------------------------------------------------\u001b[0m",
      "\u001b[0;31mTypeError\u001b[0m                                 Traceback (most recent call last)",
      "\u001b[0;32m<ipython-input-45-cf60e4511303>\u001b[0m in \u001b[0;36m<module>\u001b[0;34m\u001b[0m\n\u001b[1;32m      1\u001b[0m \u001b[0;32mfor\u001b[0m \u001b[0mi\u001b[0m \u001b[0;32min\u001b[0m \u001b[0mrange\u001b[0m\u001b[0;34m(\u001b[0m\u001b[0mlen\u001b[0m\u001b[0;34m(\u001b[0m\u001b[0mfruits\u001b[0m\u001b[0;34m)\u001b[0m\u001b[0;34m)\u001b[0m\u001b[0;34m:\u001b[0m\u001b[0;34m\u001b[0m\u001b[0;34m\u001b[0m\u001b[0m\n\u001b[1;32m      2\u001b[0m     \u001b[0;32mfor\u001b[0m \u001b[0mj\u001b[0m \u001b[0;32min\u001b[0m \u001b[0mrange\u001b[0m\u001b[0;34m(\u001b[0m\u001b[0mlen\u001b[0m\u001b[0;34m(\u001b[0m\u001b[0mfruits\u001b[0m\u001b[0;34m[\u001b[0m\u001b[0mi\u001b[0m\u001b[0;34m]\u001b[0m\u001b[0;34m)\u001b[0m\u001b[0;34m)\u001b[0m\u001b[0;34m:\u001b[0m\u001b[0;34m\u001b[0m\u001b[0;34m\u001b[0m\u001b[0m\n\u001b[0;32m----> 3\u001b[0;31m         \u001b[0ma\u001b[0m \u001b[0;34m=\u001b[0m \u001b[0mfruits\u001b[0m\u001b[0;34m[\u001b[0m\u001b[0mi\u001b[0m\u001b[0;34m]\u001b[0m\u001b[0;34m[\u001b[0m\u001b[0mj\u001b[0m\u001b[0;34m]\u001b[0m\u001b[0;34m[\u001b[0m\u001b[0;36m0\u001b[0m\u001b[0;34m]\u001b[0m\u001b[0;34m\u001b[0m\u001b[0;34m\u001b[0m\u001b[0m\n\u001b[0m\u001b[1;32m      4\u001b[0m         \u001b[0mprint\u001b[0m\u001b[0;34m(\u001b[0m\u001b[0ma\u001b[0m\u001b[0;34m)\u001b[0m\u001b[0;34m\u001b[0m\u001b[0;34m\u001b[0m\u001b[0m\n",
      "\u001b[0;31mTypeError\u001b[0m: 'int' object is not subscriptable"
     ]
    }
   ],
   "source": [
    "for i in range(len(fruits)):\n",
    "    for j in range(len(fruits[i])):\n",
    "        a = fruits[i][j][0]\n",
    "        print(a)"
   ]
  },
  {
   "cell_type": "code",
   "execution_count": 48,
   "metadata": {},
   "outputs": [
    {
     "output_type": "stream",
     "name": "stdout",
     "text": [
      "54\n"
     ]
    }
   ],
   "source": [
    "for i in range(len(fruits)):\n",
    "    "
   ]
  },
  {
   "cell_type": "code",
   "execution_count": null,
   "metadata": {},
   "outputs": [],
   "source": []
  },
  {
   "cell_type": "code",
   "execution_count": null,
   "metadata": {},
   "outputs": [],
   "source": []
  },
  {
   "cell_type": "code",
   "execution_count": null,
   "metadata": {},
   "outputs": [],
   "source": []
  }
 ]
}