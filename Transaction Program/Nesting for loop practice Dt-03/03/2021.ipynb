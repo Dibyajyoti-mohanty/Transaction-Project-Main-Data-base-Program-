{
 "metadata": {
  "language_info": {
   "codemirror_mode": {
    "name": "ipython",
    "version": 3
   },
   "file_extension": ".py",
   "mimetype": "text/x-python",
   "name": "python",
   "nbconvert_exporter": "python",
   "pygments_lexer": "ipython3",
   "version": "3.9.2-final"
  },
  "orig_nbformat": 2,
  "kernelspec": {
   "name": "python3",
   "display_name": "Python 3.9.2 64-bit",
   "metadata": {
    "interpreter": {
     "hash": "f9f85f796d01129d0dd105a088854619f454435301f6ffec2fea96ecbd9be4ac"
    }
   }
  }
 },
 "nbformat": 4,
 "nbformat_minor": 2,
 "cells": [
  {
   "cell_type": "code",
   "execution_count": 2,
   "metadata": {},
   "outputs": [],
   "source": [
    "# 80   65   75   54  \n",
    "#  60   10   56   20  \n",
    "#  90   55   85   30  \n",
    "#  85   96   58   52  \n",
    "# 110   60   80  110  \n",
    "# 100   52   30  100  \n",
    "#  95   54   45  150  \n",
    "#  86   57   40  120  \n"
   ]
  },
  {
   "cell_type": "code",
   "execution_count": 6,
   "metadata": {},
   "outputs": [
    {
     "output_type": "stream",
     "name": "stdout",
     "text": [
      "80 65 75 54 \n60 10 56 20 \n90 55 85 30 \n85 96 58 52 \n110 60 80 110 \n100 52 30 100 \n95 54 45 150 \n86 57 40 120 \n"
     ]
    }
   ],
   "source": [
    "x = [[80,60,90,85,110,100,95,86],[65,10,55,96,60,52,54,57],[75,56,85,58,80,30,45,40],[54,20,30,52,110,100,150,120]]\n",
    "m = x[0]\n",
    "for j in range(len(m)):\n",
    "    for i in range(len(x)):\n",
    "        print(x[i][j],end = ' ')\n",
    "    print()"
   ]
  },
  {
   "cell_type": "code",
   "execution_count": 4,
   "metadata": {},
   "outputs": [
    {
     "output_type": "stream",
     "name": "stdout",
     "text": [
      "80 60 90 85 110 100 95 86 \n65 10 55 96 60 52 54 57 \n75 56 85 58 80 30 45 40 \n54 20 30 52 110 100 150 120 \n"
     ]
    }
   ],
   "source": [
    "x = [[80,60,90,85,110,100,95,86],[65,10,55,96,60,52,54,57],[75,56,85,58,80,30,45,40],[54,20,30,52,110,100,150,120]]\n",
    "\n",
    "for i in range(len(x)):\n",
    "    for j in range(len(x[i])):\n",
    "        print(x[i][j],end = ' ')\n",
    "    print()"
   ]
  },
  {
   "cell_type": "code",
   "execution_count": 5,
   "metadata": {},
   "outputs": [
    {
     "output_type": "stream",
     "name": "stdout",
     "text": [
      "80 65 75 54 \n60 10 56 20 \n90 55 85 30 \n85 96 58 52 \n110 60 80 110 \n100 52 30 100 \n95 54 45 150 \n86 57 40 120 \n"
     ]
    }
   ],
   "source": [
    "l = len(x)\n",
    "#m = len(x[0])\n",
    "for j in range(len(x[i])):\n",
    "    for i in range(l):\n",
    "        r = x[i][j]\n",
    "        print(r,end = ' ')\n",
    "    print()"
   ]
  },
  {
   "cell_type": "code",
   "execution_count": 33,
   "metadata": {},
   "outputs": [
    {
     "output_type": "stream",
     "name": "stdout",
     "text": [
      " 80  65  75  54 \n 60  10  56  20 \n 90  55  85  30 \n 85  96  58  52 \n110  60  80 110 \n100  52  30 100 \n 95  54  45 150 \n 86  57  40 120 \n"
     ]
    }
   ],
   "source": [
    "l = len(x)\n",
    "m = len(x[0])\n",
    "for i in range(m):\n",
    "    for j in range(l):\n",
    "        r = x[j][i]\n",
    "        print(\"{:>3}\".format(r),end = ' ')\n",
    "    print()"
   ]
  },
  {
   "cell_type": "code",
   "execution_count": 21,
   "metadata": {},
   "outputs": [
    {
     "output_type": "stream",
     "name": "stdout",
     "text": [
      "apple orange grapes mango\n 80  65  75  54 \n 60  10  56  20 \n 90  55  85  30 \n 85  96  58  52 \n110  60  80 110 \n100  52  30 100 \n 95  54  45 150 \n 86  57  40 120 \n"
     ]
    }
   ],
   "source": [
    "head = ['apple','orange','grapes','mango']\n",
    "h1 = head[0]\n",
    "h2 = head[1]\n",
    "h3 = head[2]\n",
    "h4 = head[3]\n",
    "print(h1,h2,h3,h4)\n",
    "x = [[80,60,90,85,110,100,95,86],[65,10,55,96,60,52,54,57],[75,56,85,58,80,30,45,40],[54,20,30,52,110,100,150,120]]\n",
    "\n",
    "l = len(x)\n",
    "m = len(x[0])\n",
    "for i in range(m):\n",
    "    for j in range(l):\n",
    "        r = x[j][i]\n",
    "        print(\"{:>3}\".format(r),end = ' ')\n",
    "    print()"
   ]
  },
  {
   "cell_type": "code",
   "execution_count": null,
   "metadata": {},
   "outputs": [],
   "source": [
    "\n",
    "#  'apple' 'orange' 'grapes' 'mango'\n",
    "    \n",
    "#     80      65      75       54 \n",
    "#     60      10      56       20 \n",
    "#     90      55      85       30 \n",
    "#     85      96      58       52 \n",
    "#     110     60      80      110 \n",
    "#     100     52      30      100 \n",
    "#     95      54      45      150 \n",
    "#     86      57      40      120 "
   ]
  },
  {
   "cell_type": "code",
   "execution_count": 35,
   "metadata": {},
   "outputs": [
    {
     "output_type": "stream",
     "name": "stdout",
     "text": [
      "apple  orange  grapes  mango  \n  80     65     75     54   \n  60     10     56     20   \n  90     55     85     30   \n  85     96     58     52   \n 110     60     80    110   \n 100     52     30    100   \n  95     54     45    150   \n  86     57     40    120   \n"
     ]
    }
   ],
   "source": [
    "head = ['apple','orange','grapes','mango']\n",
    "for i in range(len(head)):\n",
    "    print(head[i],end = '  ')\n",
    "print()\n",
    "x = [[80,60,90,85,110,100,95,86],[65,10,55,96,60,52,54,57],[75,56,85,58,80,30,45,40],[54,20,30,52,110,100,150,120]]\n",
    "  \n",
    "l = len(x)\n",
    "m = len(x[0])\n",
    "for i in range(m):\n",
    "    for j in range(l):\n",
    "        r = x[j][i]\n",
    "        print(\" {:>3}  \".format(r),end = ' ')\n",
    "    print()"
   ]
  },
  {
   "cell_type": "code",
   "execution_count": 56,
   "metadata": {},
   "outputs": [
    {
     "output_type": "stream",
     "name": "stdout",
     "text": [
      "apple  orange  grapes  mango  \n\n 80      65      75      54     \n 60      10      56      20     \n 90      55      85      30     \n 85      96      58      52     \n110      60      80     110     \n100      52      30     100     \n 95      54      45     150     \n 86      57      40     120     \n"
     ]
    }
   ],
   "source": [
    "head = ['apple','orange','grapes','mango']\n",
    "for i in range(len(head)):\n",
    "    print(head[i],end = '  ')\n",
    "print()\n",
    "print()\n",
    "\n",
    "x = [[80,60,90,85,110,100,95,86],[65,10,55,96,60,52,54,57],[75,56,85,58,80,30,45,40],[54,20,30,52,110,100,150,120]]  \n",
    "l = len(x)\n",
    "m = len(x[0])\n",
    "for i in range(m):\n",
    "    for j in range(l):\n",
    "        r = x[j][i]\n",
    "        print(\"{:>3}\".format(r),end = '     ')\n",
    "    print()"
   ]
  }
 ]
}