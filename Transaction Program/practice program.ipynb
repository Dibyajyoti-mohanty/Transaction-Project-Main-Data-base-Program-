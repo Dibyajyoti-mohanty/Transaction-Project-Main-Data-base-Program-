{
 "metadata": {
  "language_info": {
   "codemirror_mode": {
    "name": "ipython",
    "version": 3
   },
   "file_extension": ".py",
   "mimetype": "text/x-python",
   "name": "python",
   "nbconvert_exporter": "python",
   "pygments_lexer": "ipython3",
   "version": "3.9.2-final"
  },
  "orig_nbformat": 2,
  "kernelspec": {
   "name": "python3",
   "display_name": "Python 3.9.2 64-bit",
   "metadata": {
    "interpreter": {
     "hash": "f9f85f796d01129d0dd105a088854619f454435301f6ffec2fea96ecbd9be4ac"
    }
   }
  }
 },
 "nbformat": 4,
 "nbformat_minor": 2,
 "cells": [
  {
   "cell_type": "code",
   "execution_count": 2,
   "metadata": {},
   "outputs": [
    {
     "output_type": "stream",
     "name": "stdout",
     "text": [
      "1 (('1210', '120001'), ('apple', 3), ('grapes', 4))\n2 (('1211', '120002'), ('pears', 6), ('mango', 8), ('orange', 6))\n3 (('1212', '120003'), ('pears', 2), ('apple', 3), ('orange', 4), ('cherry', 5), ('mango', 6), ('apple', 7))\n4 (('1213', '120004'), ('orange', 9), ('pears', 8), ('pineapple', 5))\n5 (('1214', '120005'), ('grapes', 3), ('apple', 7))\n6 (('1215', '120006'), ('mango', 12), ('orange', 13), ('guava', 8), ('Strawberry', 10), ('cherry', 7))\n7 (('1211', '120007'), ('dates', 15), ('banana', 10), ('orange', 10))\n8 (('1214', '120008'), ('dates', 13), ('banana', 10), ('Blackberry', 2))\n9 (('1215', '120009'), ('dates', 12), ('apple', 10), ('mango', 10), ('cherry', 8))\n10 (('1216', '120010'), ('apple', 6), ('dates', 8), ('jelly', 5), ('jackfruit', 50))\n11 (('1217', '120011'), ('mango', 6), ('apple', 8))\n"
     ]
    }
   ],
   "source": [
    "tr = [(('1210','120001'),('apple',3),('grapes',4)),\n",
    "      (('1211','120002'),('pears',6),('mango',8),('orange',6)),\n",
    "      (('1212','120003'),('pears',2),('apple',3),('orange',4),('cherry',5),('mango',6),('apple',7)),\n",
    "      (('1213','120004'),('orange',9),('pears',8),('pineapple',5)),\n",
    "      (('1214','120005'),('grapes',3),('apple',7)),\n",
    "      (('1215','120006'),('mango',12),('orange',13),('guava',8),('Strawberry',10),('cherry',7)),\n",
    "      (('1211','120007'),('dates',15),('banana',10),('orange',10)),\n",
    "      (('1214','120008'),('dates',13),('banana',10),('Blackberry',2)),\n",
    "      (('1215','120009'),('dates',12),('apple',10),('mango',10),('cherry',8)),\n",
    "      (('1216','120010'),('apple',6),('dates',8),('jelly',5),('jackfruit',50)),\n",
    "     (('1217','120011'),('mango',6),('apple',8))]\n",
    "\n",
    "\n",
    "cu = [('1210','Rajesh'),('1211','Rakesh'),('1212','Sahil'),\n",
    "      ('1213','Jack'),('1214','Steve'),('1215','Rohan',),\n",
    "      ('1216','Millan',),('1217','mikul'),('1218','smile')]\n",
    "\n",
    "\n",
    "item_detail = [('1001','apple',60),('1002','orange',40),('1003','pears',30),\n",
    "               ('1004','mango',50),('1005','grapes',45),('1006','guava',40),\n",
    "             ('1007','pineapple',60),('1008','dates',100),('1009','banana',10),\n",
    "               ('1010','Strawberry',150),('1011','Blackberry',110),\n",
    "             ('1012','cherry',90),('1013','jelly',20),('1014','jackfruit',40)]\n",
    "\n",
    "\n",
    "\n",
    "\n",
    "\n",
    "for i in range(len(tr)):\n",
    "    print(i+1,tr[i])\n",
    "\n",
    "\n",
    "\n"
   ]
  },
  {
   "cell_type": "code",
   "execution_count": null,
   "metadata": {},
   "outputs": [],
   "source": []
  },
  {
   "cell_type": "code",
   "execution_count": 2,
   "metadata": {},
   "outputs": [
    {
     "output_type": "stream",
     "name": "stdout",
     "text": [
      "(('1210', '120001'), ('apple', 3), ('grapes', 4))\n(('1211', '120002'), ('pears', 6), ('mango', 8), ('orange', 6))\n(('1212', '120003'), ('pears', 2), ('apple', 3), ('orange', 4), ('cherry', 5), ('mango', 6), ('apple', 7))\n(('1213', '120004'), ('orange', 9), ('pears', 8), ('pineapple', 5))\n(('1214', '120005'), ('grapes', 3), ('apple', 7))\n(('1215', '120006'), ('mango', 12), ('orange', 13), ('guava', 8), ('Strawberry', 10), ('cherry', 7))\n(('1211', '120007'), ('dates', 15), ('banana', 10), ('orange', 10))\n(('1214', '120008'), ('dates', 13), ('banana', 10), ('Blackberry', 2))\n(('1215', '120009'), ('dates', 12), ('apple', 10), ('mango', 10), ('cherry', 8))\n(('1216', '120010'), ('apple', 6), ('dates', 8), ('jelly', 5), ('jackfruit', 50))\n(('1217', '120011'), ('mango', 6), ('apple', 8))\n"
     ]
    }
   ],
   "source": [
    "tr = [(('1210','120001'),('apple',3),('grapes',4)),\n",
    "      (('1211','120002'),('pears',6),('mango',8),('orange',6)),\n",
    "      (('1212','120003'),('pears',2),('apple',3),('orange',4),('cherry',5),('mango',6),('apple',7)),\n",
    "      (('1213','120004'),('orange',9),('pears',8),('pineapple',5)),\n",
    "      (('1214','120005'),('grapes',3),('apple',7)),\n",
    "      (('1215','120006'),('mango',12),('orange',13),('guava',8),('Strawberry',10),('cherry',7)),\n",
    "      (('1211','120007'),('dates',15),('banana',10),('orange',10)),\n",
    "      (('1214','120008'),('dates',13),('banana',10),('Blackberry',2)),\n",
    "      (('1215','120009'),('dates',12),('apple',10),('mango',10),('cherry',8)),\n",
    "      (('1216','120010'),('apple',6),('dates',8),('jelly',5),('jackfruit',50)),\n",
    "     (('1217','120011'),('mango',6),('apple',8))]\n",
    "\n",
    "\n",
    "cu = [('1210','Rajesh'),('1211','Rakesh'),('1212','Sahil'),\n",
    "      ('1213','Jack'),('1214','Steve'),('1215','Rohan',),\n",
    "      ('1216','Millan',),('1217','mikul'),('1218','smile')]\n",
    "\n",
    "\n",
    "item_detail = [('1001','apple',60),('1002','orange',40),('1003','pears',30),\n",
    "               ('1004','mango',50),('1005','grapes',45),('1006','guava',40),\n",
    "             ('1007','pineapple',60),('1008','dates',100),('1009','banana',10),\n",
    "               ('1010','Strawberry',150),('1011','Blackberry',110),\n",
    "             ('1012','cherry',90),('1013','jelly',20),('1014','jackfruit',40)]\n",
    "\n",
    "\n",
    "\n",
    "\n",
    "\n",
    "for i in range(len(tr)):\n",
    "\n",
    "    tra = tr[i]\n",
    "    print(tra)\n",
    "\n",
    "\n",
    "\n"
   ]
  },
  {
   "source": [
    "## Finding the tuple of bill no. '120006"
   ],
   "cell_type": "markdown",
   "metadata": {}
  },
  {
   "cell_type": "code",
   "execution_count": 20,
   "metadata": {},
   "outputs": [
    {
     "output_type": "stream",
     "name": "stdout",
     "text": [
      "5  (('1215', '120006'), ('mango', 12), ('orange', 13), ('guava', 8), ('Strawberry', 10), ('cherry', 7))\n"
     ]
    }
   ],
   "source": [
    "bill = '120006'\n",
    "\n",
    "for i in range(len(tr)):\n",
    "    billno = tr[i][0][1]\n",
    "    if bill == billno:\n",
    "        print(i,'',tr[i])\n",
    "\n",
    "        \n"
   ]
  },
  {
   "source": [
    "### Find out bill no of each content grapes.find the customer name and customer code ?\n"
   ],
   "cell_type": "markdown",
   "metadata": {}
  },
  {
   "cell_type": "code",
   "execution_count": 191,
   "metadata": {},
   "outputs": [
    {
     "output_type": "stream",
     "name": "stdout",
     "text": [
      " bill            item        item_code  cu_id  cu_name  amount  a_sum\n\n120001           grapes        1005      1210   Rajesh   180     180\n120005           grapes        1005      1214   Steve    135     315\n\nTotal amount of  grapes                                  315\n"
     ]
    }
   ],
   "source": [
    "\n",
    "item = ''\n",
    "cu_id = ''\n",
    "quantity = 0\n",
    "bill = ''\n",
    "item_code = ''\n",
    "item_rate = ''\n",
    "cu_name = ''\n",
    "i_name = \n",
    "amount = 0\n",
    "a_sum = 0\n",
    "\n",
    "print(\" {}            {:<10}  {}  {}  {:<8} {:>5}  {}\".format('bill','item','item_code','cu_id','cu_name','amount','a_sum'))\n",
    "print()\n",
    "\n",
    "for i in range(len(tr)):\n",
    "    for j in range(1,len(tr[i])):\n",
    "        item = tr[i][j][0]\n",
    "        quantity = tr[i][j][1]\n",
    "        cu_id = tr[i][0][0]\n",
    "        bill = tr[i][0][1]\n",
    "\n",
    "        for k in range(len(cu)):\n",
    "            if cu_id == cu[k][0]:\n",
    "                cu_name = cu[k][1]\n",
    "\n",
    "        for l in range(len(item_detail)):\n",
    "            if item == item_detail[l][1]:\n",
    "                item_code = item_detail[l][0]\n",
    "                item_rate = item_detail[l][2]\n",
    "        \n",
    "        amount = item_rate * quantity\n",
    "        \n",
    "\n",
    "        \n",
    "\n",
    "        if i_name == item:\n",
    "            a_sum = a_sum + amount\n",
    "            print(\"{:<15}  {:<10}    {}      {}   {:<8} {:>3}   {:>5}\".format(bill,item,item_code,cu_id,cu_name,amount,a_sum))\n",
    "print()\n",
    "print( \"{}  {}   {:>34}\".format('Total amount of',i_name,a_sum))\n",
    "                    \n",
    "            "
   ]
  },
  {
   "cell_type": "code",
   "execution_count": 197,
   "metadata": {},
   "outputs": [
    {
     "output_type": "stream",
     "name": "stdout",
     "text": [
      " bill       item        item_code  cu_id  cu_name  Quantity   item_rate   amount  a_sum\n\n120006      mango         1004      1211   Rohan     12           50       600     600\n120006      orange        1002      1211   Rohan     13           40       520    1120\n120006      guava         1006      1211   Rohan      8           40       320    1440\n120006      Strawberry    1010      1211   Rohan     10          150      1500    2940\n120006      cherry        1012      1211   Rohan      7           90       630    3570\n\nTotal amount of  Rohan                                                           3570\n"
     ]
    }
   ],
   "source": [
    "\n",
    "item = ''\n",
    "cu_id = ''\n",
    "quantity = 0\n",
    "bill = ''\n",
    "item_code = ''\n",
    "item_rate = ''\n",
    "cu_name = ''\n",
    "i_bill = '120006'\n",
    "amount = 0\n",
    "a_sum = 0\n",
    "\n",
    "print(\" {}       {:<10}  {}  {}  {:<8} {}   {}   {:>5}  {}\".format('bill','item','item_code','cu_id','cu_name','Quantity','item_rate','amount','a_sum'))\n",
    "print()\n",
    "\n",
    "for i in range(len(tr)):\n",
    "    for j in range(1,len(tr[i])):\n",
    "        item = tr[i][j][0]\n",
    "        quantity = tr[i][j][1]\n",
    "        cu_id = tr[i][0][0]\n",
    "        bill = tr[i][0][1]\n",
    "\n",
    "        for k in range(len(cu)):\n",
    "            if cu_id == cu[k][0]:\n",
    "                cu_name = cu[k][1]\n",
    "\n",
    "        for l in range(len(item_detail)):\n",
    "            if item == item_detail[l][1]:\n",
    "                item_code = item_detail[l][0]\n",
    "                item_rate = item_detail[l][2]\n",
    "        \n",
    "        amount = item_rate * quantity\n",
    "        \n",
    "\n",
    "        \n",
    "\n",
    "        if i_bill == bill:\n",
    "            a_sum = a_sum + amount\n",
    "            c_name = cu_name\n",
    "        \n",
    "            print(\"{:<10}  {:<10}    {}      {}   {:<8} {:>3}          {:>3}     {:>5}   {:>5}\".format(bill,item,item_code,c_id,cu_name,quantity,item_rate,amount,a_sum))\n",
    "print()\n",
    "print( \"{}  {}                          {:>37}\".format('Total amount of',c_name,a_sum))\n",
    "                    \n",
    "            "
   ]
  },
  {
   "cell_type": "code",
   "execution_count": 3,
   "metadata": {},
   "outputs": [
    {
     "output_type": "stream",
     "name": "stdout",
     "text": [
      "             Bill.No    cu_name    cu_id     a_sum\n\nBilling of:- 120011      mikul     1217       780\n"
     ]
    }
   ],
   "source": [
    "\n",
    "item = ''\n",
    "cu_id = ''\n",
    "quantity = 0\n",
    "bill = ''\n",
    "item_code = ''\n",
    "item_rate = ''\n",
    "cu_name = ''\n",
    "i_bill = input('Enter bill no. :- ')\n",
    "amount = 0\n",
    "a_sum = 0\n",
    "c_name = ''\n",
    "c_id = ''\n",
    "\n",
    "print(\"             {}    {}    {}     {}\".format('Bill.No','cu_name','cu_id','a_sum'))\n",
    "print()\n",
    "\n",
    "for i in range(len(tr)):\n",
    "    for j in range(1,len(tr[i])):\n",
    "        item = tr[i][j][0]\n",
    "        quantity = tr[i][j][1]\n",
    "        cu_id = tr[i][0][0]\n",
    "        bill = tr[i][0][1]\n",
    "\n",
    "        for k in range(len(cu)):\n",
    "            if cu_id == cu[k][0]:\n",
    "                cu_name = cu[k][1]\n",
    "\n",
    "        for l in range(len(item_detail)):\n",
    "            if item == item_detail[l][1]:\n",
    "                item_code = item_detail[l][0]\n",
    "                item_rate = item_detail[l][2]\n",
    "        \n",
    "        amount = item_rate * quantity\n",
    "        \n",
    "\n",
    "        \n",
    "\n",
    "        if i_bill == bill:\n",
    "            a_sum = a_sum + amount\n",
    "            c_name = cu_name\n",
    "            c_id = cu_id\n",
    "            \n",
    "print( \"{:<10} {:<6}      {}    {:>5}  {:>8}\".format('Billing of:-',i_bill,c_name,c_id,a_sum))\n",
    "                    \n",
    "            "
   ]
  },
  {
   "cell_type": "code",
   "execution_count": 4,
   "metadata": {},
   "outputs": [
    {
     "output_type": "stream",
     "name": "stdout",
     "text": [
      "   Bill.No     cu_name   cu_id   amount   a_sum\n\n   120001      Rajesh    1210      180      180\n   120001      Rajesh    1210      180      360\n   120002      Rakesh    1211      180      540\n   120002      Rakesh    1211      400      940\n   120002      Rakesh    1211      240     1180\n   120003      Sahil     1212       60     1240\n   120003      Sahil     1212      180     1420\n   120003      Sahil     1212      160     1580\n   120003      Sahil     1212      450     2030\n   120003      Sahil     1212      300     2330\n   120003      Sahil     1212      420     2750\n   120004      Jack      1213      360     3110\n   120004      Jack      1213      240     3350\n   120004      Jack      1213      300     3650\n   120005      Steve     1214      135     3785\n   120005      Steve     1214      420     4205\n   120006      Rohan     1215      600     4805\n   120006      Rohan     1215      520     5325\n   120006      Rohan     1215      320     5645\n   120006      Rohan     1215     1500     7145\n   120006      Rohan     1215      630     7775\n   120007      Rakesh    1211     1500     9275\n   120007      Rakesh    1211      100     9375\n   120007      Rakesh    1211      400     9775\n   120008      Steve     1214     1300    11075\n   120008      Steve     1214      100    11175\n   120008      Steve     1214      220    11395\n   120009      Rohan     1215     1200    12595\n   120009      Rohan     1215      600    13195\n   120009      Rohan     1215      500    13695\n   120009      Rohan     1215      720    14415\n   120010      Millan    1216      360    14775\n   120010      Millan    1216      800    15575\n   120010      Millan    1216      100    15675\n   120010      Millan    1216     2000    17675\n   120011      mikul     1217      300    17975\n   120011      mikul     1217      480    18455\n\n   Total ::                      18455\n"
     ]
    }
   ],
   "source": [
    "\n",
    "item = ''\n",
    "cu_id = ''\n",
    "quantity = 0\n",
    "bill = ''\n",
    "item_code = ''\n",
    "item_rate = ''\n",
    "cu_name = ''\n",
    "#i_bill = input('Enter bill no. :- ')\n",
    "amount = 0\n",
    "a_sum = 0\n",
    "c_name = ''\n",
    "c_id = ''\n",
    "\n",
    "print(\"   {}     {}   {}   {}   {}\".format('Bill.No','cu_name','cu_id','amount','a_sum'))\n",
    "print()\n",
    "\n",
    "for i in range(len(tr)):\n",
    "    for j in range(1,len(tr[i])):\n",
    "        item = tr[i][j][0]\n",
    "        quantity = tr[i][j][1]\n",
    "        cu_id = tr[i][0][0]\n",
    "        bill = tr[i][0][1]\n",
    "\n",
    "        for k in range(len(cu)):\n",
    "            if cu_id == cu[k][0]:\n",
    "                cu_name = cu[k][1]\n",
    "\n",
    "        for l in range(len(item_detail)):\n",
    "            if item == item_detail[l][1]:\n",
    "                item_code = item_detail[l][0]\n",
    "                item_rate = item_detail[l][2]\n",
    "        \n",
    "        amount = item_rate * quantity\n",
    "        a_sum = a_sum + amount\n",
    "\n",
    "        \n",
    "\n",
    "        \n",
    "            \n",
    "        print( \"{:>9}      {:<6}    {:<5}   {:>5} {:>8}\".format(bill,cu_name,cu_id,amount,a_sum))\n",
    "print()\n",
    "print(\"   Total ::                      {}\".format(a_sum))                \n",
    "            "
   ]
  },
  {
   "cell_type": "code",
   "execution_count": 26,
   "metadata": {
    "tags": []
   },
   "outputs": [
    {
     "output_type": "stream",
     "name": "stdout",
     "text": [
      "1212 1570\n"
     ]
    }
   ],
   "source": [
    "\n",
    "\n",
    "\n",
    "\n",
    "\n",
    "\n",
    "\n",
    "cu_un = []\n",
    "item = ''\n",
    "cu_id = ''\n",
    "quantity = 0\n",
    "bill = ''\n",
    "item_code = ''\n",
    "item_rate = ''\n",
    "cu_name = ''\n",
    "#i_bill = input('Enter bill no. :- ')\n",
    "amount = 0\n",
    "a_sum = 0\n",
    "c_name = ''\n",
    "c_id = ''\n",
    "u_id = ''\n",
    "u_name = ''\n",
    "u_amount = 0\n",
    "for i in range(len(tr)):\n",
    "    for j in range(1,len(tr[i])):\n",
    "        cu_id = tr[i][0][0]\n",
    "\n",
    "        \n",
    "        if cu_id not in cu_un:\n",
    "            cu_un.append(cu_id)\n",
    "    #print(cu_un)\n",
    "\n",
    "   # print(\"{}   {}   {}   {}\".format('cu_id','cu_name','amount','a_sum'))\n",
    "    #print()\n",
    "\n",
    "for i in range(len(tr)):\n",
    "    for j in range(1,len(tr[i])):\n",
    "        item = tr[i][j][0]\n",
    "        quantity = tr[i][j][1]\n",
    "        cu_id = tr[i][0][0]\n",
    "        bill = tr[i][0][1]\n",
    "\n",
    "        for k in range(len(cu)):\n",
    "            if cu_id == cu[k][0]:\n",
    "                cu_name = cu[k][1]\n",
    "\n",
    "        for l in range(len(item_detail)):\n",
    "            if item == item_detail[l][1]:\n",
    "                item_code = item_detail[l][0]\n",
    "                item_rate = item_detail[l][2]\n",
    "        amount = item_rate * quantity\n",
    "        if cu_id == '1212':\n",
    "            u_amount = u_amount + amount\n",
    "print('1212',u_amount)\n",
    "        #a_sum = a_sum + amount\n",
    "\n",
    "        \n",
    "\n",
    "for u in range(len(cu_un)):\n",
    "        u_id = cu_un[u]\n",
    "    #if cu_id == cu_un\n",
    "            \n",
    "        \n",
    "            #print( \"{:<5}    {:<6}   {:>5} {:>8}\".format(u_id,u_name,amount,a_sum))\n",
    "    # print()\n",
    "    #print(\"Total ::          {}\".format(a_sum))    \n",
    "    #    \n",
    "                        \n",
    "                "
   ]
  },
  {
   "cell_type": "code",
   "execution_count": 2,
   "metadata": {},
   "outputs": [],
   "source": [
    "\n",
    "\n",
    "def item_wise_bill(i_name):\n",
    "\n",
    "\n",
    "    item = ''\n",
    "    cu_id = ''\n",
    "    quantity = 0\n",
    "    bill = ''\n",
    "    item_code = ''\n",
    "    item_rate = ''\n",
    "    cu_name = ''\n",
    "    i_name = i_name\n",
    "    amount = 0\n",
    "    a_sum = 0\n",
    "\n",
    "    print(\" {}            {:<10}  {}  {}  {:<8} {:>5}  {}\".format('bill','item','item_code','cu_id','cu_name','amount','a_sum'))\n",
    "    print()\n",
    "\n",
    "    for i in range(len(tr)):\n",
    "        for j in range(1,len(tr[i])):\n",
    "            item = tr[i][j][0]\n",
    "            quantity = tr[i][j][1]\n",
    "            cu_id = tr[i][0][0]\n",
    "            bill = tr[i][0][1]\n",
    "\n",
    "            for k in range(len(cu)):\n",
    "                if cu_id == cu[k][0]:\n",
    "                    cu_name = cu[k][1]\n",
    "\n",
    "            for l in range(len(item_detail)):\n",
    "                if item == item_detail[l][1]:\n",
    "                    item_code = item_detail[l][0]\n",
    "                    item_rate = item_detail[l][2]\n",
    "            \n",
    "            amount = item_rate * quantity\n",
    "            \n",
    "\n",
    "            if i_name == item:\n",
    "                a_sum = a_sum + amount\n",
    "                print(\"{:<15}  {:<10}    {}      {}   {:<8} {:>3}   {:>5}\".format(bill,item,item_code,cu_id,cu_name,amount,a_sum))\n",
    "    print()\n",
    "    print( \"{}  {}   {:>34}\".format('Total amount of',i_name,a_sum))\n",
    "                        \n",
    "                "
   ]
  },
  {
   "cell_type": "code",
   "execution_count": 50,
   "metadata": {},
   "outputs": [
    {
     "output_type": "stream",
     "name": "stdout",
     "text": [
      " bill            item        item_code  cu_id  cu_name  amount  a_sum\n\n120001           grapes        1005      1210   Rajesh   180     180\n120005           grapes        1005      1214   Steve    135     315\n\nTotal amount of  grapes                                  315\n"
     ]
    }
   ],
   "source": [
    "item_wise_bill('grapes')"
   ]
  },
  {
   "cell_type": "code",
   "execution_count": 5,
   "metadata": {},
   "outputs": [],
   "source": [
    "\n",
    "def bill_wise_item(i_bill):\n",
    "\n",
    "    item = ''\n",
    "    cu_id = ''\n",
    "    quantity = 0\n",
    "    bill = ''\n",
    "    item_code = ''\n",
    "    item_rate = ''\n",
    "    cu_name = ''\n",
    "    i_bill = i_bill\n",
    "    amount = 0\n",
    "    a_sum = 0\n",
    "\n",
    "    print(\" {}       {:<10}  {}  {}  {:<8} {}   {}   {:>5}  {}\".format('bill','item','item_code','cu_id','cu_name','Quantity','item_rate','amount','a_sum'))\n",
    "    print()\n",
    "\n",
    "    for i in range(len(tr)):\n",
    "        for j in range(1,len(tr[i])):\n",
    "            item = tr[i][j][0]\n",
    "            quantity = tr[i][j][1]\n",
    "            cu_id = tr[i][0][0]\n",
    "            bill = tr[i][0][1]\n",
    "\n",
    "            for k in range(len(cu)):\n",
    "                if cu_id == cu[k][0]:\n",
    "                    cu_name = cu[k][1]\n",
    "\n",
    "            for l in range(len(item_detail)):\n",
    "                if item == item_detail[l][1]:\n",
    "                    item_code = item_detail[l][0]\n",
    "                    item_rate = item_detail[l][2]\n",
    "            \n",
    "            amount = item_rate * quantity\n",
    "            \n",
    "\n",
    "            \n",
    "\n",
    "            if i_bill == bill:\n",
    "                a_sum = a_sum + amount\n",
    "                c_name = cu_name\n",
    "            \n",
    "                print(\"{:<10}  {:<10}    {}      {}   {:<8} {:>3}          {:>3}     {:>5}   {:>5}\".format(bill,item,item_code,cu_id,cu_name,quantity,item_rate,amount,a_sum))\n",
    "    print()\n",
    "    print( \"{}  {}                                                    {:>4}\".format('Total amount of',c_name,a_sum))\n",
    "                        \n",
    "                "
   ]
  },
  {
   "cell_type": "code",
   "execution_count": 102,
   "metadata": {},
   "outputs": [
    {
     "output_type": "stream",
     "name": "stdout",
     "text": [
      " bill       item        item_code  cu_id  cu_name  Quantity   item_rate   amount  a_sum\n\n120002      pears         1003      1211   Rakesh     6           30       180     180\n120002      mango         1004      1211   Rakesh     8           50       400     580\n120002      orange        1002      1211   Rakesh     6           40       240     820\n\nTotal amount of  Rakesh                                                     820\n"
     ]
    }
   ],
   "source": [
    "bill_wise_item('120002')"
   ]
  },
  {
   "cell_type": "code",
   "execution_count": 14,
   "metadata": {},
   "outputs": [
    {
     "output_type": "error",
     "ename": "SyntaxError",
     "evalue": "unmatched ')' (<ipython-input-14-588884973a90>, line 57)",
     "traceback": [
      "\u001b[0;36m  File \u001b[0;32m\"<ipython-input-14-588884973a90>\"\u001b[0;36m, line \u001b[0;32m57\u001b[0m\n\u001b[0;31m    )\u001b[0m\n\u001b[0m    ^\u001b[0m\n\u001b[0;31mSyntaxError\u001b[0m\u001b[0;31m:\u001b[0m unmatched ')'\n"
     ]
    }
   ],
   "source": [
    "\n",
    "\n",
    "\n",
    "\n",
    "cu_un = []\n",
    "item = ''\n",
    "cu_id = ''\n",
    "quantity = 0\n",
    "bill = ''\n",
    "item_code = ''\n",
    "item_rate = ''\n",
    "cu_name = ''\n",
    "#i_bill = input('Enter bill no. :- ')\n",
    "amount = 0\n",
    "a_sum = 0\n",
    "c_name = ''\n",
    "c_id = ''\n",
    "u_id = ''\n",
    "u_name = ''\n",
    "u_amount = 0\n",
    "x = 0\n",
    "c_sum = 0\n",
    "for i in range(len(tr)):\n",
    "    for j in range(1,len(tr[i])):\n",
    "        cu_id = tr[i][0][0] \n",
    "        if cu_id not in cu_un:\n",
    "            cu_un.append(cu_id)\n",
    "print(cu_un)\n",
    "\n",
    "for u in range(len(cu_un)):\n",
    "    t_sum = 0\n",
    "    x = 0\n",
    "    cust_id = cu_un[u]\n",
    "\n",
    "    for i in range(len(tr)):\n",
    "        for j in range(1,len(tr[i])):\n",
    "            item = tr[i][j][0]\n",
    "            quantity = tr[i][j][1]\n",
    "            cu_id = tr[i][0][0]\n",
    "            bill = tr[i][0][1]\n",
    "\n",
    "            for k in range(len(cu)):\n",
    "                if cu_id == cu[k][0]:\n",
    "                    cu_name = cu[k][1]\n",
    "\n",
    "            for l in range(len(item_detail)):\n",
    "                if item == item_detail[l][1]:\n",
    "                    item_code = item_detail[l][0]\n",
    "                    item_rate = item_detail[l][2]\n",
    "            amount = item_rate * quantity\n",
    "            \n",
    "\n",
    "            if cu_id ==cust_id:                         \n",
    "                t_sum = t_sum + amoun\n",
    "                x = x+1                # printx,cust_id,amount,,t_sum\n",
    "    #print()\n",
    "    c_sum = c_sum + t_sum            \n",
    "    print(cust_id,t_sum,c_sum)\n",
    "    #print()\n",
    "    \n",
    ")\n",
    "\n",
    " "
   ]
  },
  {
   "cell_type": "code",
   "execution_count": 95,
   "metadata": {},
   "outputs": [
    {
     "output_type": "stream",
     "name": "stdout",
     "text": [
      " bill       item        item_code  cu_id  cu_name  Quantity   item_rate   amount  a_sum\n\n120002      pears         1003      1211   Rakesh     6           30       180     180\n120002      mango         1004      1211   Rakesh     8           50       400     580\n120002      orange        1002      1211   Rakesh     6           40       240     820\n\nTotal amount of  Rakesh                                                     820\n"
     ]
    }
   ],
   "source": [
    "bill_wise_item('120002')"
   ]
  },
  {
   "cell_type": "code",
   "execution_count": 15,
   "metadata": {},
   "outputs": [
    {
     "output_type": "stream",
     "name": "stdout",
     "text": [
      "[]\n"
     ]
    }
   ],
   "source": [
    "print(cu_un)"
   ]
  }
 ]
}