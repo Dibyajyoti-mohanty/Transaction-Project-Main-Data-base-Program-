{
 "metadata": {
  "language_info": {
   "codemirror_mode": {
    "name": "ipython",
    "version": 3
   },
   "file_extension": ".py",
   "mimetype": "text/x-python",
   "name": "python",
   "nbconvert_exporter": "python",
   "pygments_lexer": "ipython3",
   "version": "3.9.2-final"
  },
  "orig_nbformat": 2,
  "kernelspec": {
   "name": "python3",
   "display_name": "Python 3.9.2 64-bit",
   "metadata": {
    "interpreter": {
     "hash": "f9f85f796d01129d0dd105a088854619f454435301f6ffec2fea96ecbd9be4ac"
    }
   }
  }
 },
 "nbformat": 4,
 "nbformat_minor": 2,
 "cells": [
  {
   "cell_type": "code",
   "execution_count": 11,
   "metadata": {},
   "outputs": [],
   "source": [
    "tr = [(('1210','120001','25/02/2021'),('apple',3),('grapes',4)),\n",
    "    (('1211','120002','26/02/2021'),('pears',6),('mango',8),('orange',6)),\n",
    "    (('1212','120003','27/02/2021'),('pears',2),('apple',3),('orange',4),('cherry',5),('mango',6),('apple',7)),\n",
    "    (('1213','120004','28/02/2021'),('orange',9),('pears',8),('pineapple',5)),\n",
    "    (('1214','120005','01/03/2021'),('grapes',3),('apple',7)),\n",
    "    (('1215','120006','02/03/2021'),('mango',12),('orange',13),('guava',8),('Strawberry',10),('cherry',7)),\n",
    "    (('1211','120007','03/03/2021'),('dates',15),('banana',10),('orange',10)),\n",
    "    (('1214','120008','04/03/2021'),('dates',13),('banana',10),('Blackberry',2)),\n",
    "    (('1215','120009','05/03/2021'),('dates',12),('apple',10),('mango',10),('cherry',8)),\n",
    "    (('1216','120010','06/03/2021'),('apple',6),('dates',8),('jelly',5),('jackfruit',50)),\n",
    "    (('1217','120011','07/03/2021'),('mango',6),('apple',8))]\n",
    "\n",
    "cu = [('1210','Rajesh'),('1211','Rakesh'),('1212','Sahil'),\n",
    "      ('1213','Jack'),('1214','Steve'),('1215','Rohan',),\n",
    "      ('1216','Millan',),('1217','mikul'),('1218','smile')]\n",
    "\n",
    "\n",
    "item_detail = [('1001','apple',60),('1002','orange',40),('1003','pears',30),\n",
    "               ('1004','mango',50),('1005','grapes',45),('1006','guava',40),\n",
    "             ('1007','pineapple',60),('1008','dates',100),('1009','banana',10),\n",
    "               ('1010','Strawberry',150),('1011','Blackberry',110),\n",
    "             ('1012','cherry',90),('1013','jelly',20),('1014','jackfruit',40)]\n",
    "\n",
    "\n",
    "#*****************************************************************************************************************************************************************\n",
    "\n",
    "#No.1\n",
    "\n",
    "#Start Function.\n",
    "\n",
    "def item_code(i_name):\n",
    "    i_name = i_name\n",
    "    for i in range(len(item_detail)):\n",
    "        if i_name == item_detail[i][1]:\n",
    "            i_code = item_detail[i][0]\n",
    "            return i_code\n",
    "\n",
    "#End Function.\n",
    "\n",
    "#*****************************************************************************************************************************************************************\n",
    "\n",
    "# No.2\n",
    "#Start Function.\n",
    "\n",
    "def item_name(i_code):\n",
    "    i_code = i_code\n",
    "    for i in range(len(item_detail)):\n",
    "        if i_code == item_detail[i][0]:\n",
    "            i_name = item_detail[i][1]\n",
    "            return i_name\n",
    "#End Function.         \n",
    "\n",
    "#************************************************************************************************************************************************************        \n",
    "\n",
    "# No.3\n",
    "#Start Function.\n",
    "\n",
    "def cust_name(customer_id):\n",
    "    customer_id = customer_id\n",
    "    for i in range(len(cu)):\n",
    "        if customer_id == cu[i][0]:\n",
    "            c_name = cu[i][1]\n",
    "            return c_name\n",
    "#End Function.\n",
    "\n",
    "#************************************************************************************************************************************************************\n",
    "\n",
    "# No.4\n",
    "#Strat Function.\n",
    "\n",
    "def cust_id(customer_name):\n",
    "    customer_name = customer_name\n",
    "    for i in range(len(cu)):\n",
    "        if customer_name == cu[i][1]:\n",
    "            c_id = cu[i][0]\n",
    "            return c_id\n",
    "\n",
    "# End Function.\n",
    "\n",
    "#************************************************************************************************************************************************************\n",
    "\n",
    "# NO.5\n",
    "#Start Function.\n",
    "\n",
    "def item_code_un_list():\n",
    "    un_list = []\n",
    "    for i in range(len(tr)):\n",
    "        for j in range(1,len(tr[i])):\n",
    "            item = tr[i][j][0]\n",
    "\n",
    "\n",
    "\n",
    "            for l in range(len(item_detail)):\n",
    "                if item == item_detail[l][1]:\n",
    "                    i_code = item_detail[l][0]\n",
    "\n",
    "\n",
    "\n",
    "                    if i_code not in un_list:\n",
    "                        un_list.append(i_code)\n",
    "    return un_list\n",
    "#End fucntion.\n",
    "\n",
    "#***************************************************************************************************************************************************************************\n",
    "\n",
    "# No.6\n",
    "#Start Function.\n",
    "\n",
    "def item_un_list():\n",
    "    un_item = []\n",
    "    for i in range(len(tr)):\n",
    "        for j in range(1,len(tr[i])):\n",
    "            if tr[i][j][0] not in un_item:\n",
    "                un_item.append(tr[i][j][0])\n",
    "    return un_item\n",
    "\n",
    "#End Fucntion.\n",
    "\n",
    "#*******************************************************************************************************************************************************************\n",
    "\n",
    "# No.7\n",
    "#Start Fucntion.\n",
    "\n",
    "def cust_id_un_list():\n",
    "    un = []\n",
    "    for i in range(len(tr)):\n",
    "        for j in range(1,len(tr[i])):\n",
    "            cu_id = tr[i][0]\n",
    "            \n",
    "            if cu_id not in un:\n",
    "                un.append(cu_id)\n",
    "    return un\n",
    "#End Function.\n",
    "\n",
    "#************************************************************************************************************************************************************\n",
    "\n",
    "# No.8\n",
    "#Start Function.\n",
    "\n",
    "def cust_master_list(value):\n",
    "\n",
    "\n",
    "    c_id = value\n",
    "    c_name = value\n",
    "    r_id = value\n",
    "    s = 0\n",
    "    c_all = value\n",
    "    x = 1\n",
    "\n",
    "\n",
    "    print(\"{:>2}  {}     {:<12}\".format('sl.no','cu_id','cu_name'))\n",
    "    print()\n",
    "\n",
    "    for i in range(len(cu)):\n",
    "        cu_id = cu[i][0]\n",
    "        cu_name = cu[i][1]\n",
    "        s = s+1\n",
    "        if c_id == cu_id:\n",
    "            print(\"{:>2}      {}      {:<12}\".format(s,cu_id,cu_name))\n",
    "            x = 1\n",
    "            break\n",
    "    \n",
    "        elif c_name == cu_name:\n",
    "            print(\"{:>2}      {}      {:<12}\".format(s,cu_id,cu_name))\n",
    "            x = 1\n",
    "            break\n",
    "    \n",
    "        elif r_id == s:\n",
    "            print(\"{:>2}      {}      {:<12}\".format(s,cu_id,cu_name))\n",
    "            x = 1\n",
    "            break\n",
    "        \n",
    "        elif c_all == 'al':\n",
    "            print(\"{:>2}      {}      {:<12}\".format(s,cu_id,cu_name))\n",
    "        \n",
    "        else:\n",
    "            x = 0\n",
    "\n",
    "    if x == 0:\n",
    "        print('Record not Found')\n",
    "\n",
    "#End Fucntion.\n",
    "\n",
    "#************************************************************************************************************************************************************\n",
    "\n",
    "# No.9\n",
    "#Start Function.\n",
    "\n",
    "def main_tr_db():                          \n",
    "    item = ''\n",
    "    quantity = 0\n",
    "    cu_id = ''\n",
    "    bill = ''\n",
    "    date = ''\n",
    "    cu_name = ''\n",
    "    item_code = ''\n",
    "    item_rate = 0\n",
    "    amount = 0\n",
    "    a_sum = 0\n",
    "    q_sum = 0\n",
    "    x = 0\n",
    "\n",
    "    print(\"{:>2}  {}  {}      {}  {:<10}{}   {}   {:<6}  {:>3}   {:>5}\".format('Sl.no','Bill.No','Date','Item_code','Item','Item_Rate','cu_id','cu_name','Quantity','Amount'))\n",
    "\n",
    "    print()\n",
    "\n",
    "    for i in range(len(tr)):\n",
    "        for j in range(1,len(tr[i])):\n",
    "            item = tr[i][j][0]\n",
    "            quantity = tr[i][j][1]\n",
    "            cu_id = tr[i][0][0]\n",
    "            bill = tr[i][0][1]\n",
    "            date = tr[i][0][2]\n",
    "        \n",
    "        \n",
    "            for k in range(len(cu)):\n",
    "                if cu_id == cu[k][0]:\n",
    "                    cu_name = cu[k][1]\n",
    "            \n",
    "            \n",
    "                for l in range(len(item_detail)):\n",
    "                    if item == item_detail[l][1]:\n",
    "                        item_code = item_detail[l][0]\n",
    "                        item_rate = item_detail[l][2]\n",
    "            amount = item_rate * quantity\n",
    "            x = x+1\n",
    "            a_sum = a_sum+amount\n",
    "            print(\"{:>2}    {}   {}    {}     {:<10}   {:>3}       {}   {:<6}   {:>3}      {:>8}\".format(x,bill,date,item_code,item,item_rate,cu_id,cu_name,quantity,amount))\n",
    "    print()\n",
    "    print(\"Total:-                                                                                {:>5}\".format(a_sum))\n",
    "\n",
    "\n",
    "#End Function.\n",
    "\n",
    "#**********************************************************************************************************************************************************************\n",
    "\n",
    "# No.10\n",
    "#Start Function.\n",
    "\n",
    "def item_wise_cust(i_code):\n",
    "    i_code = i_code\n",
    "\n",
    "\n",
    "\n",
    "    print()\n",
    "    print(\"{:<12}   {}  {:<10}  {}   {:>3}   {:>5}   {:>5}\".format('Customer_Name','Customer_ID','Item_name','Item_Code','Item_rate','Item_Qty','Amount'))\n",
    "    print()\n",
    "    \n",
    "    item = ''\n",
    "    quantity = 0\n",
    "    cu_id = ''\n",
    "    cu_name = ''\n",
    "    item_rate = 0\n",
    "    item_code = ''\n",
    "    amount = 0\n",
    "    a_sum = 0\n",
    "    q_sum = 0\n",
    "\n",
    "    for i in range(len(tr)):\n",
    "        for j in range(1,len(tr[i])):\n",
    "            item = tr[i][j][0]\n",
    "            quantity = tr[i][j][1]\n",
    "            cu_id = tr[i][0]\n",
    "\n",
    "            for k in range(len(cu)):\n",
    "                if cu_id == cu[k][0]:\n",
    "                    cu_name = cu[k][1]\n",
    "\n",
    "            for l in range(len(item_detail)):\n",
    "                if item == item_detail[l][1]:\n",
    "                    item_rate = item_detail[l][2]\n",
    "                    item_code = item_detail[l][0]\n",
    "\n",
    "            amount = item_rate * quantity\n",
    "\n",
    "\n",
    "            if item_code == i_code:\n",
    "                a_sum = a_sum + amount\n",
    "                q_sum = q_sum + quantity\n",
    "                print(\"{:<12}      {}        {:<10}    {}        {:>3}     {:>5}        {:>5}\".format(cu_name,cu_id,item,item_code,item_rate,quantity,a_sum))\n",
    "    print()\n",
    "    print(\"Total ::                                                           {}         {}\".format(q_sum,a_sum))\n",
    "    print() \n",
    "\n",
    "#End Function.\n",
    "\n",
    "#************************************************************************************************************************************************************\n",
    "\n",
    "# No.11  \n",
    "\n",
    "#******************************************************************************************************************************************************\n",
    "#  Start of Fucntion.\n",
    "\n",
    "#This Fucntion Deifines that which items does the customer bought.\n",
    "#so we have to put the customer id as input  and it will give the list of items bought by the cutsomer as output.\n",
    "\n",
    "def cust_wise_items(c_id):\n",
    "    c_id = c_id\n",
    "\n",
    "   \n",
    "    item = ''\n",
    "    quantity = 0\n",
    "    cu_id = ''\n",
    "    bill = ''\n",
    "    cu_name = ''\n",
    "    item_code = ''\n",
    "    item_rate = 0\n",
    "    amount = 0\n",
    "    cu_amount = 0\n",
    "    a_sum = 0\n",
    "    x = 0\n",
    "\n",
    "    print()\n",
    "    print(\"{:>2}  {}  {}  {:<10}{}   {}   {:<6}  {:>3}     {:>5}\".format('Sl.no','Bill.No','Item_code','Item','Item_Rate','cu_id','cu_name','Quantity','Amount'))\n",
    "    print()\n",
    "\n",
    "\n",
    "    for i in range(len(tr)):\n",
    "        for j in range(1,len(tr[i])):\n",
    "            item = tr[i][j][0]\n",
    "            quantity = tr[i][j][1]\n",
    "            cu_id = tr[i][0][0]\n",
    "            bill = tr[i][0][1]\n",
    "\n",
    "            for k in range(len(cu)):\n",
    "                if cu_id == cu[k][0]:\n",
    "                    cu_name = cu[k][1]\n",
    "            \n",
    "            \n",
    "                for l in range(len(item_detail)):\n",
    "                    if item == item_detail[l][1]:\n",
    "                        item_code = item_detail[l][0]\n",
    "                        item_rate = item_detail[l][2]\n",
    "        \n",
    "            x = x+1\n",
    "            amount = item_rate * quantity\n",
    "            a_sum = a_sum+amount\n",
    "            \n",
    "            if c_id == cu_id:\n",
    "                cu_amount = cu_amount+amount\n",
    "                print(\"{:>2}     {}    {}     {:<10}   {:>3}       {}   {:<6}   {:>3}      {:>8}\".format(x,bill,item_code,item,item_rate,cu_id,cu_name,quantity,amount))\n",
    "    print()\n",
    "    \n",
    "    return (\"Total:-                                                                     {:>5}\".format(cu_amount))\n",
    "       \n",
    "#  END of Fucntion    \n",
    "\n",
    "#************************************************************************************************************************************************************\n",
    "\n",
    "# No.12\n",
    "\n",
    "#Start Function.\n",
    "\n",
    "def item_wise_amount(i_code):\n",
    "    i_code = i_code\n",
    "\n",
    "   # print()\n",
    "    #print(\"{:<10}  {}    {:>5}   {:>5}\".format('Item_Code','Item_Name','Qty_Sum','Amount_Sum'))\n",
    "   # print()\n",
    "#***************************************************************************************************************************************************************    \n",
    "    item = ''\n",
    "    quantity = 0\n",
    "    cu_id = ''\n",
    "    bill = ''\n",
    "    cu_name = ''\n",
    "    item_rate = 0\n",
    "    item_code = ''\n",
    "    amount = 0\n",
    "    a_sum = 0\n",
    "    q_sum = 0\n",
    "    \n",
    "    for i in range(len(tr)):\n",
    "        for j in range(1,len(tr[i])):\n",
    "            item = tr[i][j][0]\n",
    "            quantity = tr[i][j][1]\n",
    "            cu_id = tr[i][0]\n",
    "            bill = tr[i][1]\n",
    "\n",
    "            for k in range(len(cu)):\n",
    "                if cu_id == cu[k][0]:\n",
    "                    cu_name = cu[k][1]\n",
    "\n",
    "            for l in range(len(item_detail)):\n",
    "                if item == item_detail[l][1]:\n",
    "                    item_rate = item_detail[l][2]\n",
    "                    item_code = item_detail[l][0]\n",
    "\n",
    "            amount = item_rate * quantity\n",
    "#@@@@@@@@@@@@@@@@@@@@@@@@@@@@@@@@@@@@@@@@@@@@@@@@@@@@@@@@@@@@@@@@@@@@@@@@@@@@@@@@@@@@@@@@@@@@@@@@@@@@@@@@@@@@@@@@@@@@@@@@@@@@@@@@@@@@@@@@@@@@@@@@@@@@@@@@@@@@@@@@@@@@@\n",
    "        # code for finding item_wise_amount.\n",
    "          \n",
    "#             if item == i_name:\n",
    "#                 a_sum = a_sum + amount\n",
    "#                 q_sum = q_sum+quantity\n",
    "#                 print(\"{:<12}      {}        {:<10}    {}        {:>3}     {:>5}        {:>5}\".format(cu_name,cu_id,item,item_code,item_rate,quantity,a_sum))\n",
    "#     print()\n",
    "#     print(\"Total ::                                                           {}         {}\".format(q_sum,a_sum))\n",
    "#     print()\n",
    "#@@@@@@@@@@@@@@@@@@@@@@@@@@@@@@@@@@@@@@@@@@@@@@@@@@@@@@@@@@@@@@@@@@@@@@@@@@@@@@@@@@@@@@@@@@@@@@@@@@@@@@@@@@@@@@@@@@@@@@@@@@@@@@@@@@@@@@@@@@@@@@@@@@@@@@@@@@@@@@@@@@@@\n",
    "            if item_code == i_code:\n",
    "                a_sum = a_sum + amount\n",
    "                q_sum = q_sum + quantity\n",
    "    return i_code,item_name(i_code),q_sum,a_sum\n",
    "    #  print(\" {}       {:<10}   {:>5}      {:>5}\".format(i_code,item_name(i_code),q_sum,a_sum))      \n",
    "    #print()\n",
    "#End Function\n",
    "\n",
    "#********************************************************************************************************************************************************************\n",
    "\n",
    "#No.13\n",
    "#Start of Function\n",
    "\n",
    "\n",
    "                            # The purpose of this function is to give all the amount of each customers those who are in un_list(Transaction list)\n",
    "                        # we call the fucntion by giving the customers id and it will return the amount of all the customers in un_list(Transaction list).\n",
    "\n",
    "def cust_wise_amount(c_id):\n",
    "    c_id = c_id\n",
    "\n",
    "\n",
    "   \n",
    "    item = ''\n",
    "    quantity = 0\n",
    "    cu_id = ''\n",
    "    bill = ''\n",
    "    cu_name = ''\n",
    "    item_code = ''\n",
    "    item_rate = 0\n",
    "    amount = 0\n",
    "    cu_amount = 0\n",
    "    a_sum = 0\n",
    "    q_sum = 0\n",
    "    x = 0\n",
    "\n",
    "\n",
    "    for i in range(len(tr)):\n",
    "        for j in range(1,len(tr[i])):\n",
    "            item = tr[i][j][0]\n",
    "            quantity = tr[i][j][1]\n",
    "            cu_id = tr[i][0]\n",
    "            bill = tr[i][0]\n",
    "            \n",
    "            for k in range(len(cu)):\n",
    "                if cu_id == cu[k][0]:\n",
    "                    cu_name = cu[k][1]\n",
    "            \n",
    "            \n",
    "            for l in range(len(item_detail)):\n",
    "                if item == item_detail[l][1]:\n",
    "                    item_code = item_detail[l][0]\n",
    "                    item_rate = item_detail[l][2]\n",
    "\n",
    "        \n",
    "            amount = item_rate * quantity\n",
    "        \n",
    "            if c_id == cu_id:\n",
    "                cu_amount = cu_amount+amount\n",
    "    return c_id,cust_name(c_id),cu_amount\n",
    "\n",
    "#End Function.\n",
    "\n",
    "#************************************************************************************************************************************************************\n",
    "\n",
    "# No.14\n",
    "# Start Function.\n",
    "\n",
    "def line_wise_item(i_name):\n",
    "    i_name = i_name\n",
    "\n",
    "\n",
    "\n",
    "    print()\n",
    "    print(\"{:<12}   {}  {:<10}  {}   {:>3}   {:>5}   {:>5}\".format('Customer_Name','Customer_ID','Item_name','Item_Code','Item_rate','Item_Qty',     'Amount'))\n",
    "    print()\n",
    "    \n",
    "    item = ''\n",
    "    quantity = 0\n",
    "    cu_id = ''\n",
    "    bill = ''\n",
    "    cu_name = ''\n",
    "    item_rate = 0\n",
    "    item_code = ''\n",
    "    amount = 0\n",
    "    a_sum = 0\n",
    "    q_sum = 0\n",
    "    \n",
    "    for i in range(len(tr)):\n",
    "        for j in range(1,len(tr[i])):\n",
    "            item = tr[i][j][0]\n",
    "            quantity = tr[i][j][1]\n",
    "            cu_id = tr[i][0][0]\n",
    "            bill = tr[i][0][1]\n",
    "\n",
    "            for k in range(len(cu)):\n",
    "                if cu_id == cu[k][0]:\n",
    "                    cu_name = cu[k][1]\n",
    "\n",
    "            for l in range(len(item_detail)):\n",
    "                if item == item_detail[l][1]:\n",
    "                    item_rate = item_detail[l][2]\n",
    "                    item_code = item_detail[l][0]\n",
    "\n",
    "            amount = item_rate * quantity\n",
    "\n",
    "\n",
    "            if item == i_name:\n",
    "                a_sum = a_sum + amount\n",
    "                q_sum = q_sum+quantity\n",
    "                print(\"{:<12}      {}        {:<10}    {}        {:>3}     {:>5}        {:>5}\".format(cu_name,cu_id,item,item_code,item_rate,quantity,a_sum))\n",
    "    print()\n",
    "    print(\"Total ::                                                           {}         {}\".format(q_sum,a_sum))\n",
    "    print()\n",
    "\n",
    "    \n",
    "#End Function.\n",
    "\n",
    "#************************************************************************************************************************************************************\n",
    "\n",
    "# No.15\n",
    "#Start Fucntion.\n",
    "\n",
    "def item_wise_summary():\n",
    "    u = item_code_un_list()\n",
    "    i_sum = 0\n",
    "    for i in u:\n",
    "        m = item_wise_amount(i)\n",
    "        i_sum = i_sum + m[3]\n",
    "        print(m)\n",
    "    return 'Total Sum of sells:- ',i_sum\n",
    "\n",
    "#End Function.\n",
    "\n",
    "#************************************************************************************************************************************************************        \n",
    "\n",
    "# No.16\n",
    "#Start Fucntion.\n",
    "\n",
    "def cust_wise_summary():\n",
    "\n",
    "    m = cust_id_un_list()\n",
    "    sum1 = 0\n",
    "    for i in m:\n",
    "        u = cust_wise_amount(i)\n",
    "        sum1 = sum1 + u[2]\n",
    "        print(u)\n",
    "    return 'Total sum of sellings:-',sum1\n",
    "\n",
    "#End Fucntion\n",
    "#************************************************************************************************************************************************************\n",
    "# No.17\n",
    "#Start Function.\n",
    "\n",
    "\n",
    "\n",
    "def ls_wise_items(*ls):\n",
    "    for i in ls:\n",
    "        print(cust_wise_items(i))\n",
    "\n",
    "        \n",
    "#End Fucntion.\n",
    "#******************************************************************************************************************************************************\n",
    "\n",
    "\n",
    "def item_wise_bill(i_name):\n",
    "\n",
    "\n",
    "    item = ''\n",
    "    cu_id = ''\n",
    "    quantity = 0\n",
    "    bill = ''\n",
    "    item_code = ''\n",
    "    item_rate = ''\n",
    "    cu_name = ''\n",
    "    i_name = i_name\n",
    "    amount = 0\n",
    "    a_sum = 0\n",
    "\n",
    "    print(\" {}            {:<10}  {}  {}  {:<8} {:>5}  {}\".format('bill','item','item_code','cu_id','cu_name','amount','a_sum'))\n",
    "    print()\n",
    "\n",
    "    for i in range(len(tr)):\n",
    "        for j in range(1,len(tr[i])):\n",
    "            item = tr[i][j][0]\n",
    "            quantity = tr[i][j][1]\n",
    "            cu_id = tr[i][0][0]\n",
    "            bill = tr[i][0][1]\n",
    "\n",
    "            for k in range(len(cu)):\n",
    "                if cu_id == cu[k][0]:\n",
    "                    cu_name = cu[k][1]\n",
    "\n",
    "            for l in range(len(item_detail)):\n",
    "                if item == item_detail[l][1]:\n",
    "                    item_code = item_detail[l][0]\n",
    "                    item_rate = item_detail[l][2]\n",
    "            \n",
    "            amount = item_rate * quantity\n",
    "            \n",
    "\n",
    "            \n",
    "\n",
    "            if i_name == item:\n",
    "                a_sum = a_sum + amount\n",
    "                print(\"{:<15}  {:<10}    {}      {}   {:<8} {:>3}   {:>5}\".format(bill,item,item_code,cu_id,cu_name,amount,a_sum))\n",
    "    print()\n",
    "    print( \"{}  {}                                       {:>6}\".format('Total amount of',i_name,a_sum))\n",
    "                        \n",
    "                \n",
    "\n",
    "\n",
    "\n",
    "def bill_wise_item(i_bill):\n",
    "\n",
    "    item = ''\n",
    "    cu_id = ''\n",
    "    quantity = 0\n",
    "    bill = ''\n",
    "    item_code = ''\n",
    "    item_rate = ''\n",
    "    cu_name = ''\n",
    "    i_bill = i_bill\n",
    "    amount = 0\n",
    "    a_sum = 0\n",
    "\n",
    "    print(\" {}       {:<10}  {}  {}  {:<8} {}   {}   {:>5}  {}\".format('bill','item','item_code','cu_id','cu_name','Quantity','item_rate','amount','a_sum'))\n",
    "    print()\n",
    "\n",
    "    for i in range(len(tr)):\n",
    "        for j in range(1,len(tr[i])):\n",
    "            item = tr[i][j][0]\n",
    "            quantity = tr[i][j][1]\n",
    "            cu_id = tr[i][0][0]\n",
    "            bill = tr[i][0][1]\n",
    "\n",
    "            for k in range(len(cu)):\n",
    "                if cu_id == cu[k][0]:\n",
    "                    cu_name = cu[k][1]\n",
    "\n",
    "            for l in range(len(item_detail)):\n",
    "                if item == item_detail[l][1]:\n",
    "                    item_code = item_detail[l][0]\n",
    "                    item_rate = item_detail[l][2]\n",
    "            \n",
    "            amount = item_rate * quantity\n",
    "            \n",
    "\n",
    "            \n",
    "\n",
    "            if i_bill == bill:\n",
    "                a_sum = a_sum + amount\n",
    "                c_name = cu_name\n",
    "            \n",
    "                print(\"{:<10}  {:<10}    {}      {}   {:<8} {:>3}          {:>3}     {:>5}   {:>5}\".format(bill,item,item_code,cu_id,cu_name,quantity,item_rate,amount,a_sum))\n",
    "    print()\n",
    "    print( \"{}  {}                                                  {:>5}\".format('Total amount of',c_name,a_sum))\n",
    "                        \n",
    "\n",
    "\n",
    "\n",
    "def bill_wise_amount(i_bill):\n",
    " \n",
    "    item = ''\n",
    "    cu_id = ''\n",
    "    quantity = 0\n",
    "    bill = ''\n",
    "    item_code = ''\n",
    "    item_rate = ''\n",
    "    cu_name = ''\n",
    "    i_bill = i_bill\n",
    "    amount = 0\n",
    "    a_sum = 0\n",
    "    c_name = ''\n",
    "    c_id = ''\n",
    "\n",
    "    print(\"             {}    {}    {}     {}\".format('Bill.No','cu_name','cu_id','a_sum'))\n",
    "    print()\n",
    "\n",
    "    for i in range(len(tr)):\n",
    "        for j in range(1,len(tr[i])):\n",
    "            item = tr[i][j][0]\n",
    "            quantity = tr[i][j][1]\n",
    "            cu_id = tr[i][0][0]\n",
    "            bill = tr[i][0][1]\n",
    "\n",
    "            for k in range(len(cu)):\n",
    "                if cu_id == cu[k][0]:\n",
    "                    cu_name = cu[k][1]\n",
    "\n",
    "            for l in range(len(item_detail)):\n",
    "                if item == item_detail[l][1]:\n",
    "                    item_code = item_detail[l][0]\n",
    "                    item_rate = item_detail[l][2]\n",
    "            \n",
    "            amount = item_rate * quantity\n",
    "            \n",
    "\n",
    "            \n",
    "\n",
    "            if i_bill == bill:\n",
    "                a_sum = a_sum + amount\n",
    "                c_name = cu_name\n",
    "                c_id = cu_id\n",
    "                \n",
    "    print( \"{:<10} {:<6}      {}    {:>5}  {:>8}\".format('Billing of:-',i_bill,c_name,c_id,a_sum))\n",
    "                        \n",
    "                            \n"
   ]
  },
  {
   "cell_type": "code",
   "execution_count": 14,
   "metadata": {},
   "outputs": [
    {
     "output_type": "stream",
     "name": "stdout",
     "text": [
      "\nCustomer_Name   Customer_ID  Item_name   Item_Code   Item_rate   Item_Qty   Amount\n\n                  ('1210', '120001', '25/02/2021')        grapes        1005         45         4          180\n                  ('1214', '120005', '01/03/2021')        grapes        1005         45         3          315\n\nTotal ::                                                           7         315\n\n"
     ]
    }
   ],
   "source": [
    "item_wise_cust('1005')"
   ]
  },
  {
   "cell_type": "code",
   "execution_count": 13,
   "metadata": {},
   "outputs": [
    {
     "output_type": "stream",
     "name": "stdout",
     "text": [
      "Sl.no  Bill.No  Date      Item_code  Item      Item_Rate   cu_id   cu_name  Quantity   Amount\n\n 1  120001   25/02/2021    1001     apple         60       1210   Rajesh     3           180\n 2  120001   25/02/2021    1005     grapes        45       1210   Rajesh     4           180\n 3  120002   26/02/2021    1003     pears         30       1211   Rakesh     6           180\n 4  120002   26/02/2021    1004     mango         50       1211   Rakesh     8           400\n 5  120002   26/02/2021    1002     orange        40       1211   Rakesh     6           240\n 6  120003   27/02/2021    1003     pears         30       1212   Sahil      2            60\n 7  120003   27/02/2021    1001     apple         60       1212   Sahil      3           180\n 8  120003   27/02/2021    1002     orange        40       1212   Sahil      4           160\n 9  120003   27/02/2021    1012     cherry        90       1212   Sahil      5           450\n10  120003   27/02/2021    1004     mango         50       1212   Sahil      6           300\n11  120003   27/02/2021    1001     apple         60       1212   Sahil      7           420\n12  120004   28/02/2021    1002     orange        40       1213   Jack       9           360\n13  120004   28/02/2021    1003     pears         30       1213   Jack       8           240\n14  120004   28/02/2021    1007     pineapple     60       1213   Jack       5           300\n15  120005   01/03/2021    1005     grapes        45       1214   Steve      3           135\n16  120005   01/03/2021    1001     apple         60       1214   Steve      7           420\n17  120006   02/03/2021    1004     mango         50       1215   Rohan     12           600\n18  120006   02/03/2021    1002     orange        40       1215   Rohan     13           520\n19  120006   02/03/2021    1006     guava         40       1215   Rohan      8           320\n20  120006   02/03/2021    1010     Strawberry   150       1215   Rohan     10          1500\n21  120006   02/03/2021    1012     cherry        90       1215   Rohan      7           630\n22  120007   03/03/2021    1008     dates        100       1211   Rakesh    15          1500\n23  120007   03/03/2021    1009     banana        10       1211   Rakesh    10           100\n24  120007   03/03/2021    1002     orange        40       1211   Rakesh    10           400\n25  120008   04/03/2021    1008     dates        100       1214   Steve     13          1300\n26  120008   04/03/2021    1009     banana        10       1214   Steve     10           100\n27  120008   04/03/2021    1011     Blackberry   110       1214   Steve      2           220\n28  120009   05/03/2021    1008     dates        100       1215   Rohan     12          1200\n29  120009   05/03/2021    1001     apple         60       1215   Rohan     10           600\n30  120009   05/03/2021    1004     mango         50       1215   Rohan     10           500\n31  120009   05/03/2021    1012     cherry        90       1215   Rohan      8           720\n32  120010   06/03/2021    1001     apple         60       1216   Millan     6           360\n33  120010   06/03/2021    1008     dates        100       1216   Millan     8           800\n34  120010   06/03/2021    1013     jelly         20       1216   Millan     5           100\n35  120010   06/03/2021    1014     jackfruit     40       1216   Millan    50          2000\n36  120011   07/03/2021    1004     mango         50       1217   mikul      6           300\n37  120011   07/03/2021    1001     apple         60       1217   mikul      8           480\n\nTotal:-                                                                                18455\n"
     ]
    }
   ],
   "source": [
    "main_tr_db()"
   ]
  },
  {
   "cell_type": "code",
   "execution_count": 3,
   "metadata": {},
   "outputs": [
    {
     "output_type": "stream",
     "name": "stdout",
     "text": [
      "             Bill.No    cu_name    cu_id     a_sum\n\nBilling of:- 120006      Rohan     1215      3570\n"
     ]
    }
   ],
   "source": [
    "bill_wise_amount('120006')"
   ]
  },
  {
   "cell_type": "code",
   "execution_count": 4,
   "metadata": {},
   "outputs": [
    {
     "output_type": "stream",
     "name": "stdout",
     "text": [
      " bill       item        item_code  cu_id  cu_name  Quantity   item_rate   amount  a_sum\n\n120006      mango         1004      1215   Rohan     12           50       600     600\n120006      orange        1002      1215   Rohan     13           40       520    1120\n120006      guava         1006      1215   Rohan      8           40       320    1440\n120006      Strawberry    1010      1215   Rohan     10          150      1500    2940\n120006      cherry        1012      1215   Rohan      7           90       630    3570\n\nTotal amount of  Rohan                                                   3570\n"
     ]
    }
   ],
   "source": [
    "bill_wise_item('120006')"
   ]
  },
  {
   "cell_type": "code",
   "execution_count": 14,
   "metadata": {},
   "outputs": [
    {
     "output_type": "stream",
     "name": "stdout",
     "text": [
      " bill            item        item_code  cu_id  cu_name  amount  a_sum\n\n120001           apple         1001      1210   Rajesh   180     180\n120003           apple         1001      1212   Sahil    180     360\n120003           apple         1001      1212   Sahil    420     780\n120005           apple         1001      1214   Steve    420    1200\n120009           apple         1001      1215   Rohan    600    1800\n120010           apple         1001      1216   Millan   360    2160\n1200011          apple         1001      1217   mikul    480    2640\n\nTotal amount of  apple                                         2640\n"
     ]
    }
   ],
   "source": [
    "item_wise_bill('apple')"
   ]
  },
  {
   "cell_type": "code",
   "execution_count": 4,
   "metadata": {},
   "outputs": [
    {
     "output_type": "stream",
     "name": "stdout",
     "text": [
      "\nCustomer_Name   Customer_ID  Item_name   Item_Code   Item_rate   Item_Qty   Amount\n\nRajesh            1210        apple         1001         60         3          180\nSahil             1212        apple         1001         60         3          360\nSahil             1212        apple         1001         60         7          780\nSteve             1214        apple         1001         60         7         1200\nRohan             1215        apple         1001         60        10         1800\nMillan            1216        apple         1001         60         6         2160\nmikul             1217        apple         1001         60         8         2640\n\nTotal ::                                                           44         2640\n\n"
     ]
    }
   ],
   "source": [
    "line_wise_item('apple')"
   ]
  },
  {
   "cell_type": "code",
   "execution_count": 5,
   "metadata": {},
   "outputs": [
    {
     "output_type": "stream",
     "name": "stdout",
     "text": [
      "\nSl.no  Bill.No  Item_code  Item      Item_Rate   cu_id   cu_name  Quantity     Amount\n\n 6     120003    1003     pears         30       1212   Sahil      2            60\n 7     120003    1001     apple         60       1212   Sahil      3           180\n 8     120003    1002     orange        40       1212   Sahil      4           160\n 9     120003    1012     cherry        90       1212   Sahil      5           450\n10     120003    1004     mango         50       1212   Sahil      6           300\n11     120003    1001     apple         60       1212   Sahil      7           420\n\nTotal:-                                                                      1570\n\nSl.no  Bill.No  Item_code  Item      Item_Rate   cu_id   cu_name  Quantity     Amount\n\n15     120005    1005     grapes        45       1214   Steve      3           135\n16     120005    1001     apple         60       1214   Steve      7           420\n25     120005    1008     dates        100       1214   Steve     13          1300\n26     120005    1009     banana        10       1214   Steve     10           100\n27     120005    1011     Blackberry   110       1214   Steve      2           220\n\nTotal:-                                                                      2175\n\nSl.no  Bill.No  Item_code  Item      Item_Rate   cu_id   cu_name  Quantity     Amount\n\n32     120008    1001     apple         60       1216   Millan     6           360\n33     120008    1008     dates        100       1216   Millan     8           800\n34     120008    1013     jelly         20       1216   Millan     5           100\n35     120008    1014     jackfruit     40       1216   Millan    50          2000\n\nTotal:-                                                                      3260\n"
     ]
    }
   ],
   "source": [
    "ls_wise_items('1212','1214','1216')"
   ]
  },
  {
   "cell_type": "code",
   "execution_count": 4,
   "metadata": {},
   "outputs": [
    {
     "output_type": "stream",
     "name": "stdout",
     "text": [
      "Sl.no  Bill.No  Item_code  Item      Item_Rate   cu_id   cu_name  Quantity     Amount\n\n 1     120001    1001     apple         60       1210   Rajesh     3           180\n 2     120001    1005     grapes        45       1210   Rajesh     4           180\n 3     120002    1003     pears         30       1211   Rakesh     6           180\n 4     120002    1004     mango         50       1211   Rakesh     8           400\n 5     120002    1002     orange        40       1211   Rakesh     6           240\n 6     120003    1003     pears         30       1212   Sahil      2            60\n 7     120003    1001     apple         60       1212   Sahil      3           180\n 8     120003    1002     orange        40       1212   Sahil      4           160\n 9     120003    1012     cherry        90       1212   Sahil      5           450\n10     120003    1004     mango         50       1212   Sahil      6           300\n11     120003    1001     apple         60       1212   Sahil      7           420\n12     120004    1002     orange        40       1213   Jack       9           360\n13     120004    1003     pears         30       1213   Jack       8           240\n14     120004    1007     pineapple     60       1213   Jack       5           300\n15     120005    1005     grapes        45       1214   Steve      3           135\n16     120005    1001     apple         60       1214   Steve      7           420\n17     120006    1004     mango         50       1215   Rohan     12           600\n18     120006    1002     orange        40       1215   Rohan     13           520\n19     120006    1006     guava         40       1215   Rohan      8           320\n20     120006    1010     Strawberry   150       1215   Rohan     10          1500\n21     120006    1012     cherry        90       1215   Rohan      7           630\n22     120007    1008     dates        100       1211   Rakesh    15          1500\n23     120007    1009     banana        10       1211   Rakesh    10           100\n24     120007    1002     orange        40       1211   Rakesh    10           400\n25     120005    1008     dates        100       1214   Steve     13          1300\n26     120005    1009     banana        10       1214   Steve     10           100\n27     120005    1011     Blackberry   110       1214   Steve      2           220\n28     120008    1008     dates        100       1215   Rohan     12          1200\n29     120008    1001     apple         60       1215   Rohan     10           600\n30     120008    1004     mango         50       1215   Rohan     10           500\n31     120008    1012     cherry        90       1215   Rohan      8           720\n32     120008    1001     apple         60       1216   Millan     6           360\n33     120008    1008     dates        100       1216   Millan     8           800\n34     120008    1013     jelly         20       1216   Millan     5           100\n35     120008    1014     jackfruit     40       1216   Millan    50          2000\n36     120009    1004     mango         50       1217   mikul      6           300\n37     120009    1001     apple         60       1217   mikul      8           480\n\nTotal:-                                                                       18455\n"
     ]
    }
   ],
   "source": [
    "main_tr_db()"
   ]
  },
  {
   "cell_type": "code",
   "execution_count": 13,
   "metadata": {},
   "outputs": [
    {
     "output_type": "stream",
     "name": "stdout",
     "text": [
      "\nCustomer_Name   Customer_ID  Item_name   Item_Code   Item_rate   Item_Qty   Amount\n\n\nTotal ::                                                           0         0\n\n"
     ]
    }
   ],
   "source": [
    "line_wise_item('1005')"
   ]
  },
  {
   "cell_type": "code",
   "execution_count": 12,
   "metadata": {},
   "outputs": [
    {
     "output_type": "execute_result",
     "data": {
      "text/plain": [
       "('1005', 'grapes', 7, 315)"
      ]
     },
     "metadata": {},
     "execution_count": 12
    }
   ],
   "source": [
    "item_wise_amount('1005')"
   ]
  },
  {
   "cell_type": "code",
   "execution_count": 11,
   "metadata": {},
   "outputs": [
    {
     "output_type": "stream",
     "name": "stdout",
     "text": [
      "(('1210', '120001'), None, 360)\n(('1211', '120002'), None, 820)\n(('1212', '120003'), None, 1570)\n(('1213', '120004'), None, 900)\n(('1214', '120005'), None, 555)\n(('1215', '120006'), None, 3570)\n(('1211', '120007'), None, 2000)\n(('1214', '120008'), None, 1620)\n(('1215', '120009'), None, 3020)\n(('1216', '120010'), None, 3260)\n(('1217', '1200011'), None, 780)\n"
     ]
    },
    {
     "output_type": "execute_result",
     "data": {
      "text/plain": [
       "('Total sum of sellings:-', 18455)"
      ]
     },
     "metadata": {},
     "execution_count": 11
    }
   ],
   "source": [
    "cust_wise_summary()"
   ]
  },
  {
   "cell_type": "code",
   "execution_count": 18,
   "metadata": {},
   "outputs": [],
   "source": [
    "\n",
    "def bill_no(billnum):\n",
    "    billnum = billnum\n",
    "    for i in range(len(cu)):\n",
    "        if billnum == cu[i][2]:\n",
    "            print() "
   ]
  },
  {
   "cell_type": "code",
   "execution_count": 19,
   "metadata": {},
   "outputs": [
    {
     "output_type": "error",
     "ename": "SyntaxError",
     "evalue": "invalid syntax (<ipython-input-19-b8bbf416f3d5>, line 1)",
     "traceback": [
      "\u001b[0;36m  File \u001b[0;32m\"<ipython-input-19-b8bbf416f3d5>\"\u001b[0;36m, line \u001b[0;32m1\u001b[0m\n\u001b[0;31m    def bill_no('120001')\u001b[0m\n\u001b[0m                ^\u001b[0m\n\u001b[0;31mSyntaxError\u001b[0m\u001b[0;31m:\u001b[0m invalid syntax\n"
     ]
    }
   ],
   "source": [
    "def bill_no('120001')"
   ]
  },
  {
   "cell_type": "code",
   "execution_count": 5,
   "metadata": {},
   "outputs": [
    {
     "output_type": "stream",
     "name": "stdout",
     "text": [
      "\nSl.no  Bill.No  Item_code  Item      Item_Rate   cu_id   cu_name  Quantity     Amount\n\n 6     120003    1003     pears         30       1212   Sahil      2            60\n 7     120003    1001     apple         60       1212   Sahil      3           180\n 8     120003    1002     orange        40       1212   Sahil      4           160\n 9     120003    1012     cherry        90       1212   Sahil      5           450\n10     120003    1004     mango         50       1212   Sahil      6           300\n11     120003    1001     apple         60       1212   Sahil      7           420\n\n"
     ]
    },
    {
     "output_type": "execute_result",
     "data": {
      "text/plain": [
       "'Total:-                                                                      1570'"
      ]
     },
     "metadata": {},
     "execution_count": 5
    }
   ],
   "source": [
    "cust_wise_items('1212')"
   ]
  },
  {
   "cell_type": "code",
   "execution_count": 6,
   "metadata": {},
   "outputs": [
    {
     "output_type": "stream",
     "name": "stdout",
     "text": [
      "Sl.no  Bill.No  Item_code  Item      Item_Rate   cu_id   cu_name  Quantity     Amount\n\n 1     120001    1001     apple         60       1210   Rajesh     3           180\n 2     120001    1005     grapes        45       1210   Rajesh     4           180\n 3     120002    1003     pears         30       1211   Rakesh     6           180\n 4     120002    1004     mango         50       1211   Rakesh     8           400\n 5     120002    1002     orange        40       1211   Rakesh     6           240\n 6     120003    1003     pears         30       1212   Sahil      2            60\n 7     120003    1001     apple         60       1212   Sahil      3           180\n 8     120003    1002     orange        40       1212   Sahil      4           160\n 9     120003    1012     cherry        90       1212   Sahil      5           450\n10     120003    1004     mango         50       1212   Sahil      6           300\n11     120003    1001     apple         60       1212   Sahil      7           420\n12     120004    1002     orange        40       1213   Jack       9           360\n13     120004    1003     pears         30       1213   Jack       8           240\n14     120004    1007     pineapple     60       1213   Jack       5           300\n15     120005    1005     grapes        45       1214   Steve      3           135\n16     120005    1001     apple         60       1214   Steve      7           420\n17     120006    1004     mango         50       1215   Rohan     12           600\n18     120006    1002     orange        40       1215   Rohan     13           520\n19     120006    1006     guava         40       1215   Rohan      8           320\n20     120006    1010     Strawberry   150       1215   Rohan     10          1500\n21     120006    1012     cherry        90       1215   Rohan      7           630\n22     120007    1008     dates        100       1211   Rakesh    15          1500\n23     120007    1009     banana        10       1211   Rakesh    10           100\n24     120007    1002     orange        40       1211   Rakesh    10           400\n25     120005    1008     dates        100       1214   Steve     13          1300\n26     120005    1009     banana        10       1214   Steve     10           100\n27     120005    1011     Blackberry   110       1214   Steve      2           220\n28     120008    1008     dates        100       1215   Rohan     12          1200\n29     120008    1001     apple         60       1215   Rohan     10           600\n30     120008    1004     mango         50       1215   Rohan     10           500\n31     120008    1012     cherry        90       1215   Rohan      8           720\n32     120008    1001     apple         60       1216   Millan     6           360\n33     120008    1008     dates        100       1216   Millan     8           800\n34     120008    1013     jelly         20       1216   Millan     5           100\n35     120008    1014     jackfruit     40       1216   Millan    50          2000\n36     120009    1004     mango         50       1217   mikul      6           300\n37     120009    1001     apple         60       1217   mikul      8           480\n\nTotal:-                                                                       18455\n"
     ]
    }
   ],
   "source": [
    "main_tr_db()"
   ]
  },
  {
   "cell_type": "code",
   "execution_count": 13,
   "metadata": {},
   "outputs": [
    {
     "output_type": "stream",
     "name": "stdout",
     "text": [
      "\nSl.no  Bill.No  Item_code  Item      Item_Rate   cu_id   cu_name  Quantity     Amount\n\n 6     120003    1003     pears         30       1212   Sahil      2            60\n 7     120003    1001     apple         60       1212   Sahil      3           180\n 8     120003    1002     orange        40       1212   Sahil      4           160\n 9     120003    1012     cherry        90       1212   Sahil      5           450\n10     120003    1004     mango         50       1212   Sahil      6           300\n11     120003    1001     apple         60       1212   Sahil      7           420\n\nTotal:-                                                                        1570\n\nSl.no  Bill.No  Item_code  Item      Item_Rate   cu_id   cu_name  Quantity     Amount\n\n32     120008    1001     apple         60       1216   Millan     6           360\n33     120008    1008     dates        100       1216   Millan     8           800\n34     120008    1013     jelly         20       1216   Millan     5           100\n35     120008    1014     jackfruit     40       1216   Millan    50          2000\n\nTotal:-                                                                        3260\n\nSl.no  Bill.No  Item_code  Item      Item_Rate   cu_id   cu_name  Quantity     Amount\n\n15     120005    1005     grapes        45       1214   Steve      3           135\n16     120005    1001     apple         60       1214   Steve      7           420\n25     120005    1008     dates        100       1214   Steve     13          1300\n26     120005    1009     banana        10       1214   Steve     10           100\n27     120005    1011     Blackberry   110       1214   Steve      2           220\n\nTotal:-                                                                        2175\n"
     ]
    }
   ],
   "source": [
    "ls_wise_items('1212','1216','1214')"
   ]
  },
  {
   "cell_type": "code",
   "execution_count": 3,
   "metadata": {},
   "outputs": [
    {
     "output_type": "execute_result",
     "data": {
      "text/plain": [
       "('1214', 'Steve', 2175)"
      ]
     },
     "metadata": {},
     "execution_count": 3
    }
   ],
   "source": [
    "cust_wise_amount('1214')"
   ]
  },
  {
   "cell_type": "code",
   "execution_count": 5,
   "metadata": {},
   "outputs": [
    {
     "output_type": "execute_result",
     "data": {
      "text/plain": [
       "['apple',\n",
       " 'grapes',\n",
       " 'pears',\n",
       " 'mango',\n",
       " 'orange',\n",
       " 'cherry',\n",
       " 'pineapple',\n",
       " 'guava',\n",
       " 'Strawberry',\n",
       " 'dates',\n",
       " 'banana',\n",
       " 'Blackberry',\n",
       " 'jelly',\n",
       " 'jackfruit']"
      ]
     },
     "metadata": {},
     "execution_count": 5
    }
   ],
   "source": [
    "item_un_list()"
   ]
  },
  {
   "cell_type": "code",
   "execution_count": 15,
   "metadata": {},
   "outputs": [
    {
     "output_type": "stream",
     "name": "stdout",
     "text": [
      "sl.no  cu_id     cu_name     \n\n 4      1213      Jack        \n"
     ]
    }
   ],
   "source": [
    "cust_master_list('Jack')"
   ]
  },
  {
   "cell_type": "code",
   "execution_count": null,
   "metadata": {},
   "outputs": [],
   "source": []
  },
  {
   "cell_type": "code",
   "execution_count": null,
   "metadata": {},
   "outputs": [],
   "source": []
  },
  {
   "cell_type": "code",
   "execution_count": null,
   "metadata": {},
   "outputs": [],
   "source": []
  }
 ]
}