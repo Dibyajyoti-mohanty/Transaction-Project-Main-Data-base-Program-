{
 "metadata": {
  "language_info": {
   "codemirror_mode": {
    "name": "ipython",
    "version": 3
   },
   "file_extension": ".py",
   "mimetype": "text/x-python",
   "name": "python",
   "nbconvert_exporter": "python",
   "pygments_lexer": "ipython3",
   "version": "3.9.2-final"
  },
  "orig_nbformat": 2,
  "kernelspec": {
   "name": "python3",
   "display_name": "Python 3.9.2 64-bit",
   "metadata": {
    "interpreter": {
     "hash": "f9f85f796d01129d0dd105a088854619f454435301f6ffec2fea96ecbd9be4ac"
    }
   }
  }
 },
 "nbformat": 4,
 "nbformat_minor": 2,
 "cells": [
  {
   "cell_type": "code",
   "execution_count": 28,
   "metadata": {},
   "outputs": [
    {
     "output_type": "stream",
     "name": "stdout",
     "text": [
      "bill     date     tr_cu_id  tr_cu_name  item       item_rate quantity amount a_sum \n\n120001 27/02/2021  1210       Rajesh    apple       60          3      180     180 \n120001 27/02/2021  1210       Rajesh    grapes      45          4      180     360 \n120002 27/02/2021  1211       Rakesh    pears       30          6      180     540 \n120002 27/02/2021  1211       Rakesh    mango       50          8      400     940 \n120002 27/02/2021  1211       Rakesh    orange      40          6      240    1180 \n120003 27/02/2021  1212       Sahil     pears       30          2       60    1240 \n120003 27/02/2021  1212       Sahil     apple       60          3      180    1420 \n120003 27/02/2021  1212       Sahil     orange      40          4      160    1580 \n120003 27/02/2021  1212       Sahil     cherry      90          5      450    2030 \n120003 27/02/2021  1212       Sahil     mango       50          6      300    2330 \n120003 27/02/2021  1212       Sahil     apple       60          7      420    2750 \n120004 28/02/2021  1213       Jack      orange      40          9      360    3110 \n120004 28/02/2021  1213       Jack      pears       30          8      240    3350 \n120004 28/02/2021  1213       Jack      pineapple   60          5      300    3650 \n120005 28/02/2021  1214       Steve     grapes      45          3      135    3785 \n120005 28/02/2021  1214       Steve     apple       60          7      420    4205 \n120006 02/03/2021  1215       Rohan     mango       50         12      600    4805 \n120006 02/03/2021  1215       Rohan     orange      40         13      520    5325 \n120006 02/03/2021  1215       Rohan     guava       40          8      320    5645 \n120006 02/03/2021  1215       Rohan     Strawberry 150         10     1500    7145 \n120006 02/03/2021  1215       Rohan     cherry      90          7      630    7775 \n120007 03/03/2021  1211       Rakesh    dates      100         15     1500    9275 \n120007 03/03/2021  1211       Rakesh    banana      10         10      100    9375 \n120007 03/03/2021  1211       Rakesh    orange      40         10      400    9775 \n120008 04/03/2021  1214       Steve     dates      100         13     1300   11075 \n120008 04/03/2021  1214       Steve     banana      10         10      100   11175 \n120008 04/03/2021  1214       Steve     Blackberry 110          2      220   11395 \n120009 05/03/2021  1215       Rohan     dates      100         12     1200   12595 \n120009 05/03/2021  1215       Rohan     apple       60         10      600   13195 \n120009 05/03/2021  1215       Rohan     mango       50         10      500   13695 \n120009 05/03/2021  1215       Rohan     cherry      90          8      720   14415 \n120010 05/03/2021  1216       Millan    apple       60          6      360   14775 \n120010 05/03/2021  1216       Millan    dates      100          8      800   15575 \n120010 05/03/2021  1216       Millan    jelly       20          5      100   15675 \n120010 05/03/2021  1216       Millan    jackfruit   40         50     2000   17675 \n120011 05/03/2021  1217       mikul     mango       50          6      300   17975 \n120011 05/03/2021  1217       mikul     apple       60          8      480   18455 \n\nTotal ::                                                             18455\n"
     ]
    }
   ],
   "source": [
    "tr = [(('1210','120001','27/02/2021'),('apple',3),('grapes',4)),\n",
    "      (('1211','120002','27/02/2021'),('pears',6),('mango',8),('orange',6)),\n",
    "      (('1212','120003','27/02/2021'),('pears',2),('apple',3),('orange',4),('cherry',5),('mango',6),('apple',7)),\n",
    "      (('1213','120004','28/02/2021'),('orange',9),('pears',8),('pineapple',5)),\n",
    "      (('1214','120005','28/02/2021'),('grapes',3),('apple',7)),\n",
    "      (('1215','120006','02/03/2021'),('mango',12),('orange',13),('guava',8),('Strawberry',10),('cherry',7)),\n",
    "      (('1211','120007','03/03/2021'),('dates',15),('banana',10),('orange',10)),\n",
    "      (('1214','120008','04/03/2021'),('dates',13),('banana',10),('Blackberry',2)),\n",
    "      (('1215','120009','05/03/2021'),('dates',12),('apple',10),('mango',10),('cherry',8)),\n",
    "      (('1216','120010','05/03/2021'),('apple',6),('dates',8),('jelly',5),('jackfruit',50)),\n",
    "     (('1217','120011','05/03/2021'),('mango',6),('apple',8))]\n",
    "\n",
    "cu = [('1210','Rajesh'),('1211','Rakesh'),('1212','Sahil'),\n",
    "      ('1213','Jack'),('1214','Steve'),('1215','Rohan',),\n",
    "      ('1216','Millan',),('1217','mikul'),('1218','smile')]\n",
    "\n",
    "\n",
    "item_detail = [('1001','apple',60),('1002','orange',40),('1003','pears',30),\n",
    "               ('1004','mango',50),('1005','grapes',45),('1006','guava',40),\n",
    "             ('1007','pineapple',60),('1008','dates',100),('1009','banana',10),\n",
    "               ('1010','Strawberry',150),('1011','Blackberry',110),\n",
    "             ('1012','cherry',90),('1013','jelly',20),('1014','jackfruit',40)]\n",
    "\n",
    "tr_cu_un = []\n",
    "\n",
    "tr_item_un = []\n",
    "\n",
    "tr_un_bill = []\n",
    "\n",
    "\n",
    "\n",
    "def cu_name_id(c_id):\n",
    "    c_id = c_id\n",
    "    for i in range(len(cu)):\n",
    "        cu_id = cu[i][0]\n",
    "        cu_name = cu[i][1]\n",
    "        if cu_id == c_id:\n",
    "            return cu_name\n",
    "        elif cu_name == c_id:\n",
    "            return cu_id \n",
    "\n",
    "def item_name_code(i_code):\n",
    "    i_code = i_code\n",
    "    for i in range(len(item_detail)):\n",
    "        tr_i_code = item_detail[i][0]\n",
    "        tr_i_name = item_detail[i][1]\n",
    "        if tr_i_code == i_code:\n",
    "            return tr_i_name\n",
    "        elif tr_i_name == i_code:\n",
    "            return tr_i_code\n",
    "\n",
    "\n",
    "for i in range(len(tr)):\n",
    "    for j in range(1,len(tr[i])):\n",
    "        cu_un_id = tr[i][0][0]\n",
    "        item_un_id = tr[i][j][0]\n",
    "        tr_bill = tr[i][0][1]\n",
    "    if cu_un_id not in tr_cu_un:\n",
    "        tr_cu_un.append(cu_un_id)\n",
    "        \n",
    "\n",
    "    if item_un_id not in tr_item_un:\n",
    "        tr_item_un.append(item_un_id)\n",
    "\n",
    "\n",
    "\n",
    "\n",
    "item = ''\n",
    "quantity = 0\n",
    "tr_cu_id = ''\n",
    "bill = ''\n",
    "date = ''\n",
    "tr_cu_name = ''\n",
    "item_code = ''\n",
    "item_rate = 0\n",
    "amount = 0\n",
    "a_sum = 0\n",
    "x = 0\n",
    "\n",
    "print(\"{}     {}     {}  {:<8}  {:<10} {:>3} {:>3} {:>4} {:>5} \".format('bill','date','tr_cu_id','tr_cu_name','item','item_rate','quantity','amount','a_sum'))\n",
    "print()\n",
    "\n",
    "for i in range(len(tr)):\n",
    "    for j in range(1,len(tr[i])):\n",
    "        item = tr[i][j][0]\n",
    "        quantity = tr[i][j][1]\n",
    "        tr_cu_id = tr[i][0][0]\n",
    "        bill = tr[i][0][1]\n",
    "        date = tr[i][0][2]\n",
    "\n",
    "\n",
    "        for k in range(len(cu)):\n",
    "            if tr_cu_id == cu[k][0]:\n",
    "                tr_cu_name = cu[k][1]\n",
    "        for l in range(len(item_detail)):\n",
    "            if item == item_detail[l][1]:\n",
    "                item_code = item_detail[l][0]\n",
    "                item_rate = item_detail[l][2]\n",
    "        amount = item_rate * quantity\n",
    "        a_sum = a_sum + amount\n",
    "        x = x+1\n",
    "\n",
    "\n",
    "\n",
    "\n",
    "        \n",
    "        print(\"{} {}  {}       {:<8}  {:<10} {:>3}        {:>3}     {:>4}   {:>5} \".format(bill,date,tr_cu_id,tr_cu_name,item,item_rate,quantity,amount,a_sum))\n",
    "print()\n",
    "print(\"Total ::                                                             {:>5}\".format(a_sum))\n",
    "\n",
    "\n",
    "\n",
    "\n"
   ]
  },
  {
   "cell_type": "code",
   "execution_count": 29,
   "metadata": {},
   "outputs": [
    {
     "output_type": "execute_result",
     "data": {
      "text/plain": [
       "['grapes', 'orange', 'apple', 'pineapple', 'cherry', 'Blackberry', 'jackfruit']"
      ]
     },
     "metadata": {},
     "execution_count": 29
    }
   ],
   "source": [
    "tr_item_un"
   ]
  },
  {
   "cell_type": "code",
   "execution_count": 50,
   "metadata": {},
   "outputs": [
    {
     "output_type": "execute_result",
     "data": {
      "text/plain": [
       "'1212'"
      ]
     },
     "metadata": {},
     "execution_count": 50
    }
   ],
   "source": [
    "cu_name_id('Sahil')"
   ]
  },
  {
   "cell_type": "code",
   "execution_count": 65,
   "metadata": {},
   "outputs": [
    {
     "output_type": "execute_result",
     "data": {
      "text/plain": [
       "'1004'"
      ]
     },
     "metadata": {},
     "execution_count": 65
    }
   ],
   "source": [
    "item_name_code('mango')"
   ]
  },
  {
   "cell_type": "code",
   "execution_count": 74,
   "metadata": {},
   "outputs": [
    {
     "output_type": "execute_result",
     "data": {
      "text/plain": [
       "['1210', '1211', '1212', '1213', '1214', '1215', '1216', '1217']"
      ]
     },
     "metadata": {},
     "execution_count": 74
    }
   ],
   "source": [
    "tr_cu_un"
   ]
  },
  {
   "cell_type": "code",
   "execution_count": 86,
   "metadata": {},
   "outputs": [
    {
     "output_type": "execute_result",
     "data": {
      "text/plain": [
       "['grapes', 'orange', 'apple', 'pineapple', 'cherry', 'Blackberry', 'jackfruit']"
      ]
     },
     "metadata": {},
     "execution_count": 86
    }
   ],
   "source": [
    "tr_item_un"
   ]
  },
  {
   "cell_type": "code",
   "execution_count": 436,
   "metadata": {},
   "outputs": [
    {
     "output_type": "stream",
     "name": "stdout",
     "text": [
      "Cu_Name  Cu_ID Amount_Sum\n\nRajesh   1210      360\nRakesh   1211     2820\nSahil    1212     1570\nJack     1213      900\nSteve    1214     2175\nRohan    1215     6590\nMillan   1216     3260\nmikul    1217      780\n\nTotal ::         18455\n"
     ]
    }
   ],
   "source": [
    "tr = [(('1210','120001','27/02/2021'),('apple',3),('grapes',4)),\n",
    "      (('1211','120002','27/02/2021'),('pears',6),('mango',8),('orange',6)),\n",
    "      (('1212','120003','27/02/2021'),('pears',2),('apple',3),('orange',4),('cherry',5),('mango',6),('apple',7)),\n",
    "      (('1213','120004','28/02/2021'),('orange',9),('pears',8),('pineapple',5)),\n",
    "      (('1214','120005','28/02/2021'),('grapes',3),('apple',7)),\n",
    "      (('1215','120006','02/03/2021'),('mango',12),('orange',13),('guava',8),('Strawberry',10),('cherry',7)),\n",
    "      (('1211','120007','03/03/2021'),('dates',15),('banana',10),('orange',10)),\n",
    "      (('1214','120008','04/03/2021'),('dates',13),('banana',10),('Blackberry',2)),\n",
    "      (('1215','120009','05/03/2021'),('dates',12),('apple',10),('mango',10),('cherry',8)),\n",
    "      (('1216','120010','05/03/2021'),('apple',6),('dates',8),('jelly',5),('jackfruit',50)),\n",
    "     (('1217','120011','05/03/2021'),('mango',6),('apple',8))]\n",
    "cu = [('1210','Rajesh'),('1211','Rakesh'),('1212','Sahil'),\n",
    "      ('1213','Jack'),('1214','Steve'),('1215','Rohan',),\n",
    "      ('1216','Millan',),('1217','mikul'),('1218','smile')]\n",
    "\n",
    "\n",
    "item_detail = [('1001','apple',60),('1002','orange',40),('1003','pears',30),\n",
    "               ('1004','mango',50),('1005','grapes',45),('1006','guava',40),\n",
    "             ('1007','pineapple',60),('1008','dates',100),('1009','banana',10),\n",
    "               ('1010','Strawberry',150),('1011','Blackberry',110),\n",
    "             ('1012','cherry',90),('1013','jelly',20),('1014','jackfruit',40)]\n",
    "\n",
    "tr_cu_un = []\n",
    "\n",
    "tr_item_un = []\n",
    "\n",
    "tr_un_bill = []\n",
    "\n",
    "\n",
    "\n",
    "def cu_name_id(c_id):\n",
    "    c_id = c_id\n",
    "    for i in range(len(cu)):\n",
    "        cu_id = cu[i][0]\n",
    "        cu_name = cu[i][1]\n",
    "        if cu_id == c_id:\n",
    "            return cu_name\n",
    "        elif cu_name == c_id:\n",
    "            return cu_id \n",
    "\n",
    "def item_name_code(i_code):\n",
    "    i_code = i_code\n",
    "    for i in range(len(item_detail)):\n",
    "        tr_i_code = item_detail[i][0]\n",
    "        tr_i_name = item_detail[i][1]\n",
    "        if tr_i_code == i_code:\n",
    "            return tr_i_name\n",
    "        elif tr_i_name == i_code:\n",
    "            return tr_i_code\n",
    "\n",
    "\n",
    "for i in range(len(tr)):\n",
    "    for j in range(1,len(tr[i])):\n",
    "        cu_un_id = tr[i][0][0]\n",
    "        item_un_id = tr[i][0][1]\n",
    "        tr_bill = tr[i][0][1]\n",
    "\n",
    "    if cu_un_id not in tr_cu_un:\n",
    "        tr_cu_un.append(cu_un_id)\n",
    "        \n",
    "\n",
    "    if item_un_id not in tr_item_un:\n",
    "        tr_item_un.append(item_un_id)\n",
    "\n",
    "    tr_un_bill.append(tr_bill)\n",
    "\n",
    "\n",
    "item = ''\n",
    "quantity = 0\n",
    "tr_cu_id = ''\n",
    "bill = ''\n",
    "date = ''\n",
    "tr_cu_name = ''\n",
    "item_code = ''\n",
    "item_rate = 0\n",
    "amount = 0\n",
    "c_sum = 0\n",
    "x = 0\n",
    "\n",
    "\n",
    "print(\"{:<8} {} {:>6}\".format('Cu_Name','Cu_ID','Amount_Sum'))\n",
    "print()\n",
    "for u in range(len(tr_cu_un)):\n",
    "    cust_id = tr_cu_un[u]\n",
    "    a_sum = 0\n",
    "\n",
    "    for i in range(len(tr)):\n",
    "        for j in range(1,len(tr[i])):\n",
    "            item = tr[i][j][0]\n",
    "            quantity = tr[i][j][1]\n",
    "            tr_cu_id = tr[i][0][0]\n",
    "            bill = tr[i][0][1]\n",
    "            date = tr[i][0][2]\n",
    "\n",
    "\n",
    "            for k in range(len(cu)):\n",
    "                if tr_cu_id == cu[k][0]:\n",
    "                    tr_cu_name = cu[k][1]\n",
    "            for l in range(len(item_detail)):\n",
    "                if item == item_detail[l][1]:\n",
    "                    item_code = item_detail[l][0]\n",
    "                    item_rate = item_detail[l][2]\n",
    "            amount = item_rate * quantity\n",
    "            \n",
    "            if tr_cu_id == cust_id:\n",
    "                a_sum = a_sum + amount\n",
    "                t_name = tr_cu_name\n",
    "                t_id = tr_cu_id\n",
    "    \n",
    "    c_sum = c_sum + a_sum\n",
    "    print(\"{:<8} {}   {:>6}\".format(t_name,cust_id,a_sum))\n",
    "print()\n",
    "print(\"Total ::        {:>6}\".format(c_sum))\n",
    "                \n",
    "\n",
    "\n"
   ]
  },
  {
   "cell_type": "code",
   "execution_count": 80,
   "metadata": {},
   "outputs": [
    {
     "output_type": "execute_result",
     "data": {
      "text/plain": [
       "['120001',\n",
       " '120002',\n",
       " '120003',\n",
       " '120004',\n",
       " '120005',\n",
       " '120006',\n",
       " '120007',\n",
       " '120008',\n",
       " '120009',\n",
       " '120010',\n",
       " '120011']"
      ]
     },
     "metadata": {},
     "execution_count": 80
    }
   ],
   "source": [
    "tr_un_bill"
   ]
  },
  {
   "cell_type": "code",
   "execution_count": 434,
   "metadata": {},
   "outputs": [],
   "source": [
    "tr = [(('1210','120001','27/02/2021'),('apple',3),('grapes',4)),\n",
    "      (('1211','120002','27/02/2021'),('pears',6),('mango',8),('orange',6)),\n",
    "      (('1212','120003','27/02/2021'),('pears',2),('apple',3),('orange',4),('cherry',5),('mango',6),('apple',7)),\n",
    "      (('1213','120004','28/02/2021'),('orange',9),('pears',8),('pineapple',5)),\n",
    "      (('1214','120005','28/02/2021'),('grapes',3),('apple',7)),\n",
    "      (('1215','120006','02/03/2021'),('mango',12),('orange',13),('guava',8),('Strawberry',10),('cherry',7)),\n",
    "      (('1211','120007','03/03/2021'),('dates',15),('banana',10),('orange',10)),\n",
    "      (('1214','120008','04/03/2021'),('dates',13),('banana',10),('Blackberry',2)),\n",
    "      (('1215','120009','05/03/2021'),('dates',12),('apple',10),('mango',10),('cherry',8)),\n",
    "      (('1216','120010','05/03/2021'),('apple',6),('dates',8),('jelly',5),('jackfruit',50)),\n",
    "     (('1217','120011','05/03/2021'),('mango',6),('apple',8))]\n",
    "\n",
    "cu = [('1210','Rajesh'),('1211','Rakesh'),('1212','Sahil'),\n",
    "      ('1213','Jack'),('1214','Steve'),('1215','Rohan',),\n",
    "      ('1216','Millan',),('1217','mikul'),('1218','smile')]\n",
    "\n",
    "\n",
    "item_detail = [('1001','apple',60),('1002','orange',40),('1003','pears',30),\n",
    "               ('1004','mango',50),('1005','grapes',45),('1006','guava',40),\n",
    "             ('1007','pineapple',60),('1008','dates',100),('1009','banana',10),\n",
    "               ('1010','Strawberry',150),('1011','Blackberry',110),\n",
    "             ('1012','cherry',90),('1013','jelly',20),('1014','jackfruit',40)]\n",
    "\n",
    "tr_cu_un = []\n",
    "\n",
    "tr_item_un = []\n",
    "\n",
    "tr_un_bill = []\n",
    "\n",
    "\n",
    "\n",
    "def cu_name_id(c_id):\n",
    "    c_id = c_id\n",
    "    for i in range(len(cu)):\n",
    "        cu_id = cu[i][0]\n",
    "        cu_name = cu[i][1]\n",
    "        if cu_id == c_id:\n",
    "            return cu_name\n",
    "        elif cu_name == c_id:\n",
    "            return cu_id \n",
    "\n",
    "def item_name_code(i_code):\n",
    "    i_code = i_code\n",
    "    for i in range(len(item_detail)):\n",
    "        tr_i_code = item_detail[i][0]\n",
    "        tr_i_name = item_detail[i][1]\n",
    "        if tr_i_code == i_code:\n",
    "            return tr_i_name\n",
    "        elif tr_i_name == i_code:\n",
    "            return tr_i_code\n",
    "\n",
    "\n",
    "for i in range(len(tr)):\n",
    "    for j in range(1,len(tr[i])):\n",
    "        cu_un_id = tr[i][0][0]\n",
    "        item_un_id = tr[i][0][1]\n",
    "        tr_bill = tr[i][0][1]\n",
    "\n",
    "    if cu_un_id not in tr_cu_un:\n",
    "        tr_cu_un.append(cu_un_id)\n",
    "        \n",
    "\n",
    "    if item_un_id not in tr_item_un:\n",
    "        tr_item_un.append(item_un_id)\n",
    "\n",
    "    tr_un_bill.append(tr_bill)\n",
    "\n",
    "def cust_wise_detail(cust_id):\n",
    "\n",
    "    cust_id = cust_id\n",
    "    item = ''\n",
    "    quantity = 0\n",
    "    tr_cu_id = ''\n",
    "    bill = ''\n",
    "    date = ''\n",
    "    tr_cu_name = ''\n",
    "    item_code = ''\n",
    "    item_rate = 0\n",
    "    amount = 0\n",
    "    a_sum = 0\n",
    "    c_sum = 0\n",
    "    x = 0\n",
    "\n",
    "    print(\"{:<8}   {:<5}    {:<8}    {:<10} {:<10} {:>6}   {:>4}    {:>3}     {:>6}  {:>6}\".format('Cu_Name','Cu_ID','Date','Bill','Item','Item_code','Item_rate','Quantity','Amount','a_sum'))\n",
    "    print()\n",
    "\n",
    "    for i in range(len(tr)):\n",
    "        for j in range(1,len(tr[i])):\n",
    "            item = tr[i][j][0]\n",
    "            quantity = tr[i][j][1]\n",
    "            tr_cu_id = tr[i][0][0]\n",
    "            bill = tr[i][0][1]\n",
    "            date = tr[i][0][2]\n",
    "\n",
    "\n",
    "            for k in range(len(cu)):\n",
    "                if tr_cu_id == cu[k][0]:\n",
    "                    tr_cu_name = cu[k][1]\n",
    "            for l in range(len(item_detail)):\n",
    "                if item == item_detail[l][1]:\n",
    "                    item_code = item_detail[l][0]\n",
    "                    item_rate = item_detail[l][2]\n",
    "            amount = item_rate * quantity\n",
    "            #a_sum = a_sum + amount\n",
    "            #x = x+1\n",
    "\n",
    "            if tr_cu_id == cust_id:\n",
    "                a_sum = a_sum + amount\n",
    "                t_name = tr_cu_name\n",
    "                t_id = tr_cu_id\n",
    "\n",
    "                print(\"{:<8}   {:<5}   {:<8}  {:<10} {:<10} {:>6}        {:>4}          {:>3}       {:>6}   {:>6}\".format(t_name,t_id,date,bill,item,item_code,item_rate,quantity,amount,a_sum))\n",
    "    print()\n",
    "    print(\"Total ::                                                                                   {:>6}\".format(a_sum))\n",
    "    print()\n",
    "                \n",
    "\n"
   ]
  },
  {
   "cell_type": "code",
   "execution_count": 306,
   "metadata": {},
   "outputs": [
    {
     "output_type": "stream",
     "name": "stdout",
     "text": [
      "Cu_Name    Cu_ID    Date        Bill       Item       Item_code   Item_rate    Quantity     Amount   a_sum\n\nmikul      1217    07/03/2021  120011     mango        1004          50            6          300      300\nmikul      1217    07/03/2021  120011     apple        1001          60            8          480      780\n\nTotal ::                                                                                      780\n\n"
     ]
    }
   ],
   "source": [
    "cust_wise_detail('1217')"
   ]
  },
  {
   "cell_type": "code",
   "execution_count": 312,
   "metadata": {},
   "outputs": [],
   "source": [
    "def cust_wise_detail_all():\n",
    "    for i in range(len(tr_cu_un)):\n",
    "        cust_wise_detail(tr_cu_un[i])"
   ]
  },
  {
   "cell_type": "code",
   "execution_count": null,
   "metadata": {},
   "outputs": [],
   "source": []
  },
  {
   "cell_type": "code",
   "execution_count": 208,
   "metadata": {},
   "outputs": [
    {
     "output_type": "stream",
     "name": "stdout",
     "text": [
      "Bill      Date     Cu_Name   Cu_ID    Item       Item_code Item_rate Quantity  Amount   a_sum\n\n120001  27/02/2021  Rajesh   1210    apple         1001       60      3         180      180\n120001  27/02/2021  Rajesh   1210    grapes        1005       45      4         180      360\n\nTotal ::                                                                        360\n\n120002  27/02/2021  Rakesh   1211    pears         1003       30      6         180      180\n120002  27/02/2021  Rakesh   1211    mango         1004       50      8         400      580\n120002  27/02/2021  Rakesh   1211    orange        1002       40      6         240      820\n\nTotal ::                                                                        820\n\n120003  27/02/2021  Sahil    1212    pears         1003       30      2          60       60\n120003  27/02/2021  Sahil    1212    apple         1001       60      3         180      240\n120003  27/02/2021  Sahil    1212    orange        1002       40      4         160      400\n120003  27/02/2021  Sahil    1212    cherry        1012       90      5         450      850\n120003  27/02/2021  Sahil    1212    mango         1004       50      6         300     1150\n120003  27/02/2021  Sahil    1212    apple         1001       60      7         420     1570\n\nTotal ::                                                                       1570\n\n120004  28/02/2021  Jack     1213    orange        1002       40      9         360      360\n120004  28/02/2021  Jack     1213    pears         1003       30      8         240      600\n120004  28/02/2021  Jack     1213    pineapple     1007       60      5         300      900\n\nTotal ::                                                                        900\n\n120005  28/02/2021  Steve    1214    grapes        1005       45      3         135      135\n120005  28/02/2021  Steve    1214    apple         1001       60      7         420      555\n\nTotal ::                                                                        555\n\n120006  02/03/2021  Rohan    1215    mango         1004       50     12         600      600\n120006  02/03/2021  Rohan    1215    orange        1002       40     13         520     1120\n120006  02/03/2021  Rohan    1215    guava         1006       40      8         320     1440\n120006  02/03/2021  Rohan    1215    Strawberry    1010      150     10        1500     2940\n120006  02/03/2021  Rohan    1215    cherry        1012       90      7         630     3570\n\nTotal ::                                                                       3570\n\n120007  03/03/2021  Rakesh   1211    dates         1008      100     15        1500     1500\n120007  03/03/2021  Rakesh   1211    banana        1009       10     10         100     1600\n120007  03/03/2021  Rakesh   1211    orange        1002       40     10         400     2000\n\nTotal ::                                                                       2000\n\n120008  04/03/2021  Steve    1214    dates         1008      100     13        1300     1300\n120008  04/03/2021  Steve    1214    banana        1009       10     10         100     1400\n120008  04/03/2021  Steve    1214    Blackberry    1011      110      2         220     1620\n\nTotal ::                                                                       1620\n\n120009  05/03/2021  Rohan    1215    dates         1008      100     12        1200     1200\n120009  05/03/2021  Rohan    1215    apple         1001       60     10         600     1800\n120009  05/03/2021  Rohan    1215    mango         1004       50     10         500     2300\n120009  05/03/2021  Rohan    1215    cherry        1012       90      8         720     3020\n\nTotal ::                                                                       3020\n\n120010  05/03/2021  Millan   1216    apple         1001       60      6         360      360\n120010  05/03/2021  Millan   1216    dates         1008      100      8         800     1160\n120010  05/03/2021  Millan   1216    jelly         1013       20      5         100     1260\n120010  05/03/2021  Millan   1216    jackfruit     1014       40     50        2000     3260\n\nTotal ::                                                                       3260\n\n120011  05/03/2021  mikul    1217    mango         1004       50      6         300      300\n120011  05/03/2021  mikul    1217    apple         1001       60      8         480      780\n\nTotal ::                                                                        780\n\n"
     ]
    }
   ],
   "source": [
    "tr = [(('1210','120001','27/02/2021'),('apple',3),('grapes',4)),\n",
    "      (('1211','120002','27/02/2021'),('pears',6),('mango',8),('orange',6)),\n",
    "      (('1212','120003','27/02/2021'),('pears',2),('apple',3),('orange',4),('cherry',5),('mango',6),('apple',7)),\n",
    "      (('1213','120004','28/02/2021'),('orange',9),('pears',8),('pineapple',5)),\n",
    "      (('1214','120005','28/02/2021'),('grapes',3),('apple',7)),\n",
    "      (('1215','120006','02/03/2021'),('mango',12),('orange',13),('guava',8),('Strawberry',10),('cherry',7)),\n",
    "      (('1211','120007','03/03/2021'),('dates',15),('banana',10),('orange',10)),\n",
    "      (('1214','120008','04/03/2021'),('dates',13),('banana',10),('Blackberry',2)),\n",
    "      (('1215','120009','05/03/2021'),('dates',12),('apple',10),('mango',10),('cherry',8)),\n",
    "      (('1216','120010','05/03/2021'),('apple',6),('dates',8),('jelly',5),('jackfruit',50)),\n",
    "     (('1217','120011','05/03/2021'),('mango',6),('apple',8))]\n",
    "\n",
    "cu = [('1210','Rajesh'),('1211','Rakesh'),('1212','Sahil'),\n",
    "      ('1213','Jack'),('1214','Steve'),('1215','Rohan',),\n",
    "      ('1216','Millan',),('1217','mikul'),('1218','smile')]\n",
    "\n",
    "\n",
    "item_detail = [('1001','apple',60),('1002','orange',40),('1003','pears',30),\n",
    "               ('1004','mango',50),('1005','grapes',45),('1006','guava',40),\n",
    "             ('1007','pineapple',60),('1008','dates',100),('1009','banana',10),\n",
    "               ('1010','Strawberry',150),('1011','Blackberry',110),\n",
    "             ('1012','cherry',90),('1013','jelly',20),('1014','jackfruit',40)]\n",
    "\n",
    "tr_cu_un = []\n",
    "\n",
    "tr_item_un = []\n",
    "\n",
    "tr_un_bill = []\n",
    "\n",
    "\n",
    "\n",
    "def cu_name_id(c_id):\n",
    "    c_id = c_id\n",
    "    for i in range(len(cu)):\n",
    "        cu_id = cu[i][0]\n",
    "        cu_name = cu[i][1]\n",
    "        if cu_id == c_id:\n",
    "            return cu_name\n",
    "        elif cu_name == c_id:\n",
    "            return cu_id \n",
    "\n",
    "def item_name_code(i_code):\n",
    "    i_code = i_code\n",
    "    for i in range(len(item_detail)):\n",
    "        tr_i_code = item_detail[i][0]\n",
    "        tr_i_name = item_detail[i][1]\n",
    "        if tr_i_code == i_code:\n",
    "            return tr_i_name\n",
    "        elif tr_i_name == i_code:\n",
    "            return tr_i_code\n",
    "\n",
    "\n",
    "for i in range(len(tr)):\n",
    "    for j in range(1,len(tr[i])):\n",
    "        cu_un_id = tr[i][0][0]\n",
    "        item_un_id = tr[i][0][1]\n",
    "        tr_bill = tr[i][0][1]\n",
    "\n",
    "    if cu_un_id not in tr_cu_un:\n",
    "        tr_cu_un.append(cu_un_id)\n",
    "        \n",
    "\n",
    "    if item_un_id not in tr_item_un:\n",
    "        tr_item_un.append(item_un_id)\n",
    "\n",
    "    tr_un_bill.append(tr_bill)\n",
    "\n",
    "\n",
    "item = ''\n",
    "quantity = 0\n",
    "tr_cu_id = ''\n",
    "bill = ''\n",
    "date = ''\n",
    "tr_cu_name = ''\n",
    "item_code = ''\n",
    "item_rate = 0\n",
    "amount = 0\n",
    "c_sum = 0\n",
    "x = 0\n",
    "\n",
    "\n",
    "print(\"{}      {}     {:<8}  {}    {:<10} {} {:>4} {:>3}  {:>6}  {:>6}\".format('Bill','Date','Cu_Name','Cu_ID','Item','Item_code','Item_rate','Quantity','Amount','a_sum'))\n",
    "print()\n",
    "\n",
    "for u in range(len(tr_un_bill)):\n",
    "    c_bill = tr_un_bill[u]\n",
    "    a_sum = 0\n",
    "\n",
    "    for i in range(len(tr)):\n",
    "        for j in range(1,len(tr[i])):\n",
    "            item = tr[i][j][0]\n",
    "            quantity = tr[i][j][1]\n",
    "            tr_cu_id = tr[i][0][0]\n",
    "            bill = tr[i][0][1]\n",
    "            date = tr[i][0][2]\n",
    "\n",
    "\n",
    "            for k in range(len(cu)):\n",
    "                if tr_cu_id == cu[k][0]:\n",
    "                    tr_cu_name = cu[k][1]\n",
    "            for l in range(len(item_detail)):\n",
    "                if item == item_detail[l][1]:\n",
    "                    item_code = item_detail[l][0]\n",
    "                    item_rate = item_detail[l][2]\n",
    "            amount = item_rate * quantity\n",
    "            \n",
    "            if bill == c_bill:\n",
    "                a_sum = a_sum + amount\n",
    "                t_name = tr_cu_name\n",
    "                t_id = tr_cu_id\n",
    "    \n",
    "   \n",
    "                print(\"{}  {}  {:<8} {}    {:<10}    {}     {:>4}    {:>3}      {:>6}   {:>6}\".format(bill,date,t_name,t_id,item,item_code,item_rate,quantity,amount,a_sum))\n",
    "    print()\n",
    "    print(\"Total ::                                                                     {:>6}\".format(a_sum))\n",
    "    print()\n",
    "                \n",
    "\n"
   ]
  },
  {
   "cell_type": "code",
   "execution_count": 6,
   "metadata": {},
   "outputs": [
    {
     "output_type": "stream",
     "name": "stdout",
     "text": [
      "Cu_Name    Date       Bill        Cu_ID   Amount_Sum    C_Sum\n\nRajesh   27/02/2021  120001       1210       360         360\nRakesh   03/03/2021  120007       1211      2820        3180\nSahil    27/02/2021  120003       1212      1570        4750\nJack     28/02/2021  120004       1213       900        5650\nSteve    04/03/2021  120008       1214      2175        7825\nRohan    05/03/2021  120009       1215      6590       14415\nMillan   05/03/2021  120010       1216      3260       17675\nmikul    05/03/2021  120011       1217       780       18455\n\nTotal ::                                   18455\n"
     ]
    }
   ],
   "source": [
    "cust_wise_summary()"
   ]
  },
  {
   "cell_type": "code",
   "execution_count": 432,
   "metadata": {},
   "outputs": [
    {
     "output_type": "stream",
     "name": "stdout",
     "text": [
      " Bill     Cu_ID  Amount_Sum\n\n120001     1210      360\n120007     1211     2820\n120003     1212     1570\n120004     1213      900\n120008     1214     2175\n120009     1215     6590\n120010     1216     3260\n120011     1217      780\n\nTotal ::           18455\n"
     ]
    }
   ],
   "source": [
    "tr = [(('1210','120001','27/02/2021'),('apple',3),('grapes',4)),\n",
    "      (('1211','120002','27/02/2021'),('pears',6),('mango',8),('orange',6)),\n",
    "      (('1212','120003','27/02/2021'),('pears',2),('apple',3),('orange',4),('cherry',5),('mango',6),('apple',7)),\n",
    "      (('1213','120004','28/02/2021'),('orange',9),('pears',8),('pineapple',5)),\n",
    "      (('1214','120005','28/02/2021'),('grapes',3),('apple',7)),\n",
    "      (('1215','120006','02/03/2021'),('mango',12),('orange',13),('guava',8),('Strawberry',10),('cherry',7)),\n",
    "      (('1211','120007','03/03/2021'),('dates',15),('banana',10),('orange',10)),\n",
    "      (('1214','120008','04/03/2021'),('dates',13),('banana',10),('Blackberry',2)),\n",
    "      (('1215','120009','05/03/2021'),('dates',12),('apple',10),('mango',10),('cherry',8)),\n",
    "      (('1216','120010','05/03/2021'),('apple',6),('dates',8),('jelly',5),('jackfruit',50)),\n",
    "     (('1217','120011','05/03/2021'),('mango',6),('apple',8))]\n",
    "\n",
    "cu = [('1210','Rajesh'),('1211','Rakesh'),('1212','Sahil'),\n",
    "      ('1213','Jack'),('1214','Steve'),('1215','Rohan',),\n",
    "      ('1216','Millan',),('1217','mikul'),('1218','smile')]\n",
    "\n",
    "\n",
    "item_detail = [('1001','apple',60),('1002','orange',40),('1003','pears',30),\n",
    "               ('1004','mango',50),('1005','grapes',45),('1006','guava',40),\n",
    "             ('1007','pineapple',60),('1008','dates',100),('1009','banana',10),\n",
    "               ('1010','Strawberry',150),('1011','Blackberry',110),\n",
    "             ('1012','cherry',90),('1013','jelly',20),('1014','jackfruit',40)]\n",
    "\n",
    "tr_cu_un = []\n",
    "\n",
    "tr_item_un = []\n",
    "\n",
    "tr_un_bill = []\n",
    "\n",
    "\n",
    "\n",
    "def cu_name_id(c_id):\n",
    "    c_id = c_id\n",
    "    for i in range(len(cu)):\n",
    "        cu_id = cu[i][0]\n",
    "        cu_name = cu[i][1]\n",
    "        if cu_id == c_id:\n",
    "            return cu_name\n",
    "        elif cu_name == c_id:\n",
    "            return cu_id \n",
    "\n",
    "def item_name_code(i_code):\n",
    "    i_code = i_code\n",
    "    for i in range(len(item_detail)):\n",
    "        tr_i_code = item_detail[i][0]\n",
    "        tr_i_name = item_detail[i][1]\n",
    "        if tr_i_code == i_code:\n",
    "            return tr_i_name\n",
    "        elif tr_i_name == i_code:\n",
    "            return tr_i_code\n",
    "\n",
    "\n",
    "for i in range(len(tr)):\n",
    "    for j in range(1,len(tr[i])):\n",
    "        cu_un_id = tr[i][0][0]\n",
    "        item_un_id = tr[i][0][1]\n",
    "        tr_bill = tr[i][0][1]\n",
    "\n",
    "    if cu_un_id not in tr_cu_un:\n",
    "        tr_cu_un.append(cu_un_id)\n",
    "        \n",
    "\n",
    "    if item_un_id not in tr_item_un:\n",
    "        tr_item_un.append(item_un_id)\n",
    "\n",
    "    tr_un_bill.append(tr_bill)\n",
    "\n",
    "\n",
    "item = ''\n",
    "quantity = 0\n",
    "tr_cu_id = ''\n",
    "bill = ''\n",
    "date = ''\n",
    "tr_cu_name = ''\n",
    "item_code = ''\n",
    "item_rate = 0\n",
    "amount = 0\n",
    "c_sum = 0\n",
    "x = 0\n",
    "\n",
    "print(\" {:<8} {}  {:>6}\".format('Bill','Cu_ID','Amount_Sum'))\n",
    "print()\n",
    "\n",
    "for u in range(len(tr_cu_un)):\n",
    "    cust_id = tr_cu_un[u]\n",
    "    a_sum = 0\n",
    "\n",
    "    for i in range(len(tr)):\n",
    "        for j in range(1,len(tr[i])):\n",
    "            item = tr[i][j][0]\n",
    "            quantity = tr[i][j][1]\n",
    "            tr_cu_id = tr[i][0][0]\n",
    "            bill = tr[i][0][1]\n",
    "            date = tr[i][0][2]\n",
    "\n",
    "\n",
    "            for k in range(len(cu)):\n",
    "                if tr_cu_id == cu[k][0]:\n",
    "                    tr_cu_name = cu[k][1]\n",
    "            for l in range(len(item_detail)):\n",
    "                if item == item_detail[l][1]:\n",
    "                    item_code = item_detail[l][0]\n",
    "                    item_rate = item_detail[l][2]\n",
    "            amount = item_rate * quantity\n",
    "\n",
    "            if tr_cu_id == cust_id:\n",
    "                a_sum = a_sum + amount\n",
    "                t_name = tr_cu_name\n",
    "                t_id = tr_cu_id\n",
    "                t_bill = bill \n",
    "    c_sum = c_sum + a_sum\n",
    "    print(\"{:<8}   {}   {:>6}\".format(t_bill,cust_id,a_sum))\n",
    "print()\n",
    "print(\"Total ::          {:>6}\".format(c_sum))\n",
    "\n",
    "                \n",
    "\n"
   ]
  },
  {
   "cell_type": "code",
   "execution_count": 446,
   "metadata": {},
   "outputs": [
    {
     "output_type": "stream",
     "name": "stdout",
     "text": [
      " Bill     Cu_ID  Amount_Sum\n\n120001     1210      360\n120002     1211      820\n120003     1212     1570\n120004     1213      900\n120005     1214      555\n120006     1215     3570\n120007     1211     2000\n120008     1214     1620\n120009     1215     3020\n120010     1216     3260\n120011     1217      780\n\nTotal ::           18455\n"
     ]
    }
   ],
   "source": [
    "tr = [(('1210','120001','27/02/2021'),('apple',3),('grapes',4)),\n",
    "      (('1211','120002','27/02/2021'),('pears',6),('mango',8),('orange',6)),\n",
    "      (('1212','120003','27/02/2021'),('pears',2),('apple',3),('orange',4),('cherry',5),('mango',6),('apple',7)),\n",
    "      (('1213','120004','28/02/2021'),('orange',9),('pears',8),('pineapple',5)),\n",
    "      (('1214','120005','28/02/2021'),('grapes',3),('apple',7)),\n",
    "      (('1215','120006','02/03/2021'),('mango',12),('orange',13),('guava',8),('Strawberry',10),('cherry',7)),\n",
    "      (('1211','120007','03/03/2021'),('dates',15),('banana',10),('orange',10)),\n",
    "      (('1214','120008','04/03/2021'),('dates',13),('banana',10),('Blackberry',2)),\n",
    "      (('1215','120009','05/03/2021'),('dates',12),('apple',10),('mango',10),('cherry',8)),\n",
    "      (('1216','120010','05/03/2021'),('apple',6),('dates',8),('jelly',5),('jackfruit',50)),\n",
    "     (('1217','120011','05/03/2021'),('mango',6),('apple',8))]\n",
    "\n",
    "cu = [('1210','Rajesh'),('1211','Rakesh'),('1212','Sahil'),\n",
    "      ('1213','Jack'),('1214','Steve'),('1215','Rohan',),\n",
    "      ('1216','Millan',),('1217','mikul'),('1218','smile')]\n",
    "\n",
    "\n",
    "item_detail = [('1001','apple',60),('1002','orange',40),('1003','pears',30),\n",
    "               ('1004','mango',50),('1005','grapes',45),('1006','guava',40),\n",
    "             ('1007','pineapple',60),('1008','dates',100),('1009','banana',10),\n",
    "               ('1010','Strawberry',150),('1011','Blackberry',110),\n",
    "             ('1012','cherry',90),('1013','jelly',20),('1014','jackfruit',40)]\n",
    "\n",
    "tr_cu_un = []\n",
    "\n",
    "tr_item_un = []\n",
    "\n",
    "tr_un_bill = []\n",
    "\n",
    "\n",
    "\n",
    "def cu_name_id(c_id):\n",
    "    c_id = c_id\n",
    "    for i in range(len(cu)):\n",
    "        cu_id = cu[i][0]\n",
    "        cu_name = cu[i][1]\n",
    "        if cu_id == c_id:\n",
    "            return cu_name\n",
    "        elif cu_name == c_id:\n",
    "            return cu_id \n",
    "\n",
    "def item_name_code(i_code):\n",
    "    i_code = i_code\n",
    "    for i in range(len(item_detail)):\n",
    "        tr_i_code = item_detail[i][0]\n",
    "        tr_i_name = item_detail[i][1]\n",
    "        if tr_i_code == i_code:\n",
    "            return tr_i_name\n",
    "        elif tr_i_name == i_code:\n",
    "            return tr_i_code\n",
    "\n",
    "\n",
    "for i in range(len(tr)):\n",
    "    for j in range(1,len(tr[i])):\n",
    "        cu_un_id = tr[i][0][0]\n",
    "        item_un_id = tr[i][j][0]\n",
    "        tr_bill = tr[i][0][1]\n",
    "\n",
    "    if cu_un_id not in tr_cu_un:\n",
    "        tr_cu_un.append(cu_un_id)\n",
    "        \n",
    "\n",
    "    if item_un_id not in tr_item_un:\n",
    "        tr_item_un.append(item_un_id)\n",
    "\n",
    "    tr_un_bill.append(tr_bill)\n",
    "\n",
    "\n",
    "item = ''\n",
    "quantity = 0\n",
    "tr_cu_id = ''\n",
    "bill = ''\n",
    "date = ''\n",
    "tr_cu_name = ''\n",
    "item_code = ''\n",
    "item_rate = 0\n",
    "amount = 0\n",
    "c_sum = 0\n",
    "x = 0\n",
    "\n",
    "print(\" {:<8} {}  {:>6}\".format('Bill','Cu_ID','Amount_Sum'))\n",
    "print()\n",
    "\n",
    "for u in range(len(tr_un_bill)):\n",
    "    c_bill = tr_un_bill[u]\n",
    "    a_sum = 0\n",
    "\n",
    "    for i in range(len(tr)):\n",
    "        for j in range(1,len(tr[i])):\n",
    "            item = tr[i][j][0]\n",
    "            quantity = tr[i][j][1]\n",
    "            tr_cu_id = tr[i][0][0]\n",
    "            bill = tr[i][0][1]\n",
    "            date = tr[i][0][2]\n",
    "\n",
    "\n",
    "            for k in range(len(cu)):\n",
    "                if tr_cu_id == cu[k][0]:\n",
    "                    tr_cu_name = cu[k][1]\n",
    "            for l in range(len(item_detail)):\n",
    "                if item == item_detail[l][1]:\n",
    "                    item_code = item_detail[l][0]\n",
    "                    item_rate = item_detail[l][2]\n",
    "            amount = item_rate * quantity\n",
    "\n",
    "            if bill == c_bill:\n",
    "                a_sum = a_sum + amount\n",
    "                t_name = tr_cu_name\n",
    "                t_id = tr_cu_id\n",
    "                t_bill = bill \n",
    "    c_sum = c_sum + a_sum\n",
    "    print(\"{:<8}   {}   {:>6}\".format(t_bill,t_id,a_sum))\n",
    "print()\n",
    "print(\"Total ::          {:>6}\".format(c_sum))\n",
    "\n",
    "                \n",
    "\n"
   ]
  },
  {
   "cell_type": "code",
   "execution_count": null,
   "metadata": {},
   "outputs": [],
   "source": []
  },
  {
   "cell_type": "code",
   "execution_count": 409,
   "metadata": {},
   "outputs": [
    {
     "output_type": "execute_result",
     "data": {
      "text/plain": [
       "['grapes', 'orange', 'apple', 'pineapple', 'cherry', 'Blackberry', 'jackfruit']"
      ]
     },
     "metadata": {},
     "execution_count": 409
    }
   ],
   "source": [
    "tr_item_un"
   ]
  },
  {
   "cell_type": "code",
   "execution_count": 8,
   "metadata": {},
   "outputs": [],
   "source": [
    "\n",
    "def cust_wise_summary():\n",
    "\n",
    "    item = ''\n",
    "    quantity = 0\n",
    "    tr_cu_id = ''\n",
    "    bill = ''\n",
    "    date = ''\n",
    "    tr_cu_name = ''\n",
    "    item_code = ''\n",
    "    item_rate = 0\n",
    "    amount = 0\n",
    "    c_sum = 0\n",
    "    x = 0\n",
    "\n",
    "    print(\"{:<8}   {:<8}   {:<10}  {:<6}  {:>6}   {:>6}\".format('Cu_Name','Date','Bill','Cu_ID','Amount_Sum','C_Sum'))\n",
    "    print()\n",
    "\n",
    "    for u in range(len(tr_cu_un)):\n",
    "        cust_id = tr_cu_un[u]\n",
    "        a_sum = 0\n",
    "\n",
    "        for i in range(len(tr)):\n",
    "            for j in range(1,len(tr[i])):\n",
    "                item = tr[i][j][0]\n",
    "                quantity = tr[i][j][1]\n",
    "                tr_cu_id = tr[i][0][0]\n",
    "                bill = tr[i][0][1]\n",
    "                date = tr[i][0][2]\n",
    "\n",
    "\n",
    "                for k in range(len(cu)):\n",
    "                    if tr_cu_id == cu[k][0]:\n",
    "                        tr_cu_name = cu[k][1]\n",
    "                for l in range(len(item_detail)):\n",
    "                    if item == item_detail[l][1]:\n",
    "                        item_code = item_detail[l][0]\n",
    "                        item_rate = item_detail[l][2]\n",
    "                amount = item_rate * quantity\n",
    "\n",
    "                if tr_cu_id == cust_id:\n",
    "                    a_sum = a_sum + amount\n",
    "                    t_name = tr_cu_name\n",
    "                    t_id = tr_cu_id\n",
    "                    t_bill = bill \n",
    "                    t_date = date\n",
    "                    t_name = tr_cu_name\n",
    "        c_sum = c_sum + a_sum\n",
    "        print(\"{:<8} {:<8}  {:<10}   {:<6}  {:>6}      {:>6}\".format(t_name,t_date,t_bill,t_id,a_sum,c_sum))\n",
    "    print()\n",
    "    print(\"Total ::                                  {:>6}\".format(c_sum))\n"
   ]
  },
  {
   "cell_type": "code",
   "execution_count": 9,
   "metadata": {},
   "outputs": [
    {
     "output_type": "stream",
     "name": "stdout",
     "text": [
      "Cu_Name    Date       Bill        Cu_ID   Amount_Sum    C_Sum\n\nRajesh   27/02/2021  120001       1210       360         360\nRakesh   03/03/2021  120007       1211      2820        3180\nSahil    27/02/2021  120003       1212      1570        4750\nJack     28/02/2021  120004       1213       900        5650\nSteve    04/03/2021  120008       1214      2175        7825\nRohan    05/03/2021  120009       1215      6590       14415\nMillan   05/03/2021  120010       1216      3260       17675\nmikul    05/03/2021  120011       1217       780       18455\n\nTotal ::                                   18455\n"
     ]
    }
   ],
   "source": [
    "cust_wise_summary()"
   ]
  },
  {
   "cell_type": "code",
   "execution_count": 228,
   "metadata": {},
   "outputs": [
    {
     "output_type": "stream",
     "name": "stdout",
     "text": [
      "Bill      Date     Cu_Name   Cu_ID    Item       Item_code Item_rate Quantity  Amount   a_sum\n\n120001  27/02/2021  Rajesh   1210    apple         1001       60      3         180      180\n120001  27/02/2021  Rajesh   1210    grapes        1005       45      4         180      360\n\nTotal ::                                                                        360\n\n120001  27/02/2021  Rajesh   1210    apple         1001       60      3         180      180\n120001  27/02/2021  Rajesh   1210    grapes        1005       45      4         180      360\n\nTotal ::                                                                        360\n\n120002  27/02/2021  Rakesh   1211    pears         1003       30      6         180      180\n120002  27/02/2021  Rakesh   1211    mango         1004       50      8         400      580\n120002  27/02/2021  Rakesh   1211    orange        1002       40      6         240      820\n\nTotal ::                                                                        820\n\n120002  27/02/2021  Rakesh   1211    pears         1003       30      6         180      180\n120002  27/02/2021  Rakesh   1211    mango         1004       50      8         400      580\n120002  27/02/2021  Rakesh   1211    orange        1002       40      6         240      820\n\nTotal ::                                                                        820\n\n120002  27/02/2021  Rakesh   1211    pears         1003       30      6         180      180\n120002  27/02/2021  Rakesh   1211    mango         1004       50      8         400      580\n120002  27/02/2021  Rakesh   1211    orange        1002       40      6         240      820\n\nTotal ::                                                                        820\n\n120003  27/02/2021  Sahil    1212    pears         1003       30      2          60       60\n120003  27/02/2021  Sahil    1212    apple         1001       60      3         180      240\n120003  27/02/2021  Sahil    1212    orange        1002       40      4         160      400\n120003  27/02/2021  Sahil    1212    cherry        1012       90      5         450      850\n120003  27/02/2021  Sahil    1212    mango         1004       50      6         300     1150\n120003  27/02/2021  Sahil    1212    apple         1001       60      7         420     1570\n\nTotal ::                                                                       1570\n\n120003  27/02/2021  Sahil    1212    pears         1003       30      2          60       60\n120003  27/02/2021  Sahil    1212    apple         1001       60      3         180      240\n120003  27/02/2021  Sahil    1212    orange        1002       40      4         160      400\n120003  27/02/2021  Sahil    1212    cherry        1012       90      5         450      850\n120003  27/02/2021  Sahil    1212    mango         1004       50      6         300     1150\n120003  27/02/2021  Sahil    1212    apple         1001       60      7         420     1570\n\nTotal ::                                                                       1570\n\n120003  27/02/2021  Sahil    1212    pears         1003       30      2          60       60\n120003  27/02/2021  Sahil    1212    apple         1001       60      3         180      240\n120003  27/02/2021  Sahil    1212    orange        1002       40      4         160      400\n120003  27/02/2021  Sahil    1212    cherry        1012       90      5         450      850\n120003  27/02/2021  Sahil    1212    mango         1004       50      6         300     1150\n120003  27/02/2021  Sahil    1212    apple         1001       60      7         420     1570\n\nTotal ::                                                                       1570\n\n120003  27/02/2021  Sahil    1212    pears         1003       30      2          60       60\n120003  27/02/2021  Sahil    1212    apple         1001       60      3         180      240\n120003  27/02/2021  Sahil    1212    orange        1002       40      4         160      400\n120003  27/02/2021  Sahil    1212    cherry        1012       90      5         450      850\n120003  27/02/2021  Sahil    1212    mango         1004       50      6         300     1150\n120003  27/02/2021  Sahil    1212    apple         1001       60      7         420     1570\n\nTotal ::                                                                       1570\n\n120003  27/02/2021  Sahil    1212    pears         1003       30      2          60       60\n120003  27/02/2021  Sahil    1212    apple         1001       60      3         180      240\n120003  27/02/2021  Sahil    1212    orange        1002       40      4         160      400\n120003  27/02/2021  Sahil    1212    cherry        1012       90      5         450      850\n120003  27/02/2021  Sahil    1212    mango         1004       50      6         300     1150\n120003  27/02/2021  Sahil    1212    apple         1001       60      7         420     1570\n\nTotal ::                                                                       1570\n\n120003  27/02/2021  Sahil    1212    pears         1003       30      2          60       60\n120003  27/02/2021  Sahil    1212    apple         1001       60      3         180      240\n120003  27/02/2021  Sahil    1212    orange        1002       40      4         160      400\n120003  27/02/2021  Sahil    1212    cherry        1012       90      5         450      850\n120003  27/02/2021  Sahil    1212    mango         1004       50      6         300     1150\n120003  27/02/2021  Sahil    1212    apple         1001       60      7         420     1570\n\nTotal ::                                                                       1570\n\n120004  28/02/2021  Jack     1213    orange        1002       40      9         360      360\n120004  28/02/2021  Jack     1213    pears         1003       30      8         240      600\n120004  28/02/2021  Jack     1213    pineapple     1007       60      5         300      900\n\nTotal ::                                                                        900\n\n120004  28/02/2021  Jack     1213    orange        1002       40      9         360      360\n120004  28/02/2021  Jack     1213    pears         1003       30      8         240      600\n120004  28/02/2021  Jack     1213    pineapple     1007       60      5         300      900\n\nTotal ::                                                                        900\n\n120004  28/02/2021  Jack     1213    orange        1002       40      9         360      360\n120004  28/02/2021  Jack     1213    pears         1003       30      8         240      600\n120004  28/02/2021  Jack     1213    pineapple     1007       60      5         300      900\n\nTotal ::                                                                        900\n\n120005  28/02/2021  Steve    1214    grapes        1005       45      3         135      135\n120005  28/02/2021  Steve    1214    apple         1001       60      7         420      555\n\nTotal ::                                                                        555\n\n120005  28/02/2021  Steve    1214    grapes        1005       45      3         135      135\n120005  28/02/2021  Steve    1214    apple         1001       60      7         420      555\n\nTotal ::                                                                        555\n\n120006  02/03/2021  Rohan    1215    mango         1004       50     12         600      600\n120006  02/03/2021  Rohan    1215    orange        1002       40     13         520     1120\n120006  02/03/2021  Rohan    1215    guava         1006       40      8         320     1440\n120006  02/03/2021  Rohan    1215    Strawberry    1010      150     10        1500     2940\n120006  02/03/2021  Rohan    1215    cherry        1012       90      7         630     3570\n\nTotal ::                                                                       3570\n\n120006  02/03/2021  Rohan    1215    mango         1004       50     12         600      600\n120006  02/03/2021  Rohan    1215    orange        1002       40     13         520     1120\n120006  02/03/2021  Rohan    1215    guava         1006       40      8         320     1440\n120006  02/03/2021  Rohan    1215    Strawberry    1010      150     10        1500     2940\n120006  02/03/2021  Rohan    1215    cherry        1012       90      7         630     3570\n\nTotal ::                                                                       3570\n\n120006  02/03/2021  Rohan    1215    mango         1004       50     12         600      600\n120006  02/03/2021  Rohan    1215    orange        1002       40     13         520     1120\n120006  02/03/2021  Rohan    1215    guava         1006       40      8         320     1440\n120006  02/03/2021  Rohan    1215    Strawberry    1010      150     10        1500     2940\n120006  02/03/2021  Rohan    1215    cherry        1012       90      7         630     3570\n\nTotal ::                                                                       3570\n\n120006  02/03/2021  Rohan    1215    mango         1004       50     12         600      600\n120006  02/03/2021  Rohan    1215    orange        1002       40     13         520     1120\n120006  02/03/2021  Rohan    1215    guava         1006       40      8         320     1440\n120006  02/03/2021  Rohan    1215    Strawberry    1010      150     10        1500     2940\n120006  02/03/2021  Rohan    1215    cherry        1012       90      7         630     3570\n\nTotal ::                                                                       3570\n\n120006  02/03/2021  Rohan    1215    mango         1004       50     12         600      600\n120006  02/03/2021  Rohan    1215    orange        1002       40     13         520     1120\n120006  02/03/2021  Rohan    1215    guava         1006       40      8         320     1440\n120006  02/03/2021  Rohan    1215    Strawberry    1010      150     10        1500     2940\n120006  02/03/2021  Rohan    1215    cherry        1012       90      7         630     3570\n\nTotal ::                                                                       3570\n\n120007  03/03/2021  Rakesh   1211    dates         1008      100     15        1500     1500\n120007  03/03/2021  Rakesh   1211    banana        1009       10     10         100     1600\n120007  03/03/2021  Rakesh   1211    orange        1002       40     10         400     2000\n\nTotal ::                                                                       2000\n\n120007  03/03/2021  Rakesh   1211    dates         1008      100     15        1500     1500\n120007  03/03/2021  Rakesh   1211    banana        1009       10     10         100     1600\n120007  03/03/2021  Rakesh   1211    orange        1002       40     10         400     2000\n\nTotal ::                                                                       2000\n\n120007  03/03/2021  Rakesh   1211    dates         1008      100     15        1500     1500\n120007  03/03/2021  Rakesh   1211    banana        1009       10     10         100     1600\n120007  03/03/2021  Rakesh   1211    orange        1002       40     10         400     2000\n\nTotal ::                                                                       2000\n\n120008  04/03/2021  Steve    1214    dates         1008      100     13        1300     1300\n120008  04/03/2021  Steve    1214    banana        1009       10     10         100     1400\n120008  04/03/2021  Steve    1214    Blackberry    1011      110      2         220     1620\n\nTotal ::                                                                       1620\n\n120008  04/03/2021  Steve    1214    dates         1008      100     13        1300     1300\n120008  04/03/2021  Steve    1214    banana        1009       10     10         100     1400\n120008  04/03/2021  Steve    1214    Blackberry    1011      110      2         220     1620\n\nTotal ::                                                                       1620\n\n120008  04/03/2021  Steve    1214    dates         1008      100     13        1300     1300\n120008  04/03/2021  Steve    1214    banana        1009       10     10         100     1400\n120008  04/03/2021  Steve    1214    Blackberry    1011      110      2         220     1620\n\nTotal ::                                                                       1620\n\n120009  05/03/2021  Rohan    1215    dates         1008      100     12        1200     1200\n120009  05/03/2021  Rohan    1215    apple         1001       60     10         600     1800\n120009  05/03/2021  Rohan    1215    mango         1004       50     10         500     2300\n120009  05/03/2021  Rohan    1215    cherry        1012       90      8         720     3020\n\nTotal ::                                                                       3020\n\n120009  05/03/2021  Rohan    1215    dates         1008      100     12        1200     1200\n120009  05/03/2021  Rohan    1215    apple         1001       60     10         600     1800\n120009  05/03/2021  Rohan    1215    mango         1004       50     10         500     2300\n120009  05/03/2021  Rohan    1215    cherry        1012       90      8         720     3020\n\nTotal ::                                                                       3020\n\n120009  05/03/2021  Rohan    1215    dates         1008      100     12        1200     1200\n120009  05/03/2021  Rohan    1215    apple         1001       60     10         600     1800\n120009  05/03/2021  Rohan    1215    mango         1004       50     10         500     2300\n120009  05/03/2021  Rohan    1215    cherry        1012       90      8         720     3020\n\nTotal ::                                                                       3020\n\n120009  05/03/2021  Rohan    1215    dates         1008      100     12        1200     1200\n120009  05/03/2021  Rohan    1215    apple         1001       60     10         600     1800\n120009  05/03/2021  Rohan    1215    mango         1004       50     10         500     2300\n120009  05/03/2021  Rohan    1215    cherry        1012       90      8         720     3020\n\nTotal ::                                                                       3020\n\n120010  05/03/2021  Millan   1216    apple         1001       60      6         360      360\n120010  05/03/2021  Millan   1216    dates         1008      100      8         800     1160\n120010  05/03/2021  Millan   1216    jelly         1013       20      5         100     1260\n120010  05/03/2021  Millan   1216    jackfruit     1014       40     50        2000     3260\n\nTotal ::                                                                       3260\n\n120010  05/03/2021  Millan   1216    apple         1001       60      6         360      360\n120010  05/03/2021  Millan   1216    dates         1008      100      8         800     1160\n120010  05/03/2021  Millan   1216    jelly         1013       20      5         100     1260\n120010  05/03/2021  Millan   1216    jackfruit     1014       40     50        2000     3260\n\nTotal ::                                                                       3260\n\n120010  05/03/2021  Millan   1216    apple         1001       60      6         360      360\n120010  05/03/2021  Millan   1216    dates         1008      100      8         800     1160\n120010  05/03/2021  Millan   1216    jelly         1013       20      5         100     1260\n120010  05/03/2021  Millan   1216    jackfruit     1014       40     50        2000     3260\n\nTotal ::                                                                       3260\n\n120010  05/03/2021  Millan   1216    apple         1001       60      6         360      360\n120010  05/03/2021  Millan   1216    dates         1008      100      8         800     1160\n120010  05/03/2021  Millan   1216    jelly         1013       20      5         100     1260\n120010  05/03/2021  Millan   1216    jackfruit     1014       40     50        2000     3260\n\nTotal ::                                                                       3260\n\n120011  05/03/2021  mikul    1217    mango         1004       50      6         300      300\n120011  05/03/2021  mikul    1217    apple         1001       60      8         480      780\n\nTotal ::                                                                        780\n\n120011  05/03/2021  mikul    1217    mango         1004       50      6         300      300\n120011  05/03/2021  mikul    1217    apple         1001       60      8         480      780\n\nTotal ::                                                                        780\n\n"
     ]
    }
   ],
   "source": [
    "tr = [(('1210','120001','27/02/2021'),('apple',3),('grapes',4)),\n",
    "      (('1211','120002','27/02/2021'),('pears',6),('mango',8),('orange',6)),\n",
    "      (('1212','120003','27/02/2021'),('pears',2),('apple',3),('orange',4),('cherry',5),('mango',6),('apple',7)),\n",
    "      (('1213','120004','28/02/2021'),('orange',9),('pears',8),('pineapple',5)),\n",
    "      (('1214','120005','28/02/2021'),('grapes',3),('apple',7)),\n",
    "      (('1215','120006','02/03/2021'),('mango',12),('orange',13),('guava',8),('Strawberry',10),('cherry',7)),\n",
    "      (('1211','120007','03/03/2021'),('dates',15),('banana',10),('orange',10)),\n",
    "      (('1214','120008','04/03/2021'),('dates',13),('banana',10),('Blackberry',2)),\n",
    "      (('1215','120009','05/03/2021'),('dates',12),('apple',10),('mango',10),('cherry',8)),\n",
    "      (('1216','120010','05/03/2021'),('apple',6),('dates',8),('jelly',5),('jackfruit',50)),\n",
    "     (('1217','120011','05/03/2021'),('mango',6),('apple',8))]\n",
    "\n",
    "cu = [('1210','Rajesh'),('1211','Rakesh'),('1212','Sahil'),\n",
    "      ('1213','Jack'),('1214','Steve'),('1215','Rohan',),\n",
    "      ('1216','Millan',),('1217','mikul'),('1218','smile')]\n",
    "\n",
    "\n",
    "item_detail = [('1001','apple',60),('1002','orange',40),('1003','pears',30),\n",
    "               ('1004','mango',50),('1005','grapes',45),('1006','guava',40),\n",
    "             ('1007','pineapple',60),('1008','dates',100),('1009','banana',10),\n",
    "               ('1010','Strawberry',150),('1011','Blackberry',110),\n",
    "             ('1012','cherry',90),('1013','jelly',20),('1014','jackfruit',40)]\n",
    "\n",
    "tr_cu_un = []\n",
    "\n",
    "tr_item_un = []\n",
    "\n",
    "tr_un_bill = []\n",
    "\n",
    "\n",
    "\n",
    "def cu_name_id(c_id):\n",
    "    c_id = c_id\n",
    "    for i in range(len(cu)):\n",
    "        cu_id = cu[i][0]\n",
    "        cu_name = cu[i][1]\n",
    "        if cu_id == c_id:\n",
    "            return cu_name\n",
    "        elif cu_name == c_id:\n",
    "            return cu_id \n",
    "\n",
    "def item_name_code(i_code):\n",
    "    i_code = i_code\n",
    "    for i in range(len(item_detail)):\n",
    "        tr_i_code = item_detail[i][0]\n",
    "        tr_i_name = item_detail[i][1]\n",
    "        if tr_i_code == i_code:\n",
    "            return tr_i_name\n",
    "        elif tr_i_name == i_code:\n",
    "            return tr_i_code\n",
    "\n",
    "\n",
    "for i in range(len(tr)):\n",
    "    for j in range(1,len(tr[i])):\n",
    "        cu_un_id = tr[i][0][0]\n",
    "        tr_item_name = tr[i][j][0]\n",
    "        tr_bill = tr[i][0][1]\n",
    "\n",
    "        if cu_un_id not in tr_cu_un:\n",
    "            tr_cu_un.append(cu_un_id)\n",
    "        \n",
    "\n",
    "        if tr_item_name not in tr_item_un:\n",
    "            tr_item_un.append(tr_item_name)\n",
    "\n",
    "        tr_un_bill.append(tr_bill)\n",
    "\n",
    "\n",
    "item = ''\n",
    "quantity = 0\n",
    "tr_cu_id = ''\n",
    "bill = ''\n",
    "date = ''\n",
    "tr_cu_name = ''\n",
    "item_code = ''\n",
    "item_rate = 0\n",
    "amount = 0\n",
    "c_sum = 0\n",
    "x = 0\n",
    "\n",
    "\n",
    "print(\"{}      {}     {:<8}  {}    {:<10} {} {:>4} {:>3}  {:>6}  {:>6}\".format('Bill','Date','Cu_Name','Cu_ID','Item','Item_code','Item_rate','Quantity','Amount','a_sum'))\n",
    "print()\n",
    "\n",
    "for u in range(len(tr_un_bill)):\n",
    "    c_bill = tr_un_bill[u]\n",
    "    a_sum = 0\n",
    "\n",
    "    for i in range(len(tr)):\n",
    "        for j in range(1,len(tr[i])):\n",
    "            item = tr[i][j][0]\n",
    "            quantity = tr[i][j][1]\n",
    "            tr_cu_id = tr[i][0][0]\n",
    "            bill = tr[i][0][1]\n",
    "            date = tr[i][0][2]\n",
    "\n",
    "\n",
    "            for k in range(len(cu)):\n",
    "                if tr_cu_id == cu[k][0]:\n",
    "                    tr_cu_name = cu[k][1]\n",
    "            for l in range(len(item_detail)):\n",
    "                if item == item_detail[l][1]:\n",
    "                    item_code = item_detail[l][0]\n",
    "                    item_rate = item_detail[l][2]\n",
    "            amount = item_rate * quantity\n",
    "            \n",
    "            if bill == c_bill:\n",
    "                a_sum = a_sum + amount\n",
    "                t_name = tr_cu_name\n",
    "                t_id = tr_cu_id\n",
    "    \n",
    "   \n",
    "                print(\"{}  {}  {:<8} {}    {:<10}    {}     {:>4}    {:>3}      {:>6}   {:>6}\".format(bill,date,t_name,t_id,item,item_code,item_rate,quantity,amount,a_sum))\n",
    "    print()\n",
    "    print(\"Total ::                                                                     {:>6}\".format(a_sum))\n",
    "    print()\n",
    "                \n",
    "\n"
   ]
  },
  {
   "cell_type": "code",
   "execution_count": 229,
   "metadata": {},
   "outputs": [
    {
     "output_type": "execute_result",
     "data": {
      "text/plain": [
       "['apple',\n",
       " 'grapes',\n",
       " 'pears',\n",
       " 'mango',\n",
       " 'orange',\n",
       " 'cherry',\n",
       " 'pineapple',\n",
       " 'guava',\n",
       " 'Strawberry',\n",
       " 'dates',\n",
       " 'banana',\n",
       " 'Blackberry',\n",
       " 'jelly',\n",
       " 'jackfruit']"
      ]
     },
     "metadata": {},
     "execution_count": 229
    }
   ],
   "source": [
    "tr_item_un"
   ]
  },
  {
   "cell_type": "code",
   "execution_count": 230,
   "metadata": {},
   "outputs": [
    {
     "output_type": "execute_result",
     "data": {
      "text/plain": [
       "['1210', '1211', '1212', '1213', '1214', '1215', '1216', '1217']"
      ]
     },
     "metadata": {},
     "execution_count": 230
    }
   ],
   "source": [
    "tr_cu_un"
   ]
  },
  {
   "cell_type": "code",
   "execution_count": 14,
   "metadata": {},
   "outputs": [
    {
     "output_type": "stream",
     "name": "stdout",
     "text": [
      "Cu_Name    Date       Bill        Cu_ID   Amount_Sum    C_Sum\n\nSteve    04/03/2021  120008       1214      6135        6135\n\nTotal ::                                    6135\n"
     ]
    }
   ],
   "source": [
    "\n",
    "\n",
    "cust_id = '1214'\n",
    "item = ''\n",
    "quantity = 0\n",
    "tr_cu_id = ''\n",
    "bill = ''\n",
    "date = ''\n",
    "tr_cu_name = ''\n",
    "item_code = ''\n",
    "item_rate = 0\n",
    "amount = 0\n",
    "c_sum = 0\n",
    "x = 0\n",
    "\n",
    "print(\"{:<8}   {:<8}   {:<10}  {:<6}  {:>6}   {:>6}\".format('Cu_Name','Date','Bill','Cu_ID','Amount_Sum','C_Sum'))\n",
    "print()\n",
    "\n",
    "# for u in range(len(tr_cu_un)):\n",
    "#     cust_id = tr_cu_un[u]\n",
    "#     a_sum = 0\n",
    "\n",
    "for i in range(len(tr)):\n",
    "    for j in range(1,len(tr[i])):\n",
    "        item = tr[i][j][0]\n",
    "        quantity = tr[i][j][1]\n",
    "        tr_cu_id = tr[i][0][0]\n",
    "        bill = tr[i][0][1]\n",
    "        date = tr[i][0][2]\n",
    "\n",
    "\n",
    "        for k in range(len(cu)):\n",
    "            if tr_cu_id == cu[k][0]:\n",
    "                tr_cu_name = cu[k][1]\n",
    "        for l in range(len(item_detail)):\n",
    "            if item == item_detail[l][1]:\n",
    "                item_code = item_detail[l][0]\n",
    "                item_rate = item_detail[l][2]\n",
    "        amount = item_rate * quantity\n",
    "\n",
    "        if tr_cu_id == cust_id:\n",
    "            a_sum = a_sum + amount\n",
    "            t_name = tr_cu_name\n",
    "            t_id = tr_cu_id\n",
    "            t_bill = bill \n",
    "            t_date = date\n",
    "            t_name = tr_cu_name\n",
    "c_sum = c_sum + a_sum\n",
    "print(\"{:<8} {:<8}  {:<10}   {:<6}  {:>6}      {:>6}\".format(t_name,t_date,t_bill,t_id,a_sum,c_sum))\n",
    "print()\n",
    "print(\"Total ::                                  {:>6}\".format(c_sum))\n"
   ]
  },
  {
   "cell_type": "code",
   "execution_count": 337,
   "metadata": {},
   "outputs": [
    {
     "output_type": "stream",
     "name": "stdout",
     "text": [
      "Item_Name    Item_Code  Cu_Name    Cu_date    Bill    Cu_ID  a_sum    c_sum\n\ngrapes       1005       Steve    01/03/2021  120005   1214     315      315\ngrapes       1005       Steve    01/03/2021  120005   1214     315      630\ngrapes       1005       Steve    01/03/2021  120005   1214     315      945\ngrapes       1005       Steve    01/03/2021  120005   1214     315     1260\ngrapes       1005       Steve    01/03/2021  120005   1214     315     1575\ngrapes       1005       Steve    01/03/2021  120005   1214     315     1890\ngrapes       1005       Steve    01/03/2021  120005   1214     315     2205\ngrapes       1005       Steve    01/03/2021  120005   1214     315     2520\n\nTotal ::                                                      2520\n"
     ]
    }
   ],
   "source": [
    "\n",
    "\n",
    "i_code = '1005'\n",
    "item = ''\n",
    "quantity = 0\n",
    "tr_cu_id = ''\n",
    "bill = ''\n",
    "date = ''\n",
    "tr_cu_name = ''\n",
    "item_code = ''\n",
    "item_rate = 0\n",
    "amount = 0\n",
    "c_sum = 0\n",
    "x = 0\n",
    "\n",
    "print(\"{:<10}   {:<6}  {:<8}   {:<8}   {:<7} {:<5} {:>6}   {:>6}\".format('Item_Name','Item_Code','Cu_Name','Cu_date','Bill','Cu_ID','a_sum','c_sum'))\n",
    "print()\n",
    "\n",
    "for u in range(len(tr_cu_un)):\n",
    "    cust_id = tr_cu_un[u]\n",
    "    a_sum = 0\n",
    "\n",
    "    for i in range(len(tr)):\n",
    "        for j in range(1,len(tr[i])):\n",
    "            item = tr[i][j][0]\n",
    "            quantity = tr[i][j][1]\n",
    "            tr_cu_id = tr[i][0][0]\n",
    "            bill = tr[i][0][1]\n",
    "            date = tr[i][0][2]\n",
    "\n",
    "\n",
    "            for k in range(len(cu)):\n",
    "                if tr_cu_id == cu[k][0]:\n",
    "                    tr_cu_name = cu[k][1]\n",
    "            for l in range(len(item_detail)):\n",
    "                if item == item_detail[l][1]:\n",
    "                    item_code = item_detail[l][0]\n",
    "                    item_rate = item_detail[l][2]\n",
    "            amount = item_rate * quantity\n",
    "\n",
    "            if item_code == i_code:\n",
    "                a_sum = a_sum + amount\n",
    "                t_cu_name = tr_cu_name\n",
    "                t_cu_id = tr_cu_id\n",
    "                t_bill = bill \n",
    "                t_date = date\n",
    "                t_name = tr_cu_name\n",
    "                t_item_code = i_code\n",
    "                t_item_name = item\n",
    "    c_sum = c_sum + a_sum\n",
    "    print(\"{:<10}   {:<6}     {:<8} {:<8}  {:<7}  {:<5} {:>6}   {:>6}\".format(t_item_name,t_item_code,t_cu_name,t_date,t_bill,t_cu_id,a_sum,c_sum))\n",
    "print()\n",
    "print(\"Total ::                                                    {:>6}\".format(c_sum))\n"
   ]
  },
  {
   "cell_type": "code",
   "execution_count": 275,
   "metadata": {},
   "outputs": [],
   "source": [
    "\n",
    "\n",
    " def item_wise_detail(i_name):\n",
    "\n",
    "    i_name = i_name\n",
    "    item = ''\n",
    "    quantity = 0\n",
    "    tr_cu_id = ''\n",
    "    bill = ''\n",
    "    date = ''\n",
    "    tr_cu_name = ''\n",
    "    item_code = ''\n",
    "    item_rate = 0\n",
    "    amount = 0\n",
    "    c_sum = 0\n",
    "    a_sum = 0\n",
    "    x = 0\n",
    "\n",
    "    print(\"{:<10}   {:<6}     {:<8} {:<8}   {:<7}   {:<5}     {:<6}   {:<4}\".format('Item_Name','Item_Code','Cu_ID','Cu_Name','Bill','Date','Amount','a_sum'))\n",
    "    print()\n",
    "\n",
    "    \n",
    "    for i in range(len(tr)):\n",
    "        for j in range(1,len(tr[i])):\n",
    "            item = tr[i][j][0]\n",
    "            quantity = tr[i][j][1]\n",
    "            tr_cu_id = tr[i][0][0]\n",
    "            bill = tr[i][0][1]\n",
    "            date = tr[i][0][2]\n",
    "\n",
    "\n",
    "            for k in range(len(cu)):\n",
    "                if tr_cu_id == cu[k][0]:\n",
    "                    tr_cu_name = cu[k][1]\n",
    "            for l in range(len(item_detail)):\n",
    "                if item == item_detail[l][1]:\n",
    "                    item_code = item_detail[l][0]\n",
    "                    item_rate = item_detail[l][2]\n",
    "            amount = item_rate * quantity\n",
    "            \n",
    "\n",
    "            if item == i_name:\n",
    "                a_sum = a_sum + amount\n",
    "                t_cu_name = tr_cu_name\n",
    "                t_cu_id = tr_cu_id\n",
    "                t_bill = bill \n",
    "                t_date = date\n",
    "                t_name = tr_cu_name\n",
    "                t_item_code = item_code\n",
    "                t_item_name = item\n",
    "                print(\"{:<10}     {:<6}      {:<8} {:<8}  {:<7}  {:<10}  {:>5}  {:>6}\".format(t_item_name,t_item_code,tr_cu_id,tr_cu_name,t_bill,t_date,amount,a_sum))\n",
    "    print()\n",
    "    print(\"Total ::                                                          {:>6}\".format(a_sum))\n"
   ]
  },
  {
   "cell_type": "code",
   "execution_count": 276,
   "metadata": {},
   "outputs": [
    {
     "output_type": "stream",
     "name": "stdout",
     "text": [
      "Item_Name    Item_Code     Cu_ID    Cu_Name    Bill      Date      Amount   a_sum\n\napple          1001        1210     Rajesh    120001   27/02/2021    180     180\napple          1001        1212     Sahil     120003   27/02/2021    180     360\napple          1001        1212     Sahil     120003   27/02/2021    420     780\napple          1001        1214     Steve     120005   28/02/2021    420    1200\napple          1001        1215     Rohan     120009   05/03/2021    600    1800\napple          1001        1216     Millan    120010   05/03/2021    360    2160\napple          1001        1217     mikul     120011   05/03/2021    480    2640\n\nTotal ::                                                            2640\n"
     ]
    }
   ],
   "source": [
    " item_wise_detail('apple')"
   ]
  },
  {
   "cell_type": "code",
   "execution_count": 281,
   "metadata": {},
   "outputs": [
    {
     "output_type": "stream",
     "name": "stdout",
     "text": [
      "Item_Name      Item_Code    Item_Rate     Quantity     a_sum   c_sum\n\napple          1001           60             8         2640     2640\ngrapes         1005           45             3          315     2955\npears          1003           30             8          480     3435\nmango          1004           50             6         2100     5535\norange         1002           40            10         1680     7215\ncherry         1012           90             8         1800     9015\npineapple      1007           60             5          300     9315\nguava          1006           40             8          320     9635\nStrawberry     1010          150            10         1500    11135\ndates          1008          100             8         4800    15935\nbanana         1009           10            10          200    16135\nBlackberry     1011          110             2          220    16355\njelly          1013           20             5          100    16455\njackfruit      1014           40            50         2000    18455\n\nTotal ::                                              18455\n\n"
     ]
    }
   ],
   "source": [
    "item_wise_summary()"
   ]
  },
  {
   "cell_type": "code",
   "execution_count": 325,
   "metadata": {},
   "outputs": [],
   "source": [
    "def item_wise_detail_all():\n",
    "    for i in range(len(tr_item_un)):\n",
    "        item_wise_detail(tr_item_un[i])\n",
    "        print()\n",
    "        print()"
   ]
  },
  {
   "cell_type": "code",
   "execution_count": 326,
   "metadata": {},
   "outputs": [
    {
     "output_type": "stream",
     "name": "stdout",
     "text": [
      "  x     date       bill      item     item_code   cu_id   cu_name   item_rate  qty  amount  a_sum\n\n  1  27/02/2021   120001    apple      1001       1210    Rajesh       60      3    180      180\n  2  27/02/2021   120003    apple      1001       1212    Sahil        60      3    180      360\n  3  27/02/2021   120003    apple      1001       1212    Sahil        60      7    420      780\n  4  28/02/2021   120005    apple      1001       1214    Steve        60      7    420     1200\n  5  05/03/2021   120009    apple      1001       1215    Rohan        60     10    600     1800\n  6  05/03/2021   120010    apple      1001       1216    Millan       60      6    360     2160\n  7  05/03/2021   120011    apple      1001       1217    mikul        60      8    480     2640\n\nTotal ::                                                                           2640\n\n\n  x     date       bill      item     item_code   cu_id   cu_name   item_rate  qty  amount  a_sum\n\n  1  27/02/2021   120001    grapes     1005       1210    Rajesh       45      4    180      180\n  2  28/02/2021   120005    grapes     1005       1214    Steve        45      3    135      315\n\nTotal ::                                                                            315\n\n\n  x     date       bill      item     item_code   cu_id   cu_name   item_rate  qty  amount  a_sum\n\n  1  27/02/2021   120002    pears      1003       1211    Rakesh       30      6    180      180\n  2  27/02/2021   120003    pears      1003       1212    Sahil        30      2     60      240\n  3  28/02/2021   120004    pears      1003       1213    Jack         30      8    240      480\n\nTotal ::                                                                            480\n\n\n  x     date       bill      item     item_code   cu_id   cu_name   item_rate  qty  amount  a_sum\n\n  1  27/02/2021   120002    mango      1004       1211    Rakesh       50      8    400      400\n  2  27/02/2021   120003    mango      1004       1212    Sahil        50      6    300      700\n  3  02/03/2021   120006    mango      1004       1215    Rohan        50     12    600     1300\n  4  05/03/2021   120009    mango      1004       1215    Rohan        50     10    500     1800\n  5  05/03/2021   120011    mango      1004       1217    mikul        50      6    300     2100\n\nTotal ::                                                                           2100\n\n\n  x     date       bill      item     item_code   cu_id   cu_name   item_rate  qty  amount  a_sum\n\n  1  27/02/2021   120002    orange     1002       1211    Rakesh       40      6    240      240\n  2  27/02/2021   120003    orange     1002       1212    Sahil        40      4    160      400\n  3  28/02/2021   120004    orange     1002       1213    Jack         40      9    360      760\n  4  02/03/2021   120006    orange     1002       1215    Rohan        40     13    520     1280\n  5  03/03/2021   120007    orange     1002       1211    Rakesh       40     10    400     1680\n\nTotal ::                                                                           1680\n\n\n  x     date       bill      item     item_code   cu_id   cu_name   item_rate  qty  amount  a_sum\n\n  1  27/02/2021   120003    cherry     1012       1212    Sahil        90      5    450      450\n  2  02/03/2021   120006    cherry     1012       1215    Rohan        90      7    630     1080\n  3  05/03/2021   120009    cherry     1012       1215    Rohan        90      8    720     1800\n\nTotal ::                                                                           1800\n\n\n  x     date       bill      item     item_code   cu_id   cu_name   item_rate  qty  amount  a_sum\n\n  1  28/02/2021   120004    pineapple  1007       1213    Jack         60      5    300      300\n\nTotal ::                                                                            300\n\n\n  x     date       bill      item     item_code   cu_id   cu_name   item_rate  qty  amount  a_sum\n\n  1  02/03/2021   120006    guava      1006       1215    Rohan        40      8    320      320\n\nTotal ::                                                                            320\n\n\n  x     date       bill      item     item_code   cu_id   cu_name   item_rate  qty  amount  a_sum\n\n  1  02/03/2021   120006    Strawberry 1010       1215    Rohan       150     10   1500     1500\n\nTotal ::                                                                           1500\n\n\n  x     date       bill      item     item_code   cu_id   cu_name   item_rate  qty  amount  a_sum\n\n  1  03/03/2021   120007    dates      1008       1211    Rakesh      100     15   1500     1500\n  2  04/03/2021   120008    dates      1008       1214    Steve       100     13   1300     2800\n  3  05/03/2021   120009    dates      1008       1215    Rohan       100     12   1200     4000\n  4  05/03/2021   120010    dates      1008       1216    Millan      100      8    800     4800\n\nTotal ::                                                                           4800\n\n\n  x     date       bill      item     item_code   cu_id   cu_name   item_rate  qty  amount  a_sum\n\n  1  03/03/2021   120007    banana     1009       1211    Rakesh       10     10    100      100\n  2  04/03/2021   120008    banana     1009       1214    Steve        10     10    100      200\n\nTotal ::                                                                            200\n\n\n  x     date       bill      item     item_code   cu_id   cu_name   item_rate  qty  amount  a_sum\n\n  1  04/03/2021   120008    Blackberry 1011       1214    Steve       110      2    220      220\n\nTotal ::                                                                            220\n\n\n  x     date       bill      item     item_code   cu_id   cu_name   item_rate  qty  amount  a_sum\n\n  1  05/03/2021   120010    jelly      1013       1216    Millan       20      5    100      100\n\nTotal ::                                                                            100\n\n\n  x     date       bill      item     item_code   cu_id   cu_name   item_rate  qty  amount  a_sum\n\n  1  05/03/2021   120010    jackfruit  1014       1216    Millan       40     50   2000     2000\n\nTotal ::                                                                           2000\n\n\n"
     ]
    }
   ],
   "source": [
    "item_wise_detail_all()"
   ]
  },
  {
   "cell_type": "code",
   "execution_count": 21,
   "metadata": {},
   "outputs": [],
   "source": [
    "\n",
    "\n",
    "def item_wise_summary():\n",
    "\n",
    "    \n",
    "    item = ''\n",
    "    quantity = 0\n",
    "    tr_cu_id = ''\n",
    "    bill = ''\n",
    "    date = ''\n",
    "    tr_cu_name = ''\n",
    "    item_code = ''\n",
    "    item_rate = 0\n",
    "    amount = 0\n",
    "    c_sum = 0\n",
    "    x = 0\n",
    "\n",
    "    print(\"{:<10}   {:<6}     {:<8} {:<8}   {:<7}   {:<5}     {:<6}   {:<4}\".format('Item_Name','Item_Code','Cu_ID','Cu_Name','Bill','Date','Amount','a_sum'))\n",
    "    print()\n",
    "\n",
    "    for u in range(len(tr_item_un)):\n",
    "        i_name = tr_item_un[u]\n",
    "        a_sum = 0\n",
    "    \n",
    "        for i in range(len(tr)):\n",
    "            for j in range(1,len(tr[i])):\n",
    "                item = tr[i][j][0]\n",
    "                quantity = tr[i][j][1]\n",
    "                tr_cu_id = tr[i][0][0]\n",
    "                bill = tr[i][0][1]\n",
    "                date = tr[i][0][2]\n",
    "\n",
    "\n",
    "                for k in range(len(cu)):\n",
    "                    if tr_cu_id == cu[k][0]:\n",
    "                        tr_cu_name = cu[k][1]\n",
    "                for l in range(len(item_detail)):\n",
    "                    if item == item_detail[l][1]:\n",
    "                        item_code = item_detail[l][0]\n",
    "                        item_rate = item_detail[l][2]\n",
    "                amount = item_rate * quantity\n",
    "\n",
    "                if item == i_name:\n",
    "                    a_sum = a_sum + amount\n",
    "                    t_cu_name = tr_cu_name\n",
    "                    t_cu_id = tr_cu_id\n",
    "                    t_bill = bill \n",
    "                    t_date = date\n",
    "                    t_name = tr_cu_name\n",
    "                    t_item_code = i_code\n",
    "                    t_item_name = item\n",
    "        print(\"{:<10}     {:<6}      {:<8} {:<8}  {:<7}  {:<10}  {:>5}  {:>6}\".format(t_item_name,t_item_code,tr_cu_id,tr_cu_name,t_bill,t_date,amount,a_sum))\n",
    "        print()\n",
    "        print(\"Total ::                                                          {:>6}\".format(a_sum))\n"
   ]
  },
  {
   "cell_type": "code",
   "execution_count": 445,
   "metadata": {},
   "outputs": [
    {
     "output_type": "stream",
     "name": "stdout",
     "text": [
      "Cu_Name    Date       Bill        Cu_ID   Amount_Sum    C_Sum\n\nRajesh   27/02/2021  120001       1210       360         360\nRakesh   03/03/2021  120007       1211      2820        3180\nSahil    27/02/2021  120003       1212      1570        4750\nJack     28/02/2021  120004       1213       900        5650\nSteve    04/03/2021  120008       1214      2175        7825\nRohan    05/03/2021  120009       1215      6590       14415\nMillan   05/03/2021  120010       1216      3260       17675\nmikul    05/03/2021  120011       1217       780       18455\n\nTotal ::                                   18455\n"
     ]
    }
   ],
   "source": [
    "\n",
    "\n",
    "item = ''\n",
    "quantity = 0\n",
    "tr_cu_id = ''\n",
    "bill = ''\n",
    "date = ''\n",
    "tr_cu_name = ''\n",
    "item_code = ''\n",
    "item_rate = 0\n",
    "amount = 0\n",
    "c_sum = 0\n",
    "x = 0\n",
    "\n",
    "print(\"{:<8}   {:<8}   {:<10}  {:<6}  {:>6}   {:>6}\".format('Cu_Name','Date','Bill','Cu_ID','Amount_Sum','C_Sum'))\n",
    "print()\n",
    "\n",
    "for u in range(len(tr_cu_un)):\n",
    "    cust_id = tr_cu_un[u]\n",
    "    a_sum = 0\n",
    "\n",
    "    for i in range(len(tr)):\n",
    "        for j in range(1,len(tr[i])):\n",
    "            item = tr[i][j][0]\n",
    "            quantity = tr[i][j][1]\n",
    "            tr_cu_id = tr[i][0][0]\n",
    "            bill = tr[i][0][1]\n",
    "            date = tr[i][0][2]\n",
    "\n",
    "\n",
    "            for k in range(len(cu)):\n",
    "                if tr_cu_id == cu[k][0]:\n",
    "                    tr_cu_name = cu[k][1]\n",
    "            for l in range(len(item_detail)):\n",
    "                if item == item_detail[l][1]:\n",
    "                    item_code = item_detail[l][0]\n",
    "                    item_rate = item_detail[l][2]\n",
    "            amount = item_rate * quantity\n",
    "\n",
    "            if tr_cu_id == cust_id:\n",
    "                a_sum = a_sum + amount\n",
    "                t_name = tr_cu_name\n",
    "                t_id = tr_cu_id\n",
    "                t_bill = bill \n",
    "                t_date = date\n",
    "                t_name = tr_cu_name\n",
    "    c_sum = c_sum + a_sum\n",
    "    print(\"{:<8} {:<8}  {:<10}   {:<6}  {:>6}      {:>6}\".format(t_name,t_date,t_bill,t_id,a_sum,c_sum))\n",
    "print()\n",
    "print(\"Total ::                                  {:>6}\".format(c_sum))\n"
   ]
  },
  {
   "cell_type": "code",
   "execution_count": 273,
   "metadata": {},
   "outputs": [],
   "source": [
    "\n",
    "\n",
    "def item_wise_summary():\n",
    "\n",
    "\n",
    "    item = ''\n",
    "    quantity = 0\n",
    "    tr_cu_id = ''\n",
    "    bill = ''\n",
    "    date = ''\n",
    "    tr_cu_name = ''\n",
    "    item_code = ''\n",
    "    item_rate = 0\n",
    "    amount = 0\n",
    "    c_sum = 0\n",
    "    x = 0\n",
    "\n",
    "    print(\"{:<10}     {:<6}    {:>3}     {:>3}    {:>6}  {:>6}\".format('Item_Name','Item_Code','Item_Rate','Quantity','a_sum','c_sum'))\n",
    "    print()\n",
    "\n",
    "    for u in range(len(tr_item_un)):\n",
    "        i_name = tr_item_un[u]\n",
    "        a_sum = 0\n",
    "\n",
    "        for i in range(len(tr)):\n",
    "            for j in range(1,len(tr[i])):\n",
    "                item = tr[i][j][0]\n",
    "                quantity = tr[i][j][1]\n",
    "                tr_cu_id = tr[i][0][0]\n",
    "                bill = tr[i][0][1]\n",
    "                date = tr[i][0][2]\n",
    "\n",
    "\n",
    "                for k in range(len(cu)):\n",
    "                    if tr_cu_id == cu[k][0]:\n",
    "                        tr_cu_name = cu[k][1]\n",
    "                for l in range(len(item_detail)):\n",
    "                    if item == item_detail[l][1]:\n",
    "                        item_code = item_detail[l][0]\n",
    "                        item_rate = item_detail[l][2]\n",
    "                amount = item_rate * quantity\n",
    "\n",
    "                if item == i_name:\n",
    "                    a_sum = a_sum + amount\n",
    "                    t_item_code = item_code\n",
    "                    t_item_name = item\n",
    "                    t_item_rate = item_rate\n",
    "                    t_item_quantity = quantity\n",
    "        c_sum = c_sum + a_sum            \n",
    "        print(\"{:<10}     {:<6}        {:>3}           {:>3}       {:>6}   {:>6}\".format(t_item_name,t_item_code,t_item_rate,t_item_quantity,a_sum,c_sum))\n",
    "    print()\n",
    "    print(\"Total ::                                             {:>6}\".format(c_sum))\n",
    "    print()\n"
   ]
  },
  {
   "cell_type": "code",
   "execution_count": 274,
   "metadata": {},
   "outputs": [
    {
     "output_type": "stream",
     "name": "stdout",
     "text": [
      "Item_Name      Item_Code    Item_Rate     Quantity     a_sum   c_sum\n\napple          1001           60             8         2640     2640\ngrapes         1005           45             3          315     2955\npears          1003           30             8          480     3435\nmango          1004           50             6         2100     5535\norange         1002           40            10         1680     7215\ncherry         1012           90             8         1800     9015\npineapple      1007           60             5          300     9315\nguava          1006           40             8          320     9635\nStrawberry     1010          150            10         1500    11135\ndates          1008          100             8         4800    15935\nbanana         1009           10            10          200    16135\nBlackberry     1011          110             2          220    16355\njelly          1013           20             5          100    16455\njackfruit      1014           40            50         2000    18455\n\nTotal ::                                              18455\n\n"
     ]
    }
   ],
   "source": [
    "item_wise_summary()"
   ]
  },
  {
   "cell_type": "code",
   "execution_count": 204,
   "metadata": {},
   "outputs": [
    {
     "output_type": "stream",
     "name": "stdout",
     "text": [
      "Item_Name    Item_Code     Cu_ID    Cu_Name    Bill      Date      Amount   a_sum\n\ngrapes         1005        1210     Rajesh    120001   27/02/2021    180     180\ngrapes         1005        1214     Steve     120005   28/02/2021    135     315\n\nTotal ::                                                             315\n\n\nItem_Name    Item_Code     Cu_ID    Cu_Name    Bill      Date      Amount   a_sum\n\norange         1002        1211     Rakesh    120002   27/02/2021    240     240\norange         1002        1212     Sahil     120003   27/02/2021    160     400\norange         1002        1213     Jack      120004   28/02/2021    360     760\norange         1002        1215     Rohan     120006   02/03/2021    520    1280\norange         1002        1211     Rakesh    120007   03/03/2021    400    1680\n\nTotal ::                                                            1680\n\n\nItem_Name    Item_Code     Cu_ID    Cu_Name    Bill      Date      Amount   a_sum\n\napple          1001        1210     Rajesh    120001   27/02/2021    180     180\napple          1001        1212     Sahil     120003   27/02/2021    180     360\napple          1001        1212     Sahil     120003   27/02/2021    420     780\napple          1001        1214     Steve     120005   28/02/2021    420    1200\napple          1001        1215     Rohan     120009   05/03/2021    600    1800\napple          1001        1216     Millan    120010   05/03/2021    360    2160\napple          1001        1217     mikul     120011   05/03/2021    480    2640\n\nTotal ::                                                            2640\n\n\nItem_Name    Item_Code     Cu_ID    Cu_Name    Bill      Date      Amount   a_sum\n\npineapple      1007        1213     Jack      120004   28/02/2021    300     300\n\nTotal ::                                                             300\n\n\nItem_Name    Item_Code     Cu_ID    Cu_Name    Bill      Date      Amount   a_sum\n\ncherry         1012        1212     Sahil     120003   27/02/2021    450     450\ncherry         1012        1215     Rohan     120006   02/03/2021    630    1080\ncherry         1012        1215     Rohan     120009   05/03/2021    720    1800\n\nTotal ::                                                            1800\n\n\nItem_Name    Item_Code     Cu_ID    Cu_Name    Bill      Date      Amount   a_sum\n\nBlackberry     1011        1214     Steve     120008   04/03/2021    220     220\n\nTotal ::                                                             220\n\n\nItem_Name    Item_Code     Cu_ID    Cu_Name    Bill      Date      Amount   a_sum\n\njackfruit      1014        1216     Millan    120010   05/03/2021   2000    2000\n\nTotal ::                                                            2000\n\n\n"
     ]
    }
   ],
   "source": [
    "item_wise_detail_all()"
   ]
  },
  {
   "cell_type": "code",
   "execution_count": 323,
   "metadata": {},
   "outputs": [],
   "source": [
    "\n",
    "\n",
    "def item_wise_summary():\n",
    "\n",
    "\n",
    "    item = ''\n",
    "    quantity = 0\n",
    "    tr_cu_id = ''\n",
    "    bill = ''\n",
    "    date = ''\n",
    "    tr_cu_name = ''\n",
    "    item_code = ''\n",
    "    item_rate = 0\n",
    "    amount = 0\n",
    "    c_sum = 0\n",
    "    x = 0\n",
    "\n",
    "    print(\"{:<10}     {:<6}        {:>6}\".format('Item_Name','Item_Code','Amount'))\n",
    "    print()\n",
    "\n",
    "    for u in range(len(tr_item_un)):\n",
    "        i_name = tr_item_un[u]\n",
    "        a_sum = 0\n",
    "\n",
    "        for i in range(len(tr)):\n",
    "            for j in range(1,len(tr[i])):\n",
    "                item = tr[i][j][0]\n",
    "                quantity = tr[i][j][1]\n",
    "                tr_cu_id = tr[i][0][0]\n",
    "                bill = tr[i][0][1]\n",
    "                date = tr[i][0][2]\n",
    "\n",
    "\n",
    "                for k in range(len(cu)):\n",
    "                    if tr_cu_id == cu[k][0]:\n",
    "                        tr_cu_name = cu[k][1]\n",
    "                for l in range(len(item_detail)):\n",
    "                    if item == item_detail[l][1]:\n",
    "                        item_code = item_detail[l][0]\n",
    "                        item_rate = item_detail[l][2]\n",
    "                amount = item_rate * quantity\n",
    "\n",
    "                if item == i_name:\n",
    "                    a_sum = a_sum + amount\n",
    "                    t_item_code = item_code\n",
    "                    t_item_name = item\n",
    "\n",
    "        c_sum = c_sum + a_sum            \n",
    "        print(\"{:<10}       {:<6}        {:>6}\".format(t_item_name,t_item_code,a_sum))\n",
    "    print()\n",
    "    print(\"Total ::                       {:>6}\".format(c_sum))\n",
    "    print()\n"
   ]
  },
  {
   "cell_type": "code",
   "execution_count": 324,
   "metadata": {},
   "outputs": [
    {
     "output_type": "stream",
     "name": "stdout",
     "text": [
      "Item_Name      Item_Code        Amount\n\napple            1001            2640\ngrapes           1005             315\npears            1003             480\nmango            1004            2100\norange           1002            1680\ncherry           1012            1800\npineapple        1007             300\nguava            1006             320\nStrawberry       1010            1500\ndates            1008            4800\nbanana           1009             200\nBlackberry       1011             220\njelly            1013             100\njackfruit        1014            2000\n\nTotal ::                        18455\n\n"
     ]
    }
   ],
   "source": [
    "item_wise_summary()"
   ]
  },
  {
   "cell_type": "code",
   "execution_count": 115,
   "metadata": {},
   "outputs": [
    {
     "output_type": "execute_result",
     "data": {
      "text/plain": [
       "['grapes', 'orange', 'apple', 'pineapple', 'cherry', 'Blackberry', 'jackfruit']"
      ]
     },
     "metadata": {},
     "execution_count": 115
    }
   ],
   "source": [
    "tr_item_un"
   ]
  },
  {
   "cell_type": "code",
   "execution_count": 102,
   "metadata": {},
   "outputs": [
    {
     "output_type": "stream",
     "name": "stdout",
     "text": [
      "Item_Name    Item_Code     Cu_ID    Cu_Name    Bill      Date      Amount   a_sum\n\ngrapes         1005        1210     Rajesh    120001   27/02/2021    180     180\ngrapes         1005        1214     Steve     120005   28/02/2021    135     315\n\nTotal ::                                                             315\n\n\nItem_Name    Item_Code     Cu_ID    Cu_Name    Bill      Date      Amount   a_sum\n\norange         1002        1211     Rakesh    120002   27/02/2021    240     240\norange         1002        1212     Sahil     120003   27/02/2021    160     400\norange         1002        1213     Jack      120004   28/02/2021    360     760\norange         1002        1215     Rohan     120006   02/03/2021    520    1280\norange         1002        1211     Rakesh    120007   03/03/2021    400    1680\n\nTotal ::                                                            1680\n\n\nItem_Name    Item_Code     Cu_ID    Cu_Name    Bill      Date      Amount   a_sum\n\napple          1001        1210     Rajesh    120001   27/02/2021    180     180\napple          1001        1212     Sahil     120003   27/02/2021    180     360\napple          1001        1212     Sahil     120003   27/02/2021    420     780\napple          1001        1214     Steve     120005   28/02/2021    420    1200\napple          1001        1215     Rohan     120009   05/03/2021    600    1800\napple          1001        1216     Millan    120010   05/03/2021    360    2160\napple          1001        1217     mikul     120011   05/03/2021    480    2640\n\nTotal ::                                                            2640\n\n\nItem_Name    Item_Code     Cu_ID    Cu_Name    Bill      Date      Amount   a_sum\n\npineapple      1007        1213     Jack      120004   28/02/2021    300     300\n\nTotal ::                                                             300\n\n\nItem_Name    Item_Code     Cu_ID    Cu_Name    Bill      Date      Amount   a_sum\n\ncherry         1012        1212     Sahil     120003   27/02/2021    450     450\ncherry         1012        1215     Rohan     120006   02/03/2021    630    1080\ncherry         1012        1215     Rohan     120009   05/03/2021    720    1800\n\nTotal ::                                                            1800\n\n\nItem_Name    Item_Code     Cu_ID    Cu_Name    Bill      Date      Amount   a_sum\n\nBlackberry     1011        1214     Steve     120008   04/03/2021    220     220\n\nTotal ::                                                             220\n\n\nItem_Name    Item_Code     Cu_ID    Cu_Name    Bill      Date      Amount   a_sum\n\njackfruit      1014        1216     Millan    120010   05/03/2021   2000    2000\n\nTotal ::                                                            2000\n\n\n"
     ]
    }
   ],
   "source": [
    "item_wise_detail_all()"
   ]
  },
  {
   "cell_type": "code",
   "execution_count": 103,
   "metadata": {},
   "outputs": [
    {
     "output_type": "stream",
     "name": "stdout",
     "text": [
      "Cu_Name    Date       Bill        Cu_ID   Amount_Sum    C_Sum\n\nRajesh   27/02/2021  120001       1210       360         360\nRakesh   03/03/2021  120007       1211      2820        3180\nSahil    27/02/2021  120003       1212      1570        4750\nJack     28/02/2021  120004       1213       900        5650\nSteve    04/03/2021  120008       1214      2175        7825\nRohan    05/03/2021  120009       1215      6590       14415\nMillan   05/03/2021  120010       1216      3260       17675\nmikul    05/03/2021  120011       1217       780       18455\n\nTotal ::                                   18455\n"
     ]
    }
   ],
   "source": [
    "cust_wise_summary()"
   ]
  },
  {
   "cell_type": "code",
   "execution_count": 189,
   "metadata": {},
   "outputs": [],
   "source": [
    "\n",
    "\n",
    "def main_tr_db():\n",
    "\n",
    "\n",
    "    item = ''\n",
    "    quantity = 0\n",
    "    tr_cu_id = ''\n",
    "    bill = ''\n",
    "    date = ''\n",
    "    tr_cu_name = ''\n",
    "    item_code = ''\n",
    "    item_rate = 0\n",
    "    amount = 0\n",
    "    a_sum = 0\n",
    "    x = 0\n",
    "\n",
    "    print(\"{:>3}   {:<10}   {:<8}  {:<6}   {:<5}   {:<5}   {:<8}  {:>3}  {:>3}  {:>6}   {:>6}\".format('x','date','bill','item','item_code','cu_id',\\\n",
    "                'cu_name','item_rate','qty','amount','a_sum'))\n",
    "    print()\n",
    "\n",
    "\n",
    "    for i in range(len(tr)):\n",
    "        for j in range(1,len(tr[i])):\n",
    "            item = tr[i][j][0]\n",
    "            quantity = tr[i][j][1]\n",
    "            tr_cu_id = tr[i][0][0]\n",
    "            bill = tr[i][0][1]\n",
    "            date = tr[i][0][2]\n",
    "\n",
    "\n",
    "            for k in range(len(cu)):\n",
    "                if tr_cu_id == cu[k][0]:\n",
    "                    tr_cu_name = cu[k][1]\n",
    "            for l in range(len(item_detail)):\n",
    "                if item == item_detail[l][1]:\n",
    "                    item_code = item_detail[l][0]\n",
    "                    item_rate = item_detail[l][2]\n",
    "            amount = item_rate * quantity\n",
    "            a_sum = a_sum + amount   \n",
    "            x = x+1  \n",
    "                \n",
    "            print(\"{:>3}  {:<10}   {:<8}  {:<10} {:<5}      {:<5}   {:<8}    {:>3}    {:>3} {:>6}   {:>6}\".format(x,date,bill,item,item_code,tr_cu_id,\\\n",
    "                tr_cu_name,item_rate,quantity,amount,a_sum))\n",
    "    print()\n",
    "    print(\"Total ::                                                                         {:>6}\".format(a_sum))\n",
    "            \n"
   ]
  },
  {
   "cell_type": "code",
   "execution_count": 190,
   "metadata": {},
   "outputs": [
    {
     "output_type": "stream",
     "name": "stdout",
     "text": [
      "  x   date         bill      item     item_code   cu_id   cu_name   item_rate  qty  amount    a_sum\n\n  1  27/02/2021   120001    apple      1001       1210    Rajesh       60      3    180      180\n  2  27/02/2021   120001    grapes     1005       1210    Rajesh       45      4    180      360\n  3  27/02/2021   120002    pears      1003       1211    Rakesh       30      6    180      540\n  4  27/02/2021   120002    mango      1004       1211    Rakesh       50      8    400      940\n  5  27/02/2021   120002    orange     1002       1211    Rakesh       40      6    240     1180\n  6  27/02/2021   120003    pears      1003       1212    Sahil        30      2     60     1240\n  7  27/02/2021   120003    apple      1001       1212    Sahil        60      3    180     1420\n  8  27/02/2021   120003    orange     1002       1212    Sahil        40      4    160     1580\n  9  27/02/2021   120003    cherry     1012       1212    Sahil        90      5    450     2030\n 10  27/02/2021   120003    mango      1004       1212    Sahil        50      6    300     2330\n 11  27/02/2021   120003    apple      1001       1212    Sahil        60      7    420     2750\n 12  28/02/2021   120004    orange     1002       1213    Jack         40      9    360     3110\n 13  28/02/2021   120004    pears      1003       1213    Jack         30      8    240     3350\n 14  28/02/2021   120004    pineapple  1007       1213    Jack         60      5    300     3650\n 15  28/02/2021   120005    grapes     1005       1214    Steve        45      3    135     3785\n 16  28/02/2021   120005    apple      1001       1214    Steve        60      7    420     4205\n 17  02/03/2021   120006    mango      1004       1215    Rohan        50     12    600     4805\n 18  02/03/2021   120006    orange     1002       1215    Rohan        40     13    520     5325\n 19  02/03/2021   120006    guava      1006       1215    Rohan        40      8    320     5645\n 20  02/03/2021   120006    Strawberry 1010       1215    Rohan       150     10   1500     7145\n 21  02/03/2021   120006    cherry     1012       1215    Rohan        90      7    630     7775\n 22  03/03/2021   120007    dates      1008       1211    Rakesh      100     15   1500     9275\n 23  03/03/2021   120007    banana     1009       1211    Rakesh       10     10    100     9375\n 24  03/03/2021   120007    orange     1002       1211    Rakesh       40     10    400     9775\n 25  04/03/2021   120008    dates      1008       1214    Steve       100     13   1300    11075\n 26  04/03/2021   120008    banana     1009       1214    Steve        10     10    100    11175\n 27  04/03/2021   120008    Blackberry 1011       1214    Steve       110      2    220    11395\n 28  05/03/2021   120009    dates      1008       1215    Rohan       100     12   1200    12595\n 29  05/03/2021   120009    apple      1001       1215    Rohan        60     10    600    13195\n 30  05/03/2021   120009    mango      1004       1215    Rohan        50     10    500    13695\n 31  05/03/2021   120009    cherry     1012       1215    Rohan        90      8    720    14415\n 32  05/03/2021   120010    apple      1001       1216    Millan       60      6    360    14775\n 33  05/03/2021   120010    dates      1008       1216    Millan      100      8    800    15575\n 34  05/03/2021   120010    jelly      1013       1216    Millan       20      5    100    15675\n 35  05/03/2021   120010    jackfruit  1014       1216    Millan       40     50   2000    17675\n 36  05/03/2021   120011    mango      1004       1217    mikul        50      6    300    17975\n 37  05/03/2021   120011    apple      1001       1217    mikul        60      8    480    18455\n\nTotal ::                                                                          18455\n"
     ]
    }
   ],
   "source": [
    "main_tr_db()"
   ]
  },
  {
   "cell_type": "code",
   "execution_count": 307,
   "metadata": {},
   "outputs": [],
   "source": [
    "\n",
    "\n",
    "\n",
    "\n",
    "def item_wise_detail(i_name):\n",
    "    i_name = i_name\n",
    "\n",
    "    item = ''\n",
    "    quantity = 0\n",
    "    tr_cu_id = ''\n",
    "    bill = ''\n",
    "    date = ''\n",
    "    tr_cu_name = ''\n",
    "    item_code = ''\n",
    "    item_rate = 0\n",
    "    amount = 0\n",
    "    a_sum = 0\n",
    "    x = 0\n",
    "    \n",
    "    print(\"{:>3}     {:<10} {:<8}  {:<6}   {:<5}   {:<5}   {:<8}  {:>3}  {:>3}  {:>6} {:>6}\".format('x','date','bill','item','item_code','cu_id',\\\n",
    "                'cu_name','item_rate','qty','amount','a_sum'))\n",
    "    print()\n",
    "\n",
    "\n",
    "    for i in range(len(tr)):\n",
    "        for j in range(1,len(tr[i])):\n",
    "            item = tr[i][j][0]\n",
    "            quantity = tr[i][j][1]\n",
    "            tr_cu_id = tr[i][0][0]\n",
    "            bill = tr[i][0][1]\n",
    "            date = tr[i][0][2]\n",
    "\n",
    "\n",
    "            for k in range(len(cu)):\n",
    "                if tr_cu_id == cu[k][0]:\n",
    "                    tr_cu_name = cu[k][1]\n",
    "            for l in range(len(item_detail)):\n",
    "                if item == item_detail[l][1]:\n",
    "                    item_code = item_detail[l][0]\n",
    "                    item_rate = item_detail[l][2]\n",
    "            amount = item_rate * quantity\n",
    "\n",
    "\n",
    "            if item == i_name:\n",
    "                a_sum = a_sum + amount\n",
    "                x = x+1\n",
    "\n",
    "                print(\"{:>3}  {:<10}   {:<8}  {:<10} {:<5}      {:<5}   {:<8}    {:>3}    {:>3} {:>6}   {:>6}\".format(x,date,bill,item,\\\n",
    "                    item_code,tr_cu_id,tr_cu_name,item_rate,quantity,amount,a_sum))\n",
    "    print()\n",
    "    print(\"Total ::                                                                         {:>6}\".format(a_sum))\n",
    "                \n"
   ]
  },
  {
   "cell_type": "code",
   "execution_count": 308,
   "metadata": {},
   "outputs": [
    {
     "output_type": "stream",
     "name": "stdout",
     "text": [
      "  x     date       bill      item     item_code   cu_id   cu_name   item_rate  qty  amount  a_sum\n\n  1  27/02/2021   120001    apple      1001       1210    Rajesh       60      3    180      180\n  2  27/02/2021   120003    apple      1001       1212    Sahil        60      3    180      360\n  3  27/02/2021   120003    apple      1001       1212    Sahil        60      7    420      780\n  4  28/02/2021   120005    apple      1001       1214    Steve        60      7    420     1200\n  5  05/03/2021   120009    apple      1001       1215    Rohan        60     10    600     1800\n  6  05/03/2021   120010    apple      1001       1216    Millan       60      6    360     2160\n  7  05/03/2021   120011    apple      1001       1217    mikul        60      8    480     2640\n\nTotal ::                                                                           2640\n"
     ]
    }
   ],
   "source": [
    "item_wise_detail('apple')"
   ]
  },
  {
   "cell_type": "code",
   "execution_count": 284,
   "metadata": {},
   "outputs": [
    {
     "output_type": "stream",
     "name": "stdout",
     "text": [
      "Item_Name    Item_Code     Cu_ID    Cu_Name    Bill      Date      Amount   a_sum\n\napple          1001        1210     Rajesh    120001   27/02/2021    180     180\napple          1001        1212     Sahil     120003   27/02/2021    180     360\napple          1001        1212     Sahil     120003   27/02/2021    420     780\napple          1001        1214     Steve     120005   28/02/2021    420    1200\napple          1001        1215     Rohan     120009   05/03/2021    600    1800\napple          1001        1216     Millan    120010   05/03/2021    360    2160\napple          1001        1217     mikul     120011   05/03/2021    480    2640\n\nTotal ::                                                            2640\n"
     ]
    }
   ],
   "source": [
    "item_wise_detail('apple')"
   ]
  },
  {
   "cell_type": "code",
   "execution_count": 285,
   "metadata": {},
   "outputs": [
    {
     "output_type": "stream",
     "name": "stdout",
     "text": [
      "Item_Name    Item_Code     Cu_ID    Cu_Name    Bill      Date      Amount   a_sum\n\napple          1001        1210     Rajesh    120001   27/02/2021    180     180\napple          1001        1212     Sahil     120003   27/02/2021    180     360\napple          1001        1212     Sahil     120003   27/02/2021    420     780\napple          1001        1214     Steve     120005   28/02/2021    420    1200\napple          1001        1215     Rohan     120009   05/03/2021    600    1800\napple          1001        1216     Millan    120010   05/03/2021    360    2160\napple          1001        1217     mikul     120011   05/03/2021    480    2640\n\nTotal ::                                                            2640\n\n\nItem_Name    Item_Code     Cu_ID    Cu_Name    Bill      Date      Amount   a_sum\n\ngrapes         1005        1210     Rajesh    120001   27/02/2021    180     180\ngrapes         1005        1214     Steve     120005   28/02/2021    135     315\n\nTotal ::                                                             315\n\n\nItem_Name    Item_Code     Cu_ID    Cu_Name    Bill      Date      Amount   a_sum\n\npears          1003        1211     Rakesh    120002   27/02/2021    180     180\npears          1003        1212     Sahil     120003   27/02/2021     60     240\npears          1003        1213     Jack      120004   28/02/2021    240     480\n\nTotal ::                                                             480\n\n\nItem_Name    Item_Code     Cu_ID    Cu_Name    Bill      Date      Amount   a_sum\n\nmango          1004        1211     Rakesh    120002   27/02/2021    400     400\nmango          1004        1212     Sahil     120003   27/02/2021    300     700\nmango          1004        1215     Rohan     120006   02/03/2021    600    1300\nmango          1004        1215     Rohan     120009   05/03/2021    500    1800\nmango          1004        1217     mikul     120011   05/03/2021    300    2100\n\nTotal ::                                                            2100\n\n\nItem_Name    Item_Code     Cu_ID    Cu_Name    Bill      Date      Amount   a_sum\n\norange         1002        1211     Rakesh    120002   27/02/2021    240     240\norange         1002        1212     Sahil     120003   27/02/2021    160     400\norange         1002        1213     Jack      120004   28/02/2021    360     760\norange         1002        1215     Rohan     120006   02/03/2021    520    1280\norange         1002        1211     Rakesh    120007   03/03/2021    400    1680\n\nTotal ::                                                            1680\n\n\nItem_Name    Item_Code     Cu_ID    Cu_Name    Bill      Date      Amount   a_sum\n\ncherry         1012        1212     Sahil     120003   27/02/2021    450     450\ncherry         1012        1215     Rohan     120006   02/03/2021    630    1080\ncherry         1012        1215     Rohan     120009   05/03/2021    720    1800\n\nTotal ::                                                            1800\n\n\nItem_Name    Item_Code     Cu_ID    Cu_Name    Bill      Date      Amount   a_sum\n\npineapple      1007        1213     Jack      120004   28/02/2021    300     300\n\nTotal ::                                                             300\n\n\nItem_Name    Item_Code     Cu_ID    Cu_Name    Bill      Date      Amount   a_sum\n\nguava          1006        1215     Rohan     120006   02/03/2021    320     320\n\nTotal ::                                                             320\n\n\nItem_Name    Item_Code     Cu_ID    Cu_Name    Bill      Date      Amount   a_sum\n\nStrawberry     1010        1215     Rohan     120006   02/03/2021   1500    1500\n\nTotal ::                                                            1500\n\n\nItem_Name    Item_Code     Cu_ID    Cu_Name    Bill      Date      Amount   a_sum\n\ndates          1008        1211     Rakesh    120007   03/03/2021   1500    1500\ndates          1008        1214     Steve     120008   04/03/2021   1300    2800\ndates          1008        1215     Rohan     120009   05/03/2021   1200    4000\ndates          1008        1216     Millan    120010   05/03/2021    800    4800\n\nTotal ::                                                            4800\n\n\nItem_Name    Item_Code     Cu_ID    Cu_Name    Bill      Date      Amount   a_sum\n\nbanana         1009        1211     Rakesh    120007   03/03/2021    100     100\nbanana         1009        1214     Steve     120008   04/03/2021    100     200\n\nTotal ::                                                             200\n\n\nItem_Name    Item_Code     Cu_ID    Cu_Name    Bill      Date      Amount   a_sum\n\nBlackberry     1011        1214     Steve     120008   04/03/2021    220     220\n\nTotal ::                                                             220\n\n\nItem_Name    Item_Code     Cu_ID    Cu_Name    Bill      Date      Amount   a_sum\n\njelly          1013        1216     Millan    120010   05/03/2021    100     100\n\nTotal ::                                                             100\n\n\nItem_Name    Item_Code     Cu_ID    Cu_Name    Bill      Date      Amount   a_sum\n\njackfruit      1014        1216     Millan    120010   05/03/2021   2000    2000\n\nTotal ::                                                            2000\n\n\n"
     ]
    }
   ],
   "source": [
    "item_wise_detail_all()"
   ]
  },
  {
   "cell_type": "code",
   "execution_count": 286,
   "metadata": {},
   "outputs": [
    {
     "output_type": "stream",
     "name": "stdout",
     "text": [
      "Item_Name      Item_Code    Item_Rate     Quantity     a_sum   c_sum\n\napple          1001           60             8         2640     2640\ngrapes         1005           45             3          315     2955\npears          1003           30             8          480     3435\nmango          1004           50             6         2100     5535\norange         1002           40            10         1680     7215\ncherry         1012           90             8         1800     9015\npineapple      1007           60             5          300     9315\nguava          1006           40             8          320     9635\nStrawberry     1010          150            10         1500    11135\ndates          1008          100             8         4800    15935\nbanana         1009           10            10          200    16135\nBlackberry     1011          110             2          220    16355\njelly          1013           20             5          100    16455\njackfruit      1014           40            50         2000    18455\n\nTotal ::                                              18455\n\n"
     ]
    }
   ],
   "source": [
    "item_wise_summary()"
   ]
  },
  {
   "cell_type": "code",
   "execution_count": 298,
   "metadata": {},
   "outputs": [],
   "source": [
    "def item_wise_amount(i_name):\n",
    "    i_name = i_name\n",
    "\n",
    "    item = ''\n",
    "    quantity = 0\n",
    "    tr_cu_id = ''\n",
    "    bill = ''\n",
    "    date = ''\n",
    "    tr_cu_name = ''\n",
    "    item_code = ''\n",
    "    item_rate = 0\n",
    "    amount = 0\n",
    "    a_sum = 0\n",
    "    x = 0\n",
    "\n",
    "    print(\"  {:<10}   {:<6}   {:>3}   {:>6}   {:>6}\".format('Item_name','Item_Code','Item_Rate','Quantity','T_Amount'))\n",
    "    print()\n",
    "\n",
    "    for i in range(len(tr)):\n",
    "        for j in range(1,len(tr[i])):\n",
    "            item = tr[i][j][0]\n",
    "            quantity = tr[i][j][1]\n",
    "            tr_cu_id = tr[i][0][0]\n",
    "            bill = tr[i][0][1]\n",
    "            date = tr[i][0][2]\n",
    "\n",
    "\n",
    "            for k in range(len(cu)):\n",
    "                if tr_cu_id == cu[k][0]:\n",
    "                    tr_cu_name = cu[k][1]\n",
    "            for l in range(len(item_detail)):\n",
    "                if item == item_detail[l][1]:\n",
    "                    item_code = item_detail[l][0]\n",
    "                    item_rate = item_detail[l][2]\n",
    "            amount = item_rate * quantity\n",
    "        \n",
    "            \n",
    "\n",
    "            if item == i_name:\n",
    "                a_sum = a_sum + amount\n",
    "                t_item_name = i_name\n",
    "                t_item_code = item_code\n",
    "                t_item_rate = item_rate\n",
    "                t_item_quantity = quantity\n",
    "                        \n",
    "    print(\"  {:<10}     {:<6}      {:>3}     {:>6}       {:>6}\".format(t_item_name,t_item_code,t_item_rate,t_item_quantity,a_sum))\n",
    "    print()\n",
    "                "
   ]
  },
  {
   "cell_type": "code",
   "execution_count": 300,
   "metadata": {},
   "outputs": [
    {
     "output_type": "stream",
     "name": "stdout",
     "text": [
      "  Item_name    Item_Code   Item_Rate   Quantity   T_Amount\n\n  apple          1001         60          8         2640\n\n"
     ]
    }
   ],
   "source": [
    "item_wise_amount('apple')"
   ]
  },
  {
   "cell_type": "code",
   "execution_count": 309,
   "metadata": {},
   "outputs": [
    {
     "output_type": "stream",
     "name": "stdout",
     "text": [
      "  x     date       bill      item     item_code   cu_id   cu_name   item_rate  qty  amount  a_sum\n\n  1  27/02/2021   120001    apple      1001       1210    Rajesh       60      3    180      180\n  2  27/02/2021   120003    apple      1001       1212    Sahil        60      3    180      360\n  3  27/02/2021   120003    apple      1001       1212    Sahil        60      7    420      780\n  4  28/02/2021   120005    apple      1001       1214    Steve        60      7    420     1200\n  5  05/03/2021   120009    apple      1001       1215    Rohan        60     10    600     1800\n  6  05/03/2021   120010    apple      1001       1216    Millan       60      6    360     2160\n  7  05/03/2021   120011    apple      1001       1217    mikul        60      8    480     2640\n\nTotal ::                                                                           2640\n"
     ]
    }
   ],
   "source": [
    "item_wise_detail('apple')"
   ]
  },
  {
   "cell_type": "code",
   "execution_count": 329,
   "metadata": {},
   "outputs": [
    {
     "output_type": "stream",
     "name": "stdout",
     "text": [
      "Item_Name      Item_Code        Amount\n\napple            1001            2640\ngrapes           1005             315\npears            1003             480\nmango            1004            2100\norange           1002            1680\ncherry           1012            1800\npineapple        1007             300\nguava            1006             320\nStrawberry       1010            1500\ndates            1008            4800\nbanana           1009             200\nBlackberry       1011             220\njelly            1013             100\njackfruit        1014            2000\n\nTotal ::                        18455\n\n"
     ]
    }
   ],
   "source": [
    "item_wise_summary()"
   ]
  },
  {
   "cell_type": "code",
   "execution_count": 327,
   "metadata": {},
   "outputs": [],
   "source": [
    "def item_wise_detail_all():\n",
    "    for i in range(len(tr_item_un)):\n",
    "        item_wise_detail(tr_item_un[i])\n",
    "        print()\n",
    "        print()"
   ]
  },
  {
   "cell_type": "code",
   "execution_count": 328,
   "metadata": {},
   "outputs": [
    {
     "output_type": "stream",
     "name": "stdout",
     "text": [
      "  x     date       bill      item     item_code   cu_id   cu_name   item_rate  qty  amount  a_sum\n\n  1  27/02/2021   120001    apple      1001       1210    Rajesh       60      3    180      180\n  2  27/02/2021   120003    apple      1001       1212    Sahil        60      3    180      360\n  3  27/02/2021   120003    apple      1001       1212    Sahil        60      7    420      780\n  4  28/02/2021   120005    apple      1001       1214    Steve        60      7    420     1200\n  5  05/03/2021   120009    apple      1001       1215    Rohan        60     10    600     1800\n  6  05/03/2021   120010    apple      1001       1216    Millan       60      6    360     2160\n  7  05/03/2021   120011    apple      1001       1217    mikul        60      8    480     2640\n\nTotal ::                                                                           2640\n\n\n  x     date       bill      item     item_code   cu_id   cu_name   item_rate  qty  amount  a_sum\n\n  1  27/02/2021   120001    grapes     1005       1210    Rajesh       45      4    180      180\n  2  28/02/2021   120005    grapes     1005       1214    Steve        45      3    135      315\n\nTotal ::                                                                            315\n\n\n  x     date       bill      item     item_code   cu_id   cu_name   item_rate  qty  amount  a_sum\n\n  1  27/02/2021   120002    pears      1003       1211    Rakesh       30      6    180      180\n  2  27/02/2021   120003    pears      1003       1212    Sahil        30      2     60      240\n  3  28/02/2021   120004    pears      1003       1213    Jack         30      8    240      480\n\nTotal ::                                                                            480\n\n\n  x     date       bill      item     item_code   cu_id   cu_name   item_rate  qty  amount  a_sum\n\n  1  27/02/2021   120002    mango      1004       1211    Rakesh       50      8    400      400\n  2  27/02/2021   120003    mango      1004       1212    Sahil        50      6    300      700\n  3  02/03/2021   120006    mango      1004       1215    Rohan        50     12    600     1300\n  4  05/03/2021   120009    mango      1004       1215    Rohan        50     10    500     1800\n  5  05/03/2021   120011    mango      1004       1217    mikul        50      6    300     2100\n\nTotal ::                                                                           2100\n\n\n  x     date       bill      item     item_code   cu_id   cu_name   item_rate  qty  amount  a_sum\n\n  1  27/02/2021   120002    orange     1002       1211    Rakesh       40      6    240      240\n  2  27/02/2021   120003    orange     1002       1212    Sahil        40      4    160      400\n  3  28/02/2021   120004    orange     1002       1213    Jack         40      9    360      760\n  4  02/03/2021   120006    orange     1002       1215    Rohan        40     13    520     1280\n  5  03/03/2021   120007    orange     1002       1211    Rakesh       40     10    400     1680\n\nTotal ::                                                                           1680\n\n\n  x     date       bill      item     item_code   cu_id   cu_name   item_rate  qty  amount  a_sum\n\n  1  27/02/2021   120003    cherry     1012       1212    Sahil        90      5    450      450\n  2  02/03/2021   120006    cherry     1012       1215    Rohan        90      7    630     1080\n  3  05/03/2021   120009    cherry     1012       1215    Rohan        90      8    720     1800\n\nTotal ::                                                                           1800\n\n\n  x     date       bill      item     item_code   cu_id   cu_name   item_rate  qty  amount  a_sum\n\n  1  28/02/2021   120004    pineapple  1007       1213    Jack         60      5    300      300\n\nTotal ::                                                                            300\n\n\n  x     date       bill      item     item_code   cu_id   cu_name   item_rate  qty  amount  a_sum\n\n  1  02/03/2021   120006    guava      1006       1215    Rohan        40      8    320      320\n\nTotal ::                                                                            320\n\n\n  x     date       bill      item     item_code   cu_id   cu_name   item_rate  qty  amount  a_sum\n\n  1  02/03/2021   120006    Strawberry 1010       1215    Rohan       150     10   1500     1500\n\nTotal ::                                                                           1500\n\n\n  x     date       bill      item     item_code   cu_id   cu_name   item_rate  qty  amount  a_sum\n\n  1  03/03/2021   120007    dates      1008       1211    Rakesh      100     15   1500     1500\n  2  04/03/2021   120008    dates      1008       1214    Steve       100     13   1300     2800\n  3  05/03/2021   120009    dates      1008       1215    Rohan       100     12   1200     4000\n  4  05/03/2021   120010    dates      1008       1216    Millan      100      8    800     4800\n\nTotal ::                                                                           4800\n\n\n  x     date       bill      item     item_code   cu_id   cu_name   item_rate  qty  amount  a_sum\n\n  1  03/03/2021   120007    banana     1009       1211    Rakesh       10     10    100      100\n  2  04/03/2021   120008    banana     1009       1214    Steve        10     10    100      200\n\nTotal ::                                                                            200\n\n\n  x     date       bill      item     item_code   cu_id   cu_name   item_rate  qty  amount  a_sum\n\n  1  04/03/2021   120008    Blackberry 1011       1214    Steve       110      2    220      220\n\nTotal ::                                                                            220\n\n\n  x     date       bill      item     item_code   cu_id   cu_name   item_rate  qty  amount  a_sum\n\n  1  05/03/2021   120010    jelly      1013       1216    Millan       20      5    100      100\n\nTotal ::                                                                            100\n\n\n  x     date       bill      item     item_code   cu_id   cu_name   item_rate  qty  amount  a_sum\n\n  1  05/03/2021   120010    jackfruit  1014       1216    Millan       40     50   2000     2000\n\nTotal ::                                                                           2000\n\n\n"
     ]
    }
   ],
   "source": [
    "item_wise_detail_all()"
   ]
  },
  {
   "cell_type": "code",
   "execution_count": null,
   "metadata": {},
   "outputs": [],
   "source": [
    "item = ''\n",
    "quantity = 0\n",
    "tr_cu_id = ''\n",
    "bill = ''\n",
    "date = ''\n",
    "tr_cu_name = ''\n",
    "item_code = ''\n",
    "item_rate = 0\n",
    "amount = 0\n",
    "a_sum = 0\n",
    "x = 0\n",
    "\n",
    "print(\"{}     {}     {}  {:<8}  {:<10} {:>3} {:>3} {:>4} {:>5} \".format('bill','date','tr_cu_id','tr_cu_name','item','item_rate','quantity','amount','a_sum'))\n",
    "print()\n",
    "\n",
    "for i in range(len(tr)):\n",
    "    for j in range(1,len(tr[i])):\n",
    "        item = tr[i][j][0]\n",
    "        quantity = tr[i][j][1]\n",
    "        tr_cu_id = tr[i][0][0]\n",
    "        bill = tr[i][0][1]\n",
    "        date = tr[i][0][2]\n",
    "\n",
    "\n",
    "        for k in range(len(cu)):\n",
    "            if tr_cu_id == cu[k][0]:\n",
    "                tr_cu_name = cu[k][1]\n",
    "        for l in range(len(item_detail)):\n",
    "            if item == item_detail[l][1]:\n",
    "                item_code = item_detail[l][0]\n",
    "                item_rate = item_detail[l][2]\n",
    "        amount = item_rate * quantity\n",
    "        a_sum = a_sum + amount\n",
    "        x = x+1\n",
    "\n",
    "\n",
    "\n",
    "\n",
    "        \n",
    "        print(\"{} {}  {}       {:<8}  {:<10} {:>3}        {:>3}     {:>4}   {:>5} \".format(bill,date,tr_cu_id,tr_cu_name,item,item_rate,quantity,amount,a_sum))\n",
    "print()\n",
    "print(\"Total ::                                                             {:>5}\".format(a_sum))\n"
   ]
  }
 ]
}